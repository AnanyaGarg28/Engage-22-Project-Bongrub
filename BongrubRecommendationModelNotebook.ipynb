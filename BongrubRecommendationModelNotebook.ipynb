{
  "nbformat": 4,
  "nbformat_minor": 0,
  "metadata": {
    "colab": {
      "name": "BongrubRecommendationModelNotebook.ipynb",
      "provenance": [],
      "collapsed_sections": [
        "uHPf3Tv-gRJJ",
        "HACv2gglUZ0a",
        "WM8PU4C1-x6B",
        "pSkfWIkEKl94",
        "Cl6PeIwNKrcB",
        "nFOEFKJj5HjI",
        "25N2LgEhQ5pg",
        "AaNFy87yRCTa",
        "bNPzXs_5o-Js",
        "fYDzIbL9Z997",
        "70PZbAJnZzsj",
        "z4drsQnlZimr",
        "cvIZ5rhyaY3Z",
        "tU-Fsdh0e9Bp",
        "t6VmUILJhpIJ",
        "axzN1uyFrpnX",
        "lh7DjyMA0XPR",
        "SsXe6iWS2JMC",
        "O0XIxWycsCBC",
        "WzcBhZ0WiAq9"
      ]
    },
    "kernelspec": {
      "name": "python3",
      "display_name": "Python 3"
    },
    "language_info": {
      "name": "python"
    }
  },
  "cells": [
    {
      "cell_type": "markdown",
      "source": [
        "<a id=\"recommendation-model\"></a>\n",
        "# 🍪 Bongrub's Recipe Recommendation Model"
      ],
      "metadata": {
        "id": "uHPf3Tv-gRJJ"
      }
    },
    {
      "cell_type": "markdown",
      "source": [
        "\n",
        "Implementing the recommender system for the Food.com's Food Recipe dataset obtained from Kaggle under the open source license.\n",
        "Happy recommending! 😀\n",
        "\n"
      ],
      "metadata": {
        "id": "GC1LRHByCBps"
      }
    },
    {
      "cell_type": "code",
      "execution_count": 1,
      "metadata": {
        "id": "AQnPocWT9QsO"
      },
      "outputs": [],
      "source": [
        "# This Python 3 environment comes with many helpful analytics libraries installed\n",
        "# It is defined by the kaggle/python Docker image: https://github.com/kaggle/docker-python\n",
        "# For example, here's several helpful packages to load\n",
        "\n",
        "import numpy as np # linear algebra\n",
        "import pandas as pd # data processing, CSV file I/O (e.g. pd.read_csv)"
      ]
    },
    {
      "cell_type": "markdown",
      "source": [
        "The dataset has two csv files, 'recipes.csv' and 'reviews.csv'. \n",
        "\n",
        "The recipes dataset contains **522,517 recipes** from **312 different categories**. This dataset provides information about each recipe like cooking times, servings, ingredients, nutrition, instructions, and more.\n",
        "\n",
        "The reviews dataset contains **1,401,982 reviews** from **271,907 different users**. This dataset provides information about the author, rating, review text, and more.\n",
        "\n",
        "Now, that's a lot of information! Dataset size check ✅\n",
        "\n",
        "Here is the [Dataset link](https://www.kaggle.com/datasets/irkaal/foodcom-recipes-and-reviews) for reference."
      ],
      "metadata": {
        "id": "CqUfdLpY76Ka"
      }
    },
    {
      "cell_type": "code",
      "source": [
        "# Storing the recipes information into a pandas DataFrame titled 'recipes'\n",
        "recipes = pd.read_csv('recipes.csv', engine='python', error_bad_lines=False)"
      ],
      "metadata": {
        "id": "izSpzj-iGz8W",
        "colab": {
          "base_uri": "https://localhost:8080/"
        },
        "outputId": "cafb3901-98ff-4d88-c3f3-fd52c90544cb"
      },
      "execution_count": 2,
      "outputs": [
        {
          "output_type": "stream",
          "name": "stderr",
          "text": [
            "/usr/local/lib/python3.7/dist-packages/IPython/core/interactiveshell.py:2882: FutureWarning: The error_bad_lines argument has been deprecated and will be removed in a future version.\n",
            "\n",
            "\n",
            "  exec(code_obj, self.user_global_ns, self.user_ns)\n"
          ]
        }
      ]
    },
    {
      "cell_type": "code",
      "source": [
        "# Storing the reviews information into a pandas DataFrame titled 'reviews'\n",
        "reviews = pd.read_csv('reviews.csv', engine='python', error_bad_lines=False)"
      ],
      "metadata": {
        "id": "_fM0Cohu9ifS",
        "colab": {
          "base_uri": "https://localhost:8080/"
        },
        "outputId": "eeec344a-35bb-487d-ad9c-96a0607dcf88"
      },
      "execution_count": 3,
      "outputs": [
        {
          "output_type": "stream",
          "name": "stderr",
          "text": [
            "/usr/local/lib/python3.7/dist-packages/IPython/core/interactiveshell.py:2882: FutureWarning: The error_bad_lines argument has been deprecated and will be removed in a future version.\n",
            "\n",
            "\n",
            "  exec(code_obj, self.user_global_ns, self.user_ns)\n"
          ]
        }
      ]
    },
    {
      "cell_type": "markdown",
      "source": [
        "<a id=\"preprocessing-data\"></a>\n",
        "# 🍳 Preprocessing the Data "
      ],
      "metadata": {
        "id": "HACv2gglUZ0a"
      }
    },
    {
      "cell_type": "markdown",
      "source": [
        "## 🔍 Data Filtering and Imputation"
      ],
      "metadata": {
        "id": "WM8PU4C1-x6B"
      }
    },
    {
      "cell_type": "markdown",
      "source": [
        "### 📂 Recipes DataFrame\n",
        "\n",
        "From whatever source is the data obtained, the very first step towards building a recommendation model is to pre-process the data first. Digging deeper into the data. "
      ],
      "metadata": {
        "id": "pSkfWIkEKl94"
      }
    },
    {
      "cell_type": "code",
      "source": [
        "# Checking the dataset\n",
        "recipes.info(), recipes.shape"
      ],
      "metadata": {
        "id": "zM2wemqyw_05",
        "colab": {
          "base_uri": "https://localhost:8080/"
        },
        "outputId": "dd1f6fb3-8cea-410c-8e70-727e3d77b6e1"
      },
      "execution_count": 4,
      "outputs": [
        {
          "output_type": "stream",
          "name": "stdout",
          "text": [
            "<class 'pandas.core.frame.DataFrame'>\n",
            "RangeIndex: 522517 entries, 0 to 522516\n",
            "Data columns (total 28 columns):\n",
            " #   Column                      Non-Null Count   Dtype  \n",
            "---  ------                      --------------   -----  \n",
            " 0   RecipeId                    522517 non-null  int64  \n",
            " 1   Name                        522517 non-null  object \n",
            " 2   AuthorId                    522517 non-null  int64  \n",
            " 3   AuthorName                  522517 non-null  object \n",
            " 4   CookTime                    439972 non-null  object \n",
            " 5   PrepTime                    522517 non-null  object \n",
            " 6   TotalTime                   522517 non-null  object \n",
            " 7   DatePublished               522517 non-null  object \n",
            " 8   Description                 522512 non-null  object \n",
            " 9   Images                      522516 non-null  object \n",
            " 10  RecipeCategory              521766 non-null  object \n",
            " 11  Keywords                    505280 non-null  object \n",
            " 12  RecipeIngredientQuantities  522514 non-null  object \n",
            " 13  RecipeIngredientParts       522517 non-null  object \n",
            " 14  AggregatedRating            269294 non-null  float64\n",
            " 15  ReviewCount                 275028 non-null  float64\n",
            " 16  Calories                    522517 non-null  float64\n",
            " 17  FatContent                  522517 non-null  float64\n",
            " 18  SaturatedFatContent         522517 non-null  float64\n",
            " 19  CholesterolContent          522517 non-null  float64\n",
            " 20  SodiumContent               522517 non-null  float64\n",
            " 21  CarbohydrateContent         522517 non-null  float64\n",
            " 22  FiberContent                522517 non-null  float64\n",
            " 23  SugarContent                522517 non-null  float64\n",
            " 24  ProteinContent              522517 non-null  float64\n",
            " 25  RecipeServings              339606 non-null  float64\n",
            " 26  RecipeYield                 174446 non-null  object \n",
            " 27  RecipeInstructions          522517 non-null  object \n",
            "dtypes: float64(12), int64(2), object(14)\n",
            "memory usage: 111.6+ MB\n"
          ]
        },
        {
          "output_type": "execute_result",
          "data": {
            "text/plain": [
              "(None, (522517, 28))"
            ]
          },
          "metadata": {},
          "execution_count": 4
        }
      ]
    },
    {
      "cell_type": "markdown",
      "source": [
        "As the shape of recipes DataFrame shows it has 28 columns, which is too impressive. let us see what all labels we have for the columns."
      ],
      "metadata": {
        "id": "i9YaZlYo-DXy"
      }
    },
    {
      "cell_type": "code",
      "source": [
        "# Checking the columns in recipes\n",
        "recipes.columns"
      ],
      "metadata": {
        "colab": {
          "base_uri": "https://localhost:8080/"
        },
        "id": "6-YTilGzHBDS",
        "outputId": "15a02996-c631-4793-cc0c-be01280d4a3c"
      },
      "execution_count": 5,
      "outputs": [
        {
          "output_type": "execute_result",
          "data": {
            "text/plain": [
              "Index(['RecipeId', 'Name', 'AuthorId', 'AuthorName', 'CookTime', 'PrepTime',\n",
              "       'TotalTime', 'DatePublished', 'Description', 'Images', 'RecipeCategory',\n",
              "       'Keywords', 'RecipeIngredientQuantities', 'RecipeIngredientParts',\n",
              "       'AggregatedRating', 'ReviewCount', 'Calories', 'FatContent',\n",
              "       'SaturatedFatContent', 'CholesterolContent', 'SodiumContent',\n",
              "       'CarbohydrateContent', 'FiberContent', 'SugarContent', 'ProteinContent',\n",
              "       'RecipeServings', 'RecipeYield', 'RecipeInstructions'],\n",
              "      dtype='object')"
            ]
          },
          "metadata": {},
          "execution_count": 5
        }
      ]
    },
    {
      "cell_type": "code",
      "source": [
        "recipes.head(3)"
      ],
      "metadata": {
        "colab": {
          "base_uri": "https://localhost:8080/",
          "height": 0
        },
        "id": "PylofWty4NC0",
        "outputId": "851a28d1-19f3-4c60-f7fe-acf5ca94981c"
      },
      "execution_count": 6,
      "outputs": [
        {
          "output_type": "execute_result",
          "data": {
            "text/plain": [
              "   RecipeId                               Name  AuthorId      AuthorName  \\\n",
              "0        38  Low-Fat Berry Blue Frozen Dessert      1533          Dancer   \n",
              "1        39                            Biryani      1567        elly9812   \n",
              "2        40                      Best Lemonade      1566  Stephen Little   \n",
              "\n",
              "  CookTime PrepTime TotalTime         DatePublished  \\\n",
              "0    PT24H    PT45M  PT24H45M  1999-08-09T21:46:00Z   \n",
              "1    PT25M     PT4H   PT4H25M  1999-08-29T13:12:00Z   \n",
              "2     PT5M    PT30M     PT35M  1999-09-05T19:52:00Z   \n",
              "\n",
              "                                         Description  \\\n",
              "0  Make and share this Low-Fat Berry Blue Frozen ...   \n",
              "1  Make and share this Biryani recipe from Food.com.   \n",
              "2  This is from one of my  first Good House Keepi...   \n",
              "\n",
              "                                              Images  ... SaturatedFatContent  \\\n",
              "0  c(\"https://img.sndimg.com/food/image/upload/w_...  ...                 1.3   \n",
              "1  c(\"https://img.sndimg.com/food/image/upload/w_...  ...                16.6   \n",
              "2  c(\"https://img.sndimg.com/food/image/upload/w_...  ...                 0.0   \n",
              "\n",
              "  CholesterolContent SodiumContent CarbohydrateContent  FiberContent  \\\n",
              "0                8.0          29.8                37.1           3.6   \n",
              "1              372.8         368.4                84.4           9.0   \n",
              "2                0.0           1.8                81.5           0.4   \n",
              "\n",
              "   SugarContent  ProteinContent  RecipeServings  RecipeYield  \\\n",
              "0          30.2             3.2             4.0          NaN   \n",
              "1          20.4            63.4             6.0          NaN   \n",
              "2          77.2             0.3             4.0          NaN   \n",
              "\n",
              "                                  RecipeInstructions  \n",
              "0  c(\"Toss 2 cups berries with sugar.\", \"Let stan...  \n",
              "1  c(\"Soak saffron in warm milk for 5 minutes and...  \n",
              "2  c(\"Into a 1 quart Jar with tight fitting lid, ...  \n",
              "\n",
              "[3 rows x 28 columns]"
            ],
            "text/html": [
              "\n",
              "  <div id=\"df-77fca3f1-240f-480e-aa89-417fe9d523bd\">\n",
              "    <div class=\"colab-df-container\">\n",
              "      <div>\n",
              "<style scoped>\n",
              "    .dataframe tbody tr th:only-of-type {\n",
              "        vertical-align: middle;\n",
              "    }\n",
              "\n",
              "    .dataframe tbody tr th {\n",
              "        vertical-align: top;\n",
              "    }\n",
              "\n",
              "    .dataframe thead th {\n",
              "        text-align: right;\n",
              "    }\n",
              "</style>\n",
              "<table border=\"1\" class=\"dataframe\">\n",
              "  <thead>\n",
              "    <tr style=\"text-align: right;\">\n",
              "      <th></th>\n",
              "      <th>RecipeId</th>\n",
              "      <th>Name</th>\n",
              "      <th>AuthorId</th>\n",
              "      <th>AuthorName</th>\n",
              "      <th>CookTime</th>\n",
              "      <th>PrepTime</th>\n",
              "      <th>TotalTime</th>\n",
              "      <th>DatePublished</th>\n",
              "      <th>Description</th>\n",
              "      <th>Images</th>\n",
              "      <th>...</th>\n",
              "      <th>SaturatedFatContent</th>\n",
              "      <th>CholesterolContent</th>\n",
              "      <th>SodiumContent</th>\n",
              "      <th>CarbohydrateContent</th>\n",
              "      <th>FiberContent</th>\n",
              "      <th>SugarContent</th>\n",
              "      <th>ProteinContent</th>\n",
              "      <th>RecipeServings</th>\n",
              "      <th>RecipeYield</th>\n",
              "      <th>RecipeInstructions</th>\n",
              "    </tr>\n",
              "  </thead>\n",
              "  <tbody>\n",
              "    <tr>\n",
              "      <th>0</th>\n",
              "      <td>38</td>\n",
              "      <td>Low-Fat Berry Blue Frozen Dessert</td>\n",
              "      <td>1533</td>\n",
              "      <td>Dancer</td>\n",
              "      <td>PT24H</td>\n",
              "      <td>PT45M</td>\n",
              "      <td>PT24H45M</td>\n",
              "      <td>1999-08-09T21:46:00Z</td>\n",
              "      <td>Make and share this Low-Fat Berry Blue Frozen ...</td>\n",
              "      <td>c(\"https://img.sndimg.com/food/image/upload/w_...</td>\n",
              "      <td>...</td>\n",
              "      <td>1.3</td>\n",
              "      <td>8.0</td>\n",
              "      <td>29.8</td>\n",
              "      <td>37.1</td>\n",
              "      <td>3.6</td>\n",
              "      <td>30.2</td>\n",
              "      <td>3.2</td>\n",
              "      <td>4.0</td>\n",
              "      <td>NaN</td>\n",
              "      <td>c(\"Toss 2 cups berries with sugar.\", \"Let stan...</td>\n",
              "    </tr>\n",
              "    <tr>\n",
              "      <th>1</th>\n",
              "      <td>39</td>\n",
              "      <td>Biryani</td>\n",
              "      <td>1567</td>\n",
              "      <td>elly9812</td>\n",
              "      <td>PT25M</td>\n",
              "      <td>PT4H</td>\n",
              "      <td>PT4H25M</td>\n",
              "      <td>1999-08-29T13:12:00Z</td>\n",
              "      <td>Make and share this Biryani recipe from Food.com.</td>\n",
              "      <td>c(\"https://img.sndimg.com/food/image/upload/w_...</td>\n",
              "      <td>...</td>\n",
              "      <td>16.6</td>\n",
              "      <td>372.8</td>\n",
              "      <td>368.4</td>\n",
              "      <td>84.4</td>\n",
              "      <td>9.0</td>\n",
              "      <td>20.4</td>\n",
              "      <td>63.4</td>\n",
              "      <td>6.0</td>\n",
              "      <td>NaN</td>\n",
              "      <td>c(\"Soak saffron in warm milk for 5 minutes and...</td>\n",
              "    </tr>\n",
              "    <tr>\n",
              "      <th>2</th>\n",
              "      <td>40</td>\n",
              "      <td>Best Lemonade</td>\n",
              "      <td>1566</td>\n",
              "      <td>Stephen Little</td>\n",
              "      <td>PT5M</td>\n",
              "      <td>PT30M</td>\n",
              "      <td>PT35M</td>\n",
              "      <td>1999-09-05T19:52:00Z</td>\n",
              "      <td>This is from one of my  first Good House Keepi...</td>\n",
              "      <td>c(\"https://img.sndimg.com/food/image/upload/w_...</td>\n",
              "      <td>...</td>\n",
              "      <td>0.0</td>\n",
              "      <td>0.0</td>\n",
              "      <td>1.8</td>\n",
              "      <td>81.5</td>\n",
              "      <td>0.4</td>\n",
              "      <td>77.2</td>\n",
              "      <td>0.3</td>\n",
              "      <td>4.0</td>\n",
              "      <td>NaN</td>\n",
              "      <td>c(\"Into a 1 quart Jar with tight fitting lid, ...</td>\n",
              "    </tr>\n",
              "  </tbody>\n",
              "</table>\n",
              "<p>3 rows × 28 columns</p>\n",
              "</div>\n",
              "      <button class=\"colab-df-convert\" onclick=\"convertToInteractive('df-77fca3f1-240f-480e-aa89-417fe9d523bd')\"\n",
              "              title=\"Convert this dataframe to an interactive table.\"\n",
              "              style=\"display:none;\">\n",
              "        \n",
              "  <svg xmlns=\"http://www.w3.org/2000/svg\" height=\"24px\"viewBox=\"0 0 24 24\"\n",
              "       width=\"24px\">\n",
              "    <path d=\"M0 0h24v24H0V0z\" fill=\"none\"/>\n",
              "    <path d=\"M18.56 5.44l.94 2.06.94-2.06 2.06-.94-2.06-.94-.94-2.06-.94 2.06-2.06.94zm-11 1L8.5 8.5l.94-2.06 2.06-.94-2.06-.94L8.5 2.5l-.94 2.06-2.06.94zm10 10l.94 2.06.94-2.06 2.06-.94-2.06-.94-.94-2.06-.94 2.06-2.06.94z\"/><path d=\"M17.41 7.96l-1.37-1.37c-.4-.4-.92-.59-1.43-.59-.52 0-1.04.2-1.43.59L10.3 9.45l-7.72 7.72c-.78.78-.78 2.05 0 2.83L4 21.41c.39.39.9.59 1.41.59.51 0 1.02-.2 1.41-.59l7.78-7.78 2.81-2.81c.8-.78.8-2.07 0-2.86zM5.41 20L4 18.59l7.72-7.72 1.47 1.35L5.41 20z\"/>\n",
              "  </svg>\n",
              "      </button>\n",
              "      \n",
              "  <style>\n",
              "    .colab-df-container {\n",
              "      display:flex;\n",
              "      flex-wrap:wrap;\n",
              "      gap: 12px;\n",
              "    }\n",
              "\n",
              "    .colab-df-convert {\n",
              "      background-color: #E8F0FE;\n",
              "      border: none;\n",
              "      border-radius: 50%;\n",
              "      cursor: pointer;\n",
              "      display: none;\n",
              "      fill: #1967D2;\n",
              "      height: 32px;\n",
              "      padding: 0 0 0 0;\n",
              "      width: 32px;\n",
              "    }\n",
              "\n",
              "    .colab-df-convert:hover {\n",
              "      background-color: #E2EBFA;\n",
              "      box-shadow: 0px 1px 2px rgba(60, 64, 67, 0.3), 0px 1px 3px 1px rgba(60, 64, 67, 0.15);\n",
              "      fill: #174EA6;\n",
              "    }\n",
              "\n",
              "    [theme=dark] .colab-df-convert {\n",
              "      background-color: #3B4455;\n",
              "      fill: #D2E3FC;\n",
              "    }\n",
              "\n",
              "    [theme=dark] .colab-df-convert:hover {\n",
              "      background-color: #434B5C;\n",
              "      box-shadow: 0px 1px 3px 1px rgba(0, 0, 0, 0.15);\n",
              "      filter: drop-shadow(0px 1px 2px rgba(0, 0, 0, 0.3));\n",
              "      fill: #FFFFFF;\n",
              "    }\n",
              "  </style>\n",
              "\n",
              "      <script>\n",
              "        const buttonEl =\n",
              "          document.querySelector('#df-77fca3f1-240f-480e-aa89-417fe9d523bd button.colab-df-convert');\n",
              "        buttonEl.style.display =\n",
              "          google.colab.kernel.accessAllowed ? 'block' : 'none';\n",
              "\n",
              "        async function convertToInteractive(key) {\n",
              "          const element = document.querySelector('#df-77fca3f1-240f-480e-aa89-417fe9d523bd');\n",
              "          const dataTable =\n",
              "            await google.colab.kernel.invokeFunction('convertToInteractive',\n",
              "                                                     [key], {});\n",
              "          if (!dataTable) return;\n",
              "\n",
              "          const docLinkHtml = 'Like what you see? Visit the ' +\n",
              "            '<a target=\"_blank\" href=https://colab.research.google.com/notebooks/data_table.ipynb>data table notebook</a>'\n",
              "            + ' to learn more about interactive tables.';\n",
              "          element.innerHTML = '';\n",
              "          dataTable['output_type'] = 'display_data';\n",
              "          await google.colab.output.renderOutput(dataTable, element);\n",
              "          const docLink = document.createElement('div');\n",
              "          docLink.innerHTML = docLinkHtml;\n",
              "          element.appendChild(docLink);\n",
              "        }\n",
              "      </script>\n",
              "    </div>\n",
              "  </div>\n",
              "  "
            ]
          },
          "metadata": {},
          "execution_count": 6
        }
      ]
    },
    {
      "cell_type": "code",
      "source": [
        "# As we can see some unexpectedly formatted data in columns, let's check 1st Recipe's Data\n",
        "recipes.loc[0]"
      ],
      "metadata": {
        "colab": {
          "base_uri": "https://localhost:8080/"
        },
        "id": "JjqzpuvtJ3PJ",
        "outputId": "ee4da455-c2c2-47ce-81a4-ac61af40075a"
      },
      "execution_count": 7,
      "outputs": [
        {
          "output_type": "execute_result",
          "data": {
            "text/plain": [
              "RecipeId                                                                     38\n",
              "Name                                          Low-Fat Berry Blue Frozen Dessert\n",
              "AuthorId                                                                   1533\n",
              "AuthorName                                                               Dancer\n",
              "CookTime                                                                  PT24H\n",
              "PrepTime                                                                  PT45M\n",
              "TotalTime                                                              PT24H45M\n",
              "DatePublished                                              1999-08-09T21:46:00Z\n",
              "Description                   Make and share this Low-Fat Berry Blue Frozen ...\n",
              "Images                        c(\"https://img.sndimg.com/food/image/upload/w_...\n",
              "RecipeCategory                                                  Frozen Desserts\n",
              "Keywords                      c(\"Dessert\", \"Low Protein\", \"Low Cholesterol\",...\n",
              "RecipeIngredientQuantities                              c(\"4\", \"1/4\", \"1\", \"1\")\n",
              "RecipeIngredientParts         c(\"blueberries\", \"granulated sugar\", \"vanilla ...\n",
              "AggregatedRating                                                            4.5\n",
              "ReviewCount                                                                 4.0\n",
              "Calories                                                                  170.9\n",
              "FatContent                                                                  2.5\n",
              "SaturatedFatContent                                                         1.3\n",
              "CholesterolContent                                                          8.0\n",
              "SodiumContent                                                              29.8\n",
              "CarbohydrateContent                                                        37.1\n",
              "FiberContent                                                                3.6\n",
              "SugarContent                                                               30.2\n",
              "ProteinContent                                                              3.2\n",
              "RecipeServings                                                              4.0\n",
              "RecipeYield                                                                 NaN\n",
              "RecipeInstructions            c(\"Toss 2 cups berries with sugar.\", \"Let stan...\n",
              "Name: 0, dtype: object"
            ]
          },
          "metadata": {},
          "execution_count": 7
        }
      ]
    },
    {
      "cell_type": "markdown",
      "source": [
        "Before diving into Data Pre-processing, we can make sure that we get rid of the data we do not need. So, let's filter it out.\n",
        "\n",
        "We can remove columns like DatePublished(irrelevant detail), and RecipeYield(as it depends on servings required too) \n",
        "Getting rid of unwanted columns, we have our new recipes dataframe as "
      ],
      "metadata": {
        "id": "U32tuF1m4fqa"
      }
    },
    {
      "cell_type": "code",
      "source": [
        "# Removing TotalTime, DatePublished and RecipeYield columns\n",
        "recipes = recipes[['RecipeId', 'Name', 'AuthorId', 'AuthorName', \n",
        "                   'CookTime', 'PrepTime', 'TotalTime', 'Description', 'Images', \n",
        "                   'RecipeCategory', 'Keywords', 'RecipeIngredientQuantities', 'RecipeIngredientParts', \n",
        "                   'AggregatedRating', 'ReviewCount', 'Calories', 'FatContent',\n",
        "                   'SaturatedFatContent', 'CholesterolContent', 'SodiumContent','CarbohydrateContent', \n",
        "                   'FiberContent', 'SugarContent', 'ProteinContent','RecipeServings', 'RecipeInstructions']]"
      ],
      "metadata": {
        "id": "5lxSEywaRgd0"
      },
      "execution_count": 8,
      "outputs": []
    },
    {
      "cell_type": "code",
      "source": [
        "# Checking dataframe's shape after removing 3 columns from 28 initial ones\n",
        "recipes.shape"
      ],
      "metadata": {
        "colab": {
          "base_uri": "https://localhost:8080/"
        },
        "id": "bBUWzDkeTbMk",
        "outputId": "ba43ff90-86d9-4640-cbc2-e5f4ea0e7be9"
      },
      "execution_count": 9,
      "outputs": [
        {
          "output_type": "execute_result",
          "data": {
            "text/plain": [
              "(522517, 26)"
            ]
          },
          "metadata": {},
          "execution_count": 9
        }
      ]
    },
    {
      "cell_type": "markdown",
      "source": [
        "After filtering the data, it is noticeable that the data in columns like CookTime, PrepTime, TotalTime, Images, Keywords, RecipeIngredientQuantities, RecipeIngredientParts, RecipeInstructions need pre-processing.\n",
        "\n",
        "The dataset used is designed to be in such a way that these list-columns values need to parsed in R but we can apply some of the Python library's powerful functions to do the work.\n",
        "Before starting pre-processing, let's have a look at the data to get an idea of what pre-processing steps can be performed to make the data look cleaner, uniform and comprehensible."
      ],
      "metadata": {
        "id": "5FJqDqiV37N7"
      }
    },
    {
      "cell_type": "code",
      "source": [
        "recipes.CookTime[0], recipes.PrepTime[0], recipes.TotalTime[0]"
      ],
      "metadata": {
        "colab": {
          "base_uri": "https://localhost:8080/"
        },
        "id": "8mEaccitvYBL",
        "outputId": "fd65e5ec-0214-410c-c09c-2ad7e76fb2c9"
      },
      "execution_count": 10,
      "outputs": [
        {
          "output_type": "execute_result",
          "data": {
            "text/plain": [
              "('PT24H', 'PT45M', 'PT24H45M')"
            ]
          },
          "metadata": {},
          "execution_count": 10
        }
      ]
    },
    {
      "cell_type": "code",
      "source": [
        "recipes.Images[0]"
      ],
      "metadata": {
        "colab": {
          "base_uri": "https://localhost:8080/",
          "height": 0
        },
        "id": "UAZNMuFBAtYw",
        "outputId": "cd3fa08a-d1da-444d-c426-3e34e64c7a9b"
      },
      "execution_count": 11,
      "outputs": [
        {
          "output_type": "execute_result",
          "data": {
            "text/plain": [
              "'c(\"https://img.sndimg.com/food/image/upload/w_555,h_416,c_fit,fl_progressive,q_95/v1/img/recipes/38/YUeirxMLQaeE1h3v3qnM_229%20berry%20blue%20frzn%20dess.jpg\", \"https://img.sndimg.com/food/image/upload/w_555,h_416,c_fit,fl_progressive,q_95/v1/img/recipes/38/AFPDDHATWzQ0b1CDpDAT_255%20berry%20blue%20frzn%20dess.jpg\", \"https://img.sndimg.com/food/image/upload/w_555,h_416,c_fit,fl_progressive,q_95/v1/img/recipes/38/UYgf9nwMT2SGGJCuzILO_228%20berry%20blue%20frzn%20dess.jpg\", \"https://img.sndimg.com/food/image/upload/w_555,h_416,c_fit,fl_progressive,q_95/v1/img/recipes/38/PeBMJN2TGSaYks2759BA_20140722_202142.jpg\", \\n\"https://img.sndimg.com/food/image/upload/w_555,h_416,c_fit,fl_progressive,q_95/v1/img/recipes/38/picuaETeN.jpg\", \"https://img.sndimg.com/food/image/upload/w_555,h_416,c_fit,fl_progressive,q_95/v1/img/recipes/38/pictzvxW5.jpg\")'"
            ],
            "application/vnd.google.colaboratory.intrinsic+json": {
              "type": "string"
            }
          },
          "metadata": {},
          "execution_count": 11
        }
      ]
    },
    {
      "cell_type": "code",
      "source": [
        "recipes.Keywords[0]"
      ],
      "metadata": {
        "colab": {
          "base_uri": "https://localhost:8080/",
          "height": 0
        },
        "id": "UP9CRBRqvo0P",
        "outputId": "90a8c778-bdbb-4526-cf62-683331111f9b"
      },
      "execution_count": 12,
      "outputs": [
        {
          "output_type": "execute_result",
          "data": {
            "text/plain": [
              "'c(\"Dessert\", \"Low Protein\", \"Low Cholesterol\", \"Healthy\", \"Free Of...\", \"Summer\", \"Weeknight\", \"Freezer\", \"Easy\")'"
            ],
            "application/vnd.google.colaboratory.intrinsic+json": {
              "type": "string"
            }
          },
          "metadata": {},
          "execution_count": 12
        }
      ]
    },
    {
      "cell_type": "code",
      "source": [
        "recipes.RecipeIngredientQuantities[0]"
      ],
      "metadata": {
        "colab": {
          "base_uri": "https://localhost:8080/",
          "height": 0
        },
        "id": "EOusikVivmTX",
        "outputId": "9b44983e-0ad3-4f8f-ade0-9f82a3876199"
      },
      "execution_count": 13,
      "outputs": [
        {
          "output_type": "execute_result",
          "data": {
            "text/plain": [
              "'c(\"4\", \"1/4\", \"1\", \"1\")'"
            ],
            "application/vnd.google.colaboratory.intrinsic+json": {
              "type": "string"
            }
          },
          "metadata": {},
          "execution_count": 13
        }
      ]
    },
    {
      "cell_type": "code",
      "source": [
        "recipes.RecipeIngredientParts[0]"
      ],
      "metadata": {
        "colab": {
          "base_uri": "https://localhost:8080/",
          "height": 0
        },
        "id": "CIYbQEY_vkku",
        "outputId": "64d64589-4233-4702-d718-1fe72f459aef"
      },
      "execution_count": 14,
      "outputs": [
        {
          "output_type": "execute_result",
          "data": {
            "text/plain": [
              "'c(\"blueberries\", \"granulated sugar\", \"vanilla yogurt\", \"lemon juice\")'"
            ],
            "application/vnd.google.colaboratory.intrinsic+json": {
              "type": "string"
            }
          },
          "metadata": {},
          "execution_count": 14
        }
      ]
    },
    {
      "cell_type": "code",
      "source": [
        "recipes.RecipeInstructions[0]"
      ],
      "metadata": {
        "colab": {
          "base_uri": "https://localhost:8080/",
          "height": 0
        },
        "id": "kpQtkkvnz1OE",
        "outputId": "b6c394cb-2f7b-4e8a-dbb6-0fa8ef562fc4"
      },
      "execution_count": 15,
      "outputs": [
        {
          "output_type": "execute_result",
          "data": {
            "text/plain": [
              "'c(\"Toss 2 cups berries with sugar.\", \"Let stand for 45 minutes, stirring occasionally.\", \"Transfer berry-sugar mixture to food processor.\", \"Add yogurt and process until smooth.\", \"Strain through fine sieve. Pour into baking pan (or transfer to ice cream maker and process according to manufacturers\\' directions). Freeze uncovered until edges are solid but centre is soft.  Transfer to processor and blend until smooth again.\", \"Return to pan and freeze until edges are solid.\", \"Transfer to processor and blend until smooth again.\", \\n\"Fold in remaining 2 cups of blueberries.\", \"Pour into plastic mold and freeze overnight. Let soften slightly to serve.\")'"
            ],
            "application/vnd.google.colaboratory.intrinsic+json": {
              "type": "string"
            }
          },
          "metadata": {},
          "execution_count": 15
        }
      ]
    },
    {
      "cell_type": "markdown",
      "source": [
        "These need to be pre-processed. But let's first count the Null values so that we don't have to deal with the this problem later on."
      ],
      "metadata": {
        "id": "IuUSp7f2_dPX"
      }
    },
    {
      "cell_type": "code",
      "source": [
        "# Function for counting Null values \n",
        "def countNullValues(col):\n",
        "  c = 0\n",
        "  for i in col:\n",
        "    if(i != i):\n",
        "      c+=1\n",
        "  return c"
      ],
      "metadata": {
        "id": "tQtLYYimcBTC"
      },
      "execution_count": 16,
      "outputs": []
    },
    {
      "cell_type": "code",
      "source": [
        "# Firstly, checking Null value count in each column that needs formatting\n",
        "a = countNullValues(recipes.CookTime)\n",
        "b = countNullValues(recipes.PrepTime)\n",
        "c = countNullValues(recipes.Images)\n",
        "d = countNullValues(recipes.Keywords)\n",
        "e = countNullValues(recipes.RecipeIngredientQuantities)\n",
        "f = countNullValues(recipes.RecipeIngredientParts)\n",
        "g = countNullValues(recipes.RecipeInstructions)\n",
        "a, b, c, d, e, f, g"
      ],
      "metadata": {
        "colab": {
          "base_uri": "https://localhost:8080/"
        },
        "id": "KjV_1hwJyBjB",
        "outputId": "1e3cf418-1347-413b-da4b-3417f9d5d3c4"
      },
      "execution_count": 17,
      "outputs": [
        {
          "output_type": "execute_result",
          "data": {
            "text/plain": [
              "(82545, 0, 1, 17237, 3, 0, 0)"
            ]
          },
          "metadata": {},
          "execution_count": 17
        }
      ]
    },
    {
      "cell_type": "markdown",
      "source": [
        "As there are a lot of Null values in the CookTime and Keywords columns, we have to find a way to deal with missing values. \n",
        "\n",
        "One way is to get rid of columns with missing values. But this would make the data lose too much of potential information. So, we would rather go with **Imputation**. It is a standard approach which **fills in the missing values** with some number. That number, in most cases, is the mean of all the values present in that column. But in our dataset, as the cooktime can't be estimated to be equal to the mean of other values and neither can a number fit in the keywords column, so we are just replacing null values with a \"NA\" string."
      ],
      "metadata": {
        "id": "JC5UqMps_wMI"
      }
    },
    {
      "cell_type": "code",
      "source": [
        "# Function for replacing Null Values\n",
        "def replaceNullValue(column):\n",
        "  j = 0\n",
        "  for i in column:\n",
        "    if(str(i) == 'nan'):\n",
        "      column[j] = 'NA'\n",
        "    j+=1\n",
        "  return column"
      ],
      "metadata": {
        "id": "IuJd-iFN-NAg"
      },
      "execution_count": 18,
      "outputs": []
    },
    {
      "cell_type": "code",
      "source": [
        "replaceNullValue(recipes.CookTime)"
      ],
      "metadata": {
        "colab": {
          "base_uri": "https://localhost:8080/"
        },
        "id": "id4qdCDxDMSq",
        "outputId": "c0f40429-d89a-4401-e967-ad002ab4e8b2"
      },
      "execution_count": 19,
      "outputs": [
        {
          "output_type": "stream",
          "name": "stderr",
          "text": [
            "/usr/local/lib/python3.7/dist-packages/ipykernel_launcher.py:6: SettingWithCopyWarning: \n",
            "A value is trying to be set on a copy of a slice from a DataFrame\n",
            "\n",
            "See the caveats in the documentation: https://pandas.pydata.org/pandas-docs/stable/user_guide/indexing.html#returning-a-view-versus-a-copy\n",
            "  \n"
          ]
        },
        {
          "output_type": "execute_result",
          "data": {
            "text/plain": [
              "0         PT24H\n",
              "1         PT25M\n",
              "2          PT5M\n",
              "3         PT20M\n",
              "4         PT30M\n",
              "          ...  \n",
              "522512    PT35M\n",
              "522513     PT3H\n",
              "522514     PT3H\n",
              "522515       NA\n",
              "522516    PT25M\n",
              "Name: CookTime, Length: 522517, dtype: object"
            ]
          },
          "metadata": {},
          "execution_count": 19
        }
      ]
    },
    {
      "cell_type": "code",
      "source": [
        "countNullValues(recipes.CookTime)"
      ],
      "metadata": {
        "colab": {
          "base_uri": "https://localhost:8080/"
        },
        "id": "8F2rsWiy-sdC",
        "outputId": "0b60245a-8331-4883-f166-2f102f2a5e15"
      },
      "execution_count": 20,
      "outputs": [
        {
          "output_type": "execute_result",
          "data": {
            "text/plain": [
              "0"
            ]
          },
          "metadata": {},
          "execution_count": 20
        }
      ]
    },
    {
      "cell_type": "markdown",
      "source": [
        "Imputation for the Keywords columns along with other columns can be done along with formatting them in a single function to avoid code repitition."
      ],
      "metadata": {
        "id": "0GPfyIHbE5MI"
      }
    },
    {
      "cell_type": "markdown",
      "source": [
        "### 💯 Reviews DataFrame\n",
        "\n",
        "The reviews dataset has an impressive amount of **1,401,982 reviews** from **271,907 different usesr**. So let us see what all values we have for the first row in the reviews DataFrame! "
      ],
      "metadata": {
        "id": "Cl6PeIwNKrcB"
      }
    },
    {
      "cell_type": "code",
      "source": [
        "# Checking the column labels in reviews\n",
        "reviews.columns, reviews.shape"
      ],
      "metadata": {
        "colab": {
          "base_uri": "https://localhost:8080/"
        },
        "id": "ga-e0Wlh_k5C",
        "outputId": "f34350ca-2783-4559-d625-bc1df7f458be"
      },
      "execution_count": 21,
      "outputs": [
        {
          "output_type": "execute_result",
          "data": {
            "text/plain": [
              "(Index(['ReviewId', 'RecipeId', 'AuthorId', 'AuthorName', 'Rating', 'Review',\n",
              "        'DateSubmitted', 'DateModified'],\n",
              "       dtype='object'), (1401982, 8))"
            ]
          },
          "metadata": {},
          "execution_count": 21
        }
      ]
    },
    {
      "cell_type": "code",
      "source": [
        "# Printing a summary of the data in reviews data\n",
        "# .describe() gives the statistics of the numerical data \n",
        "reviews.describe()"
      ],
      "metadata": {
        "colab": {
          "base_uri": "https://localhost:8080/",
          "height": 0
        },
        "id": "350YvR3b_CtT",
        "outputId": "f72300c7-c273-4049-c446-7116c9fb1aa1"
      },
      "execution_count": 22,
      "outputs": [
        {
          "output_type": "execute_result",
          "data": {
            "text/plain": [
              "           ReviewId      RecipeId      AuthorId        Rating\n",
              "count  1.401982e+06  1.401982e+06  1.401982e+06  1.401982e+06\n",
              "mean   8.179739e+05  1.526412e+05  1.558638e+08  4.407951e+00\n",
              "std    5.280821e+05  1.301112e+05  5.305111e+08  1.272012e+00\n",
              "min    2.000000e+00  3.800000e+01  1.533000e+03  0.000000e+00\n",
              "25%    3.743862e+05  4.703875e+04  1.336800e+05  4.000000e+00\n",
              "50%    7.717805e+05  1.093270e+05  3.305450e+05  5.000000e+00\n",
              "75%    1.204126e+06  2.318768e+05  8.183590e+05  5.000000e+00\n",
              "max    2.090347e+06  5.412980e+05  2.002902e+09  5.000000e+00"
            ],
            "text/html": [
              "\n",
              "  <div id=\"df-ecc4d52e-94b1-47ed-9beb-d7bcf7a288e6\">\n",
              "    <div class=\"colab-df-container\">\n",
              "      <div>\n",
              "<style scoped>\n",
              "    .dataframe tbody tr th:only-of-type {\n",
              "        vertical-align: middle;\n",
              "    }\n",
              "\n",
              "    .dataframe tbody tr th {\n",
              "        vertical-align: top;\n",
              "    }\n",
              "\n",
              "    .dataframe thead th {\n",
              "        text-align: right;\n",
              "    }\n",
              "</style>\n",
              "<table border=\"1\" class=\"dataframe\">\n",
              "  <thead>\n",
              "    <tr style=\"text-align: right;\">\n",
              "      <th></th>\n",
              "      <th>ReviewId</th>\n",
              "      <th>RecipeId</th>\n",
              "      <th>AuthorId</th>\n",
              "      <th>Rating</th>\n",
              "    </tr>\n",
              "  </thead>\n",
              "  <tbody>\n",
              "    <tr>\n",
              "      <th>count</th>\n",
              "      <td>1.401982e+06</td>\n",
              "      <td>1.401982e+06</td>\n",
              "      <td>1.401982e+06</td>\n",
              "      <td>1.401982e+06</td>\n",
              "    </tr>\n",
              "    <tr>\n",
              "      <th>mean</th>\n",
              "      <td>8.179739e+05</td>\n",
              "      <td>1.526412e+05</td>\n",
              "      <td>1.558638e+08</td>\n",
              "      <td>4.407951e+00</td>\n",
              "    </tr>\n",
              "    <tr>\n",
              "      <th>std</th>\n",
              "      <td>5.280821e+05</td>\n",
              "      <td>1.301112e+05</td>\n",
              "      <td>5.305111e+08</td>\n",
              "      <td>1.272012e+00</td>\n",
              "    </tr>\n",
              "    <tr>\n",
              "      <th>min</th>\n",
              "      <td>2.000000e+00</td>\n",
              "      <td>3.800000e+01</td>\n",
              "      <td>1.533000e+03</td>\n",
              "      <td>0.000000e+00</td>\n",
              "    </tr>\n",
              "    <tr>\n",
              "      <th>25%</th>\n",
              "      <td>3.743862e+05</td>\n",
              "      <td>4.703875e+04</td>\n",
              "      <td>1.336800e+05</td>\n",
              "      <td>4.000000e+00</td>\n",
              "    </tr>\n",
              "    <tr>\n",
              "      <th>50%</th>\n",
              "      <td>7.717805e+05</td>\n",
              "      <td>1.093270e+05</td>\n",
              "      <td>3.305450e+05</td>\n",
              "      <td>5.000000e+00</td>\n",
              "    </tr>\n",
              "    <tr>\n",
              "      <th>75%</th>\n",
              "      <td>1.204126e+06</td>\n",
              "      <td>2.318768e+05</td>\n",
              "      <td>8.183590e+05</td>\n",
              "      <td>5.000000e+00</td>\n",
              "    </tr>\n",
              "    <tr>\n",
              "      <th>max</th>\n",
              "      <td>2.090347e+06</td>\n",
              "      <td>5.412980e+05</td>\n",
              "      <td>2.002902e+09</td>\n",
              "      <td>5.000000e+00</td>\n",
              "    </tr>\n",
              "  </tbody>\n",
              "</table>\n",
              "</div>\n",
              "      <button class=\"colab-df-convert\" onclick=\"convertToInteractive('df-ecc4d52e-94b1-47ed-9beb-d7bcf7a288e6')\"\n",
              "              title=\"Convert this dataframe to an interactive table.\"\n",
              "              style=\"display:none;\">\n",
              "        \n",
              "  <svg xmlns=\"http://www.w3.org/2000/svg\" height=\"24px\"viewBox=\"0 0 24 24\"\n",
              "       width=\"24px\">\n",
              "    <path d=\"M0 0h24v24H0V0z\" fill=\"none\"/>\n",
              "    <path d=\"M18.56 5.44l.94 2.06.94-2.06 2.06-.94-2.06-.94-.94-2.06-.94 2.06-2.06.94zm-11 1L8.5 8.5l.94-2.06 2.06-.94-2.06-.94L8.5 2.5l-.94 2.06-2.06.94zm10 10l.94 2.06.94-2.06 2.06-.94-2.06-.94-.94-2.06-.94 2.06-2.06.94z\"/><path d=\"M17.41 7.96l-1.37-1.37c-.4-.4-.92-.59-1.43-.59-.52 0-1.04.2-1.43.59L10.3 9.45l-7.72 7.72c-.78.78-.78 2.05 0 2.83L4 21.41c.39.39.9.59 1.41.59.51 0 1.02-.2 1.41-.59l7.78-7.78 2.81-2.81c.8-.78.8-2.07 0-2.86zM5.41 20L4 18.59l7.72-7.72 1.47 1.35L5.41 20z\"/>\n",
              "  </svg>\n",
              "      </button>\n",
              "      \n",
              "  <style>\n",
              "    .colab-df-container {\n",
              "      display:flex;\n",
              "      flex-wrap:wrap;\n",
              "      gap: 12px;\n",
              "    }\n",
              "\n",
              "    .colab-df-convert {\n",
              "      background-color: #E8F0FE;\n",
              "      border: none;\n",
              "      border-radius: 50%;\n",
              "      cursor: pointer;\n",
              "      display: none;\n",
              "      fill: #1967D2;\n",
              "      height: 32px;\n",
              "      padding: 0 0 0 0;\n",
              "      width: 32px;\n",
              "    }\n",
              "\n",
              "    .colab-df-convert:hover {\n",
              "      background-color: #E2EBFA;\n",
              "      box-shadow: 0px 1px 2px rgba(60, 64, 67, 0.3), 0px 1px 3px 1px rgba(60, 64, 67, 0.15);\n",
              "      fill: #174EA6;\n",
              "    }\n",
              "\n",
              "    [theme=dark] .colab-df-convert {\n",
              "      background-color: #3B4455;\n",
              "      fill: #D2E3FC;\n",
              "    }\n",
              "\n",
              "    [theme=dark] .colab-df-convert:hover {\n",
              "      background-color: #434B5C;\n",
              "      box-shadow: 0px 1px 3px 1px rgba(0, 0, 0, 0.15);\n",
              "      filter: drop-shadow(0px 1px 2px rgba(0, 0, 0, 0.3));\n",
              "      fill: #FFFFFF;\n",
              "    }\n",
              "  </style>\n",
              "\n",
              "      <script>\n",
              "        const buttonEl =\n",
              "          document.querySelector('#df-ecc4d52e-94b1-47ed-9beb-d7bcf7a288e6 button.colab-df-convert');\n",
              "        buttonEl.style.display =\n",
              "          google.colab.kernel.accessAllowed ? 'block' : 'none';\n",
              "\n",
              "        async function convertToInteractive(key) {\n",
              "          const element = document.querySelector('#df-ecc4d52e-94b1-47ed-9beb-d7bcf7a288e6');\n",
              "          const dataTable =\n",
              "            await google.colab.kernel.invokeFunction('convertToInteractive',\n",
              "                                                     [key], {});\n",
              "          if (!dataTable) return;\n",
              "\n",
              "          const docLinkHtml = 'Like what you see? Visit the ' +\n",
              "            '<a target=\"_blank\" href=https://colab.research.google.com/notebooks/data_table.ipynb>data table notebook</a>'\n",
              "            + ' to learn more about interactive tables.';\n",
              "          element.innerHTML = '';\n",
              "          dataTable['output_type'] = 'display_data';\n",
              "          await google.colab.output.renderOutput(dataTable, element);\n",
              "          const docLink = document.createElement('div');\n",
              "          docLink.innerHTML = docLinkHtml;\n",
              "          element.appendChild(docLink);\n",
              "        }\n",
              "      </script>\n",
              "    </div>\n",
              "  </div>\n",
              "  "
            ]
          },
          "metadata": {},
          "execution_count": 22
        }
      ]
    },
    {
      "cell_type": "markdown",
      "source": [
        "The count shows how many rows have non-missing values. \n",
        "As all the columns have equal number of non-missing values, it shows that the data is quite consistent\n",
        "Let's take a look at the overview of the reviews DataFrame"
      ],
      "metadata": {
        "id": "lWqSNMFOI7Pn"
      }
    },
    {
      "cell_type": "code",
      "source": [
        "reviews.head()"
      ],
      "metadata": {
        "colab": {
          "base_uri": "https://localhost:8080/",
          "height": 0
        },
        "id": "pCKb02TlBILs",
        "outputId": "82ee0297-c08e-4b94-8a76-8fc028debfcd"
      },
      "execution_count": 23,
      "outputs": [
        {
          "output_type": "execute_result",
          "data": {
            "text/plain": [
              "   ReviewId  RecipeId  AuthorId        AuthorName  Rating  \\\n",
              "0         2       992      2008         gayg msft       5   \n",
              "1         7      4384      1634     Bill Hilbrich       4   \n",
              "2         9      4523      2046  Gay Gilmore ckpt       2   \n",
              "3        13      7435      1773     Malarkey Test       5   \n",
              "4        14        44      2085        Tony Small       5   \n",
              "\n",
              "                                              Review         DateSubmitted  \\\n",
              "0       better than any you can get at a restaurant!  2000-01-25T21:44:00Z   \n",
              "1  I cut back on the mayo, and made up the differ...  2001-10-17T16:49:59Z   \n",
              "2  i think i did something wrong because i could ...  2000-02-25T09:00:00Z   \n",
              "3  easily the best i have ever had.  juicy flavor...  2000-03-13T21:15:00Z   \n",
              "4                                 An excellent dish.  2000-03-28T12:51:00Z   \n",
              "\n",
              "           DateModified  \n",
              "0  2000-01-25T21:44:00Z  \n",
              "1  2001-10-17T16:49:59Z  \n",
              "2  2000-02-25T09:00:00Z  \n",
              "3  2000-03-13T21:15:00Z  \n",
              "4  2000-03-28T12:51:00Z  "
            ],
            "text/html": [
              "\n",
              "  <div id=\"df-79cd44a3-365e-430b-9ded-86d9fb7c79f5\">\n",
              "    <div class=\"colab-df-container\">\n",
              "      <div>\n",
              "<style scoped>\n",
              "    .dataframe tbody tr th:only-of-type {\n",
              "        vertical-align: middle;\n",
              "    }\n",
              "\n",
              "    .dataframe tbody tr th {\n",
              "        vertical-align: top;\n",
              "    }\n",
              "\n",
              "    .dataframe thead th {\n",
              "        text-align: right;\n",
              "    }\n",
              "</style>\n",
              "<table border=\"1\" class=\"dataframe\">\n",
              "  <thead>\n",
              "    <tr style=\"text-align: right;\">\n",
              "      <th></th>\n",
              "      <th>ReviewId</th>\n",
              "      <th>RecipeId</th>\n",
              "      <th>AuthorId</th>\n",
              "      <th>AuthorName</th>\n",
              "      <th>Rating</th>\n",
              "      <th>Review</th>\n",
              "      <th>DateSubmitted</th>\n",
              "      <th>DateModified</th>\n",
              "    </tr>\n",
              "  </thead>\n",
              "  <tbody>\n",
              "    <tr>\n",
              "      <th>0</th>\n",
              "      <td>2</td>\n",
              "      <td>992</td>\n",
              "      <td>2008</td>\n",
              "      <td>gayg msft</td>\n",
              "      <td>5</td>\n",
              "      <td>better than any you can get at a restaurant!</td>\n",
              "      <td>2000-01-25T21:44:00Z</td>\n",
              "      <td>2000-01-25T21:44:00Z</td>\n",
              "    </tr>\n",
              "    <tr>\n",
              "      <th>1</th>\n",
              "      <td>7</td>\n",
              "      <td>4384</td>\n",
              "      <td>1634</td>\n",
              "      <td>Bill Hilbrich</td>\n",
              "      <td>4</td>\n",
              "      <td>I cut back on the mayo, and made up the differ...</td>\n",
              "      <td>2001-10-17T16:49:59Z</td>\n",
              "      <td>2001-10-17T16:49:59Z</td>\n",
              "    </tr>\n",
              "    <tr>\n",
              "      <th>2</th>\n",
              "      <td>9</td>\n",
              "      <td>4523</td>\n",
              "      <td>2046</td>\n",
              "      <td>Gay Gilmore ckpt</td>\n",
              "      <td>2</td>\n",
              "      <td>i think i did something wrong because i could ...</td>\n",
              "      <td>2000-02-25T09:00:00Z</td>\n",
              "      <td>2000-02-25T09:00:00Z</td>\n",
              "    </tr>\n",
              "    <tr>\n",
              "      <th>3</th>\n",
              "      <td>13</td>\n",
              "      <td>7435</td>\n",
              "      <td>1773</td>\n",
              "      <td>Malarkey Test</td>\n",
              "      <td>5</td>\n",
              "      <td>easily the best i have ever had.  juicy flavor...</td>\n",
              "      <td>2000-03-13T21:15:00Z</td>\n",
              "      <td>2000-03-13T21:15:00Z</td>\n",
              "    </tr>\n",
              "    <tr>\n",
              "      <th>4</th>\n",
              "      <td>14</td>\n",
              "      <td>44</td>\n",
              "      <td>2085</td>\n",
              "      <td>Tony Small</td>\n",
              "      <td>5</td>\n",
              "      <td>An excellent dish.</td>\n",
              "      <td>2000-03-28T12:51:00Z</td>\n",
              "      <td>2000-03-28T12:51:00Z</td>\n",
              "    </tr>\n",
              "  </tbody>\n",
              "</table>\n",
              "</div>\n",
              "      <button class=\"colab-df-convert\" onclick=\"convertToInteractive('df-79cd44a3-365e-430b-9ded-86d9fb7c79f5')\"\n",
              "              title=\"Convert this dataframe to an interactive table.\"\n",
              "              style=\"display:none;\">\n",
              "        \n",
              "  <svg xmlns=\"http://www.w3.org/2000/svg\" height=\"24px\"viewBox=\"0 0 24 24\"\n",
              "       width=\"24px\">\n",
              "    <path d=\"M0 0h24v24H0V0z\" fill=\"none\"/>\n",
              "    <path d=\"M18.56 5.44l.94 2.06.94-2.06 2.06-.94-2.06-.94-.94-2.06-.94 2.06-2.06.94zm-11 1L8.5 8.5l.94-2.06 2.06-.94-2.06-.94L8.5 2.5l-.94 2.06-2.06.94zm10 10l.94 2.06.94-2.06 2.06-.94-2.06-.94-.94-2.06-.94 2.06-2.06.94z\"/><path d=\"M17.41 7.96l-1.37-1.37c-.4-.4-.92-.59-1.43-.59-.52 0-1.04.2-1.43.59L10.3 9.45l-7.72 7.72c-.78.78-.78 2.05 0 2.83L4 21.41c.39.39.9.59 1.41.59.51 0 1.02-.2 1.41-.59l7.78-7.78 2.81-2.81c.8-.78.8-2.07 0-2.86zM5.41 20L4 18.59l7.72-7.72 1.47 1.35L5.41 20z\"/>\n",
              "  </svg>\n",
              "      </button>\n",
              "      \n",
              "  <style>\n",
              "    .colab-df-container {\n",
              "      display:flex;\n",
              "      flex-wrap:wrap;\n",
              "      gap: 12px;\n",
              "    }\n",
              "\n",
              "    .colab-df-convert {\n",
              "      background-color: #E8F0FE;\n",
              "      border: none;\n",
              "      border-radius: 50%;\n",
              "      cursor: pointer;\n",
              "      display: none;\n",
              "      fill: #1967D2;\n",
              "      height: 32px;\n",
              "      padding: 0 0 0 0;\n",
              "      width: 32px;\n",
              "    }\n",
              "\n",
              "    .colab-df-convert:hover {\n",
              "      background-color: #E2EBFA;\n",
              "      box-shadow: 0px 1px 2px rgba(60, 64, 67, 0.3), 0px 1px 3px 1px rgba(60, 64, 67, 0.15);\n",
              "      fill: #174EA6;\n",
              "    }\n",
              "\n",
              "    [theme=dark] .colab-df-convert {\n",
              "      background-color: #3B4455;\n",
              "      fill: #D2E3FC;\n",
              "    }\n",
              "\n",
              "    [theme=dark] .colab-df-convert:hover {\n",
              "      background-color: #434B5C;\n",
              "      box-shadow: 0px 1px 3px 1px rgba(0, 0, 0, 0.15);\n",
              "      filter: drop-shadow(0px 1px 2px rgba(0, 0, 0, 0.3));\n",
              "      fill: #FFFFFF;\n",
              "    }\n",
              "  </style>\n",
              "\n",
              "      <script>\n",
              "        const buttonEl =\n",
              "          document.querySelector('#df-79cd44a3-365e-430b-9ded-86d9fb7c79f5 button.colab-df-convert');\n",
              "        buttonEl.style.display =\n",
              "          google.colab.kernel.accessAllowed ? 'block' : 'none';\n",
              "\n",
              "        async function convertToInteractive(key) {\n",
              "          const element = document.querySelector('#df-79cd44a3-365e-430b-9ded-86d9fb7c79f5');\n",
              "          const dataTable =\n",
              "            await google.colab.kernel.invokeFunction('convertToInteractive',\n",
              "                                                     [key], {});\n",
              "          if (!dataTable) return;\n",
              "\n",
              "          const docLinkHtml = 'Like what you see? Visit the ' +\n",
              "            '<a target=\"_blank\" href=https://colab.research.google.com/notebooks/data_table.ipynb>data table notebook</a>'\n",
              "            + ' to learn more about interactive tables.';\n",
              "          element.innerHTML = '';\n",
              "          dataTable['output_type'] = 'display_data';\n",
              "          await google.colab.output.renderOutput(dataTable, element);\n",
              "          const docLink = document.createElement('div');\n",
              "          docLink.innerHTML = docLinkHtml;\n",
              "          element.appendChild(docLink);\n",
              "        }\n",
              "      </script>\n",
              "    </div>\n",
              "  </div>\n",
              "  "
            ]
          },
          "metadata": {},
          "execution_count": 23
        }
      ]
    },
    {
      "cell_type": "markdown",
      "source": [
        "Here, we have the first 5 rows from the reviews DataFrame. The 'date' format can be modified and could even be truncated for the initial model. "
      ],
      "metadata": {
        "id": "unZNNAiJIzZl"
      }
    },
    {
      "cell_type": "code",
      "source": [
        "# Truncating the DateSubmitted and DateModified columns\n",
        "reviews=reviews[['ReviewId','RecipeId','AuthorId','AuthorName','Rating','Review']]"
      ],
      "metadata": {
        "id": "Eqxs8fU1BZGy"
      },
      "execution_count": 24,
      "outputs": []
    },
    {
      "cell_type": "code",
      "source": [
        "# Checking the shape of dataframe after truncating 2 columns from intial 8\n",
        "reviews.shape"
      ],
      "metadata": {
        "colab": {
          "base_uri": "https://localhost:8080/"
        },
        "id": "Nps8mh-wo0KW",
        "outputId": "6315d4d4-9095-4e15-9bd1-ce73b379e471"
      },
      "execution_count": 25,
      "outputs": [
        {
          "output_type": "execute_result",
          "data": {
            "text/plain": [
              "(1401982, 6)"
            ]
          },
          "metadata": {},
          "execution_count": 25
        }
      ]
    },
    {
      "cell_type": "code",
      "source": [
        "# Counting null values in the reviews dataframe\n",
        "c1 = countNullValues(reviews.ReviewId)\n",
        "c2 = countNullValues(reviews.RecipeId) \n",
        "c3 = countNullValues(reviews.AuthorId)\n",
        "c4 = countNullValues(reviews.AuthorName) \n",
        "c5 = countNullValues(reviews.Rating)\n",
        "c6 = countNullValues(reviews.Review) "
      ],
      "metadata": {
        "id": "XD5uOfxIT0Is"
      },
      "execution_count": 26,
      "outputs": []
    },
    {
      "cell_type": "markdown",
      "source": [
        "As there are 214 Null values in reviews column here, we can reuse the function already written in the above subsection."
      ],
      "metadata": {
        "id": "g8kw2HxTUKVM"
      }
    },
    {
      "cell_type": "code",
      "source": [
        "replaceNullValue(reviews.Review)"
      ],
      "metadata": {
        "colab": {
          "base_uri": "https://localhost:8080/"
        },
        "id": "woteUhWHUSo_",
        "outputId": "c710a739-aced-4667-d705-936a5b4e89cd"
      },
      "execution_count": 27,
      "outputs": [
        {
          "output_type": "stream",
          "name": "stderr",
          "text": [
            "/usr/local/lib/python3.7/dist-packages/ipykernel_launcher.py:6: SettingWithCopyWarning: \n",
            "A value is trying to be set on a copy of a slice from a DataFrame\n",
            "\n",
            "See the caveats in the documentation: https://pandas.pydata.org/pandas-docs/stable/user_guide/indexing.html#returning-a-view-versus-a-copy\n",
            "  \n"
          ]
        },
        {
          "output_type": "execute_result",
          "data": {
            "text/plain": [
              "0               better than any you can get at a restaurant!\n",
              "1          I cut back on the mayo, and made up the differ...\n",
              "2          i think i did something wrong because i could ...\n",
              "3          easily the best i have ever had.  juicy flavor...\n",
              "4                                         An excellent dish.\n",
              "                                 ...                        \n",
              "1401977    I was disappointed. I couldn't wait to make th...\n",
              "1401978    Nothing to drain. And I don’t heat up the liqu...\n",
              "1401979    Good base recipe for someone to start with. I ...\n",
              "1401980    Thank you so much for this amazing recipe! I l...\n",
              "1401981    I can't say enough about this recipe.... the b...\n",
              "Name: Review, Length: 1401982, dtype: object"
            ]
          },
          "metadata": {},
          "execution_count": 27
        }
      ]
    },
    {
      "cell_type": "code",
      "source": [
        "countNullValues(reviews.Review)"
      ],
      "metadata": {
        "colab": {
          "base_uri": "https://localhost:8080/"
        },
        "id": "FsGQ5rWqUmBW",
        "outputId": "e6f88eb4-17ee-42e5-b1b0-d40b6be953fc"
      },
      "execution_count": 28,
      "outputs": [
        {
          "output_type": "execute_result",
          "data": {
            "text/plain": [
              "0"
            ]
          },
          "metadata": {},
          "execution_count": 28
        }
      ]
    },
    {
      "cell_type": "markdown",
      "source": [
        "So finally, we have no null values and the data is filtered too ✔"
      ],
      "metadata": {
        "id": "40Wuryu5UpmL"
      }
    },
    {
      "cell_type": "markdown",
      "source": [
        "## 🥡 Formatting Data Values"
      ],
      "metadata": {
        "id": "nFOEFKJj5HjI"
      }
    },
    {
      "cell_type": "markdown",
      "source": [
        "### 📁 Recipes DataFrame\n",
        "\n",
        "**CookTime**, **PrepTime** and **TotalTime** have data in the **ISO 8601 duration format**. They can simply be reformatted with a one-liner function available in Python. We just need to replace the initial 'PT' with ''. We do it by using **replace()** Method."
      ],
      "metadata": {
        "id": "25N2LgEhQ5pg"
      }
    },
    {
      "cell_type": "code",
      "source": [
        "# Formatting CookTime and PrepTime\n",
        "recipes.CookTime = recipes.CookTime.str.replace('PT', '')\n",
        "recipes.PrepTime = recipes.PrepTime.str.replace('PT', '')\n",
        "recipes.TotalTime = recipes.TotalTime.str.replace('PT', '')"
      ],
      "metadata": {
        "id": "FC4U_DA6Achw"
      },
      "execution_count": 29,
      "outputs": []
    },
    {
      "cell_type": "markdown",
      "source": [
        "Let's have a look at the formatting that has been performed uptill now. For reference, \"2H\" and \"2M\" indicates 2 Hours and 2 Minutes respectively. \n"
      ],
      "metadata": {
        "id": "Z8DO3fFYGeDD"
      }
    },
    {
      "cell_type": "code",
      "source": [
        "recipes.CookTime[0]"
      ],
      "metadata": {
        "colab": {
          "base_uri": "https://localhost:8080/",
          "height": 36
        },
        "id": "i3BgTsps8vis",
        "outputId": "070070e2-d3ed-46a4-baa8-65c006f71dc8"
      },
      "execution_count": 30,
      "outputs": [
        {
          "output_type": "execute_result",
          "data": {
            "text/plain": [
              "'24H'"
            ],
            "application/vnd.google.colaboratory.intrinsic+json": {
              "type": "string"
            }
          },
          "metadata": {},
          "execution_count": 30
        }
      ]
    },
    {
      "cell_type": "markdown",
      "source": [
        "For rest of the columns, I'll define a function which would return a list of the formatted values. We need a list for all the remaining columns except for RecipeInstructions. For that, we just need to store the recipe in a single string object. And hence, the function for it would differ. "
      ],
      "metadata": {
        "id": "GyKzKbtv57i5"
      }
    },
    {
      "cell_type": "code",
      "source": [
        "# Splitting data over '\", \"' and ignoring the starting 'c(\"' and ending '\")' for all\n",
        "# For NA values in keywords column, replacing it by \"NA\"\n",
        "# For character(0) value in Images column, replacing it with \"character(0)\"\n",
        "# Ignoring any \"\\n\" occurrence, \n",
        "# For some special cases in Images column which begin with '\"http' instead of more common'c(\"' and end normally instead of '\")', \n",
        "# making it to read characters from 1st index(character h) only and ignoring just the last '\"' by the if-else conditional\n",
        "def reformatColumns(columnTitle):\n",
        "  L = []\n",
        "  for i in columnTitle:\n",
        "    if(type(i) == str):\n",
        "      i = i.replace(\"NA\", '\"NA\"')\n",
        "      i = i.replace(\"character(0)\", 'c(\"character(0)\")')\n",
        "      i = i.replace(\"\\n\", \"\")\n",
        "      if(i[0:5] == '\"http'):\n",
        "        L.append([i[1:-1]]) \n",
        "      else:\n",
        "        L.append(i[3:-2].split('\", \"')) \n",
        "    else:\n",
        "      L.append([])\n",
        "  return L"
      ],
      "metadata": {
        "id": "hOXblfJ-ZqwZ"
      },
      "execution_count": 31,
      "outputs": []
    },
    {
      "cell_type": "code",
      "source": [
        "# As there is no need of splitting, replacing some values and appending it to the list to be returned for each recipe\n",
        "def reformatRecipe(recipe):\n",
        "  L = []\n",
        "  for i in recipe:\n",
        "    i = i.replace(\"\\n\", \"\")\n",
        "    i = i.replace('.\", \"', '. ')\n",
        "    i = i.replace('c(\"', '')\n",
        "    i = i.replace('\")', '')\n",
        "    L.append(i)\n",
        "  return L"
      ],
      "metadata": {
        "id": "xpx5MsHf0P31"
      },
      "execution_count": 32,
      "outputs": []
    },
    {
      "cell_type": "code",
      "source": [
        "recipes.Images = reformatColumns(recipes.Images)"
      ],
      "metadata": {
        "id": "78kKqekkynjE"
      },
      "execution_count": 33,
      "outputs": []
    },
    {
      "cell_type": "code",
      "source": [
        "recipes.Images.head()"
      ],
      "metadata": {
        "colab": {
          "base_uri": "https://localhost:8080/"
        },
        "id": "67q6D_TryuRv",
        "outputId": "c3db2391-75fb-46c9-b75e-b7865c71a864"
      },
      "execution_count": 34,
      "outputs": [
        {
          "output_type": "execute_result",
          "data": {
            "text/plain": [
              "0    [https://img.sndimg.com/food/image/upload/w_55...\n",
              "1    [https://img.sndimg.com/food/image/upload/w_55...\n",
              "2    [https://img.sndimg.com/food/image/upload/w_55...\n",
              "3    [https://img.sndimg.com/food/image/upload/w_55...\n",
              "4    [https://img.sndimg.com/food/image/upload/w_55...\n",
              "Name: Images, dtype: object"
            ]
          },
          "metadata": {},
          "execution_count": 34
        }
      ]
    },
    {
      "cell_type": "code",
      "source": [
        "recipes.Keywords = reformatColumns(recipes.Keywords)"
      ],
      "metadata": {
        "id": "G7s4x8gly0aM"
      },
      "execution_count": 35,
      "outputs": []
    },
    {
      "cell_type": "code",
      "source": [
        "recipes.Keywords.head()"
      ],
      "metadata": {
        "id": "qqcYJeuMy3L3",
        "colab": {
          "base_uri": "https://localhost:8080/"
        },
        "outputId": "25199278-af88-48cc-c0ad-4cee55941054"
      },
      "execution_count": 36,
      "outputs": [
        {
          "output_type": "execute_result",
          "data": {
            "text/plain": [
              "0    [Dessert, Low Protein, Low Cholesterol, Health...\n",
              "1    [Chicken Thigh & Leg, Chicken, Poultry, Meat, ...\n",
              "2    [Low Protein, Low Cholesterol, Healthy, Summer...\n",
              "3    [Beans, Vegetable, Low Cholesterol, Weeknight,...\n",
              "4    [Low Protein, Vegan, Low Cholesterol, Healthy,...\n",
              "Name: Keywords, dtype: object"
            ]
          },
          "metadata": {},
          "execution_count": 36
        }
      ]
    },
    {
      "cell_type": "code",
      "source": [
        "recipes.RecipeIngredientParts = reformatColumns(recipes.RecipeIngredientParts)"
      ],
      "metadata": {
        "id": "tNVHrvRGzA4e"
      },
      "execution_count": 37,
      "outputs": []
    },
    {
      "cell_type": "code",
      "source": [
        "recipes.RecipeIngredientParts.head()"
      ],
      "metadata": {
        "id": "dPWaY5-uy_Bu",
        "colab": {
          "base_uri": "https://localhost:8080/"
        },
        "outputId": "bf595f3c-2da5-4721-d4ab-0e5f326c8744"
      },
      "execution_count": 38,
      "outputs": [
        {
          "output_type": "execute_result",
          "data": {
            "text/plain": [
              "0    [blueberries, granulated sugar, vanilla yogurt...\n",
              "1    [saffron, milk, hot green chili peppers, onion...\n",
              "2    [sugar, lemons, rind of, lemon, zest of, fresh...\n",
              "3    [extra firm tofu, eggplant, zucchini, mushroom...\n",
              "4    [plain tomato juice, cabbage, onion, carrots, ...\n",
              "Name: RecipeIngredientParts, dtype: object"
            ]
          },
          "metadata": {},
          "execution_count": 38
        }
      ]
    },
    {
      "cell_type": "code",
      "source": [
        "recipes.RecipeIngredientQuantities = reformatColumns(recipes.RecipeIngredientQuantities)"
      ],
      "metadata": {
        "id": "NhQ85gBRzLFu"
      },
      "execution_count": 39,
      "outputs": []
    },
    {
      "cell_type": "code",
      "source": [
        "recipes.RecipeIngredientQuantities.head()"
      ],
      "metadata": {
        "colab": {
          "base_uri": "https://localhost:8080/"
        },
        "id": "0bJfUL7gzJrt",
        "outputId": "36cebb15-c750-4470-acb3-addd1c769e70"
      },
      "execution_count": 40,
      "outputs": [
        {
          "output_type": "execute_result",
          "data": {
            "text/plain": [
              "0                                       [4, 1/4, 1, 1]\n",
              "1    [1, 4, 2, 2, 8, 1/4, 8, 1/2, 1, 1, 1/4, 1/4, 1...\n",
              "2                       [1 1/2, 1, NA, 1 1/2, NA, 3/4]\n",
              "3    [12, 1, 2, 1, 10, 1, 3, 2, 2, 2, 1, 2, 1/2, 1/...\n",
              "4                                     [46, 4, 1, 2, 1]\n",
              "Name: RecipeIngredientQuantities, dtype: object"
            ]
          },
          "metadata": {},
          "execution_count": 40
        }
      ]
    },
    {
      "cell_type": "markdown",
      "source": [
        "**A quick note** about recipe ingredients and their quantities data columns.\n",
        "\n",
        "**RecipeIngredientQuantities** are as many as the **RecipeIngredientParts** with each ingredient's quantity described with respect to the 1st ingredient mentioned and is in **ratio-part formatting**. \n",
        "\n",
        "For ex, for first recipe, if we take **400 gms** of **blueberries**, then **granulated sugar** should be 1/16th of 400gms which is **25gms** and **vanilla yogurt** and **lemon juice** should be 1/4th of 400gms which is **100gms** each."
      ],
      "metadata": {
        "id": "fndqHl3HIWHp"
      }
    },
    {
      "cell_type": "code",
      "source": [
        "recipes.RecipeInstructions = reformatRecipe(recipes.RecipeInstructions)"
      ],
      "metadata": {
        "id": "5WucaM3e1YZk"
      },
      "execution_count": 41,
      "outputs": []
    },
    {
      "cell_type": "code",
      "source": [
        "recipes.RecipeInstructions.head()"
      ],
      "metadata": {
        "id": "RMnXJZ1r1dpB",
        "colab": {
          "base_uri": "https://localhost:8080/"
        },
        "outputId": "09c5e0fb-5a4b-45ae-dc15-ad73ccd8a091"
      },
      "execution_count": 42,
      "outputs": [
        {
          "output_type": "execute_result",
          "data": {
            "text/plain": [
              "0    Toss 2 cups berries with sugar. Let stand for ...\n",
              "1    Soak saffron in warm milk for 5 minutes and pu...\n",
              "2    Into a 1 quart Jar with tight fitting lid, put...\n",
              "3    Drain the tofu, carefully squeezing out excess...\n",
              "4    Mix everything together and bring to a boil. R...\n",
              "Name: RecipeInstructions, dtype: object"
            ]
          },
          "metadata": {},
          "execution_count": 42
        }
      ]
    },
    {
      "cell_type": "markdown",
      "source": [
        "After having formatted the recipes DataFrame, let's have a look over it."
      ],
      "metadata": {
        "id": "OCv7uiKWJ2Jj"
      }
    },
    {
      "cell_type": "code",
      "source": [
        "# Let's have a look at the filtered DataFrame\n",
        "# Checking 1st recipe's data values(formatted)\n",
        "recipes.loc[0]"
      ],
      "metadata": {
        "colab": {
          "base_uri": "https://localhost:8080/"
        },
        "id": "d64PDZVwTg6t",
        "outputId": "85b6e9e5-88ec-478c-c2ed-1ac5fa29908d"
      },
      "execution_count": 43,
      "outputs": [
        {
          "output_type": "execute_result",
          "data": {
            "text/plain": [
              "RecipeId                                                                     38\n",
              "Name                                          Low-Fat Berry Blue Frozen Dessert\n",
              "AuthorId                                                                   1533\n",
              "AuthorName                                                               Dancer\n",
              "CookTime                                                                    24H\n",
              "PrepTime                                                                    45M\n",
              "TotalTime                                                                24H45M\n",
              "Description                   Make and share this Low-Fat Berry Blue Frozen ...\n",
              "Images                        [https://img.sndimg.com/food/image/upload/w_55...\n",
              "RecipeCategory                                                  Frozen Desserts\n",
              "Keywords                      [Dessert, Low Protein, Low Cholesterol, Health...\n",
              "RecipeIngredientQuantities                                       [4, 1/4, 1, 1]\n",
              "RecipeIngredientParts         [blueberries, granulated sugar, vanilla yogurt...\n",
              "AggregatedRating                                                            4.5\n",
              "ReviewCount                                                                 4.0\n",
              "Calories                                                                  170.9\n",
              "FatContent                                                                  2.5\n",
              "SaturatedFatContent                                                         1.3\n",
              "CholesterolContent                                                          8.0\n",
              "SodiumContent                                                              29.8\n",
              "CarbohydrateContent                                                        37.1\n",
              "FiberContent                                                                3.6\n",
              "SugarContent                                                               30.2\n",
              "ProteinContent                                                              3.2\n",
              "RecipeServings                                                              4.0\n",
              "RecipeInstructions            Toss 2 cups berries with sugar. Let stand for ...\n",
              "Name: 0, dtype: object"
            ]
          },
          "metadata": {},
          "execution_count": 43
        }
      ]
    },
    {
      "cell_type": "code",
      "source": [
        "recipes.shape"
      ],
      "metadata": {
        "colab": {
          "base_uri": "https://localhost:8080/"
        },
        "id": "UW7j_JjkBrWV",
        "outputId": "277b27f5-6bfd-433b-af77-9dd669c211f7"
      },
      "execution_count": 44,
      "outputs": [
        {
          "output_type": "execute_result",
          "data": {
            "text/plain": [
              "(522517, 26)"
            ]
          },
          "metadata": {},
          "execution_count": 44
        }
      ]
    },
    {
      "cell_type": "markdown",
      "source": [
        "### 💯 Reviews Dataframe\n",
        "\n",
        "As the data looks quite clean, there's no formatting needed here! ✔"
      ],
      "metadata": {
        "id": "AaNFy87yRCTa"
      }
    },
    {
      "cell_type": "code",
      "source": [
        "reviews.head(5)"
      ],
      "metadata": {
        "colab": {
          "base_uri": "https://localhost:8080/",
          "height": 206
        },
        "id": "f6_XYd7kRPYL",
        "outputId": "49eb1f39-1416-43d8-d2dc-8ae47203fe8f"
      },
      "execution_count": 45,
      "outputs": [
        {
          "output_type": "execute_result",
          "data": {
            "text/plain": [
              "   ReviewId  RecipeId  AuthorId        AuthorName  Rating  \\\n",
              "0         2       992      2008         gayg msft       5   \n",
              "1         7      4384      1634     Bill Hilbrich       4   \n",
              "2         9      4523      2046  Gay Gilmore ckpt       2   \n",
              "3        13      7435      1773     Malarkey Test       5   \n",
              "4        14        44      2085        Tony Small       5   \n",
              "\n",
              "                                              Review  \n",
              "0       better than any you can get at a restaurant!  \n",
              "1  I cut back on the mayo, and made up the differ...  \n",
              "2  i think i did something wrong because i could ...  \n",
              "3  easily the best i have ever had.  juicy flavor...  \n",
              "4                                 An excellent dish.  "
            ],
            "text/html": [
              "\n",
              "  <div id=\"df-f5ff9de3-b10c-4685-80e4-d5598a0b5bdf\">\n",
              "    <div class=\"colab-df-container\">\n",
              "      <div>\n",
              "<style scoped>\n",
              "    .dataframe tbody tr th:only-of-type {\n",
              "        vertical-align: middle;\n",
              "    }\n",
              "\n",
              "    .dataframe tbody tr th {\n",
              "        vertical-align: top;\n",
              "    }\n",
              "\n",
              "    .dataframe thead th {\n",
              "        text-align: right;\n",
              "    }\n",
              "</style>\n",
              "<table border=\"1\" class=\"dataframe\">\n",
              "  <thead>\n",
              "    <tr style=\"text-align: right;\">\n",
              "      <th></th>\n",
              "      <th>ReviewId</th>\n",
              "      <th>RecipeId</th>\n",
              "      <th>AuthorId</th>\n",
              "      <th>AuthorName</th>\n",
              "      <th>Rating</th>\n",
              "      <th>Review</th>\n",
              "    </tr>\n",
              "  </thead>\n",
              "  <tbody>\n",
              "    <tr>\n",
              "      <th>0</th>\n",
              "      <td>2</td>\n",
              "      <td>992</td>\n",
              "      <td>2008</td>\n",
              "      <td>gayg msft</td>\n",
              "      <td>5</td>\n",
              "      <td>better than any you can get at a restaurant!</td>\n",
              "    </tr>\n",
              "    <tr>\n",
              "      <th>1</th>\n",
              "      <td>7</td>\n",
              "      <td>4384</td>\n",
              "      <td>1634</td>\n",
              "      <td>Bill Hilbrich</td>\n",
              "      <td>4</td>\n",
              "      <td>I cut back on the mayo, and made up the differ...</td>\n",
              "    </tr>\n",
              "    <tr>\n",
              "      <th>2</th>\n",
              "      <td>9</td>\n",
              "      <td>4523</td>\n",
              "      <td>2046</td>\n",
              "      <td>Gay Gilmore ckpt</td>\n",
              "      <td>2</td>\n",
              "      <td>i think i did something wrong because i could ...</td>\n",
              "    </tr>\n",
              "    <tr>\n",
              "      <th>3</th>\n",
              "      <td>13</td>\n",
              "      <td>7435</td>\n",
              "      <td>1773</td>\n",
              "      <td>Malarkey Test</td>\n",
              "      <td>5</td>\n",
              "      <td>easily the best i have ever had.  juicy flavor...</td>\n",
              "    </tr>\n",
              "    <tr>\n",
              "      <th>4</th>\n",
              "      <td>14</td>\n",
              "      <td>44</td>\n",
              "      <td>2085</td>\n",
              "      <td>Tony Small</td>\n",
              "      <td>5</td>\n",
              "      <td>An excellent dish.</td>\n",
              "    </tr>\n",
              "  </tbody>\n",
              "</table>\n",
              "</div>\n",
              "      <button class=\"colab-df-convert\" onclick=\"convertToInteractive('df-f5ff9de3-b10c-4685-80e4-d5598a0b5bdf')\"\n",
              "              title=\"Convert this dataframe to an interactive table.\"\n",
              "              style=\"display:none;\">\n",
              "        \n",
              "  <svg xmlns=\"http://www.w3.org/2000/svg\" height=\"24px\"viewBox=\"0 0 24 24\"\n",
              "       width=\"24px\">\n",
              "    <path d=\"M0 0h24v24H0V0z\" fill=\"none\"/>\n",
              "    <path d=\"M18.56 5.44l.94 2.06.94-2.06 2.06-.94-2.06-.94-.94-2.06-.94 2.06-2.06.94zm-11 1L8.5 8.5l.94-2.06 2.06-.94-2.06-.94L8.5 2.5l-.94 2.06-2.06.94zm10 10l.94 2.06.94-2.06 2.06-.94-2.06-.94-.94-2.06-.94 2.06-2.06.94z\"/><path d=\"M17.41 7.96l-1.37-1.37c-.4-.4-.92-.59-1.43-.59-.52 0-1.04.2-1.43.59L10.3 9.45l-7.72 7.72c-.78.78-.78 2.05 0 2.83L4 21.41c.39.39.9.59 1.41.59.51 0 1.02-.2 1.41-.59l7.78-7.78 2.81-2.81c.8-.78.8-2.07 0-2.86zM5.41 20L4 18.59l7.72-7.72 1.47 1.35L5.41 20z\"/>\n",
              "  </svg>\n",
              "      </button>\n",
              "      \n",
              "  <style>\n",
              "    .colab-df-container {\n",
              "      display:flex;\n",
              "      flex-wrap:wrap;\n",
              "      gap: 12px;\n",
              "    }\n",
              "\n",
              "    .colab-df-convert {\n",
              "      background-color: #E8F0FE;\n",
              "      border: none;\n",
              "      border-radius: 50%;\n",
              "      cursor: pointer;\n",
              "      display: none;\n",
              "      fill: #1967D2;\n",
              "      height: 32px;\n",
              "      padding: 0 0 0 0;\n",
              "      width: 32px;\n",
              "    }\n",
              "\n",
              "    .colab-df-convert:hover {\n",
              "      background-color: #E2EBFA;\n",
              "      box-shadow: 0px 1px 2px rgba(60, 64, 67, 0.3), 0px 1px 3px 1px rgba(60, 64, 67, 0.15);\n",
              "      fill: #174EA6;\n",
              "    }\n",
              "\n",
              "    [theme=dark] .colab-df-convert {\n",
              "      background-color: #3B4455;\n",
              "      fill: #D2E3FC;\n",
              "    }\n",
              "\n",
              "    [theme=dark] .colab-df-convert:hover {\n",
              "      background-color: #434B5C;\n",
              "      box-shadow: 0px 1px 3px 1px rgba(0, 0, 0, 0.15);\n",
              "      filter: drop-shadow(0px 1px 2px rgba(0, 0, 0, 0.3));\n",
              "      fill: #FFFFFF;\n",
              "    }\n",
              "  </style>\n",
              "\n",
              "      <script>\n",
              "        const buttonEl =\n",
              "          document.querySelector('#df-f5ff9de3-b10c-4685-80e4-d5598a0b5bdf button.colab-df-convert');\n",
              "        buttonEl.style.display =\n",
              "          google.colab.kernel.accessAllowed ? 'block' : 'none';\n",
              "\n",
              "        async function convertToInteractive(key) {\n",
              "          const element = document.querySelector('#df-f5ff9de3-b10c-4685-80e4-d5598a0b5bdf');\n",
              "          const dataTable =\n",
              "            await google.colab.kernel.invokeFunction('convertToInteractive',\n",
              "                                                     [key], {});\n",
              "          if (!dataTable) return;\n",
              "\n",
              "          const docLinkHtml = 'Like what you see? Visit the ' +\n",
              "            '<a target=\"_blank\" href=https://colab.research.google.com/notebooks/data_table.ipynb>data table notebook</a>'\n",
              "            + ' to learn more about interactive tables.';\n",
              "          element.innerHTML = '';\n",
              "          dataTable['output_type'] = 'display_data';\n",
              "          await google.colab.output.renderOutput(dataTable, element);\n",
              "          const docLink = document.createElement('div');\n",
              "          docLink.innerHTML = docLinkHtml;\n",
              "          element.appendChild(docLink);\n",
              "        }\n",
              "      </script>\n",
              "    </div>\n",
              "  </div>\n",
              "  "
            ]
          },
          "metadata": {},
          "execution_count": 45
        }
      ]
    },
    {
      "cell_type": "markdown",
      "source": [
        "<a id=\"*analyzing*-data\"></a>\n",
        "# 🧠 Analyzing the Data"
      ],
      "metadata": {
        "id": "bNPzXs_5o-Js"
      }
    },
    {
      "cell_type": "markdown",
      "source": [
        "Analyzing the reviews matrix is of utmost importance while generating generalized recommendations. The model must know details about the patterns and behavior/trend present in the reviews and ratings data in order to generate intelligent recommendations. \n",
        "\n",
        "Here's some breif detail about the ratings and their density. Let's review the reviews DataFrame for better clarity of the ratings density matrix:\n",
        "\n",
        "\n",
        "\n",
        "\n",
        "\n"
      ],
      "metadata": {
        "id": "0Z_bBj1_IvPf"
      }
    },
    {
      "cell_type": "markdown",
      "source": [
        "### 🔎 Reviews DataFrame Overview"
      ],
      "metadata": {
        "id": "fYDzIbL9Z997"
      }
    },
    {
      "cell_type": "code",
      "source": [
        "# Finding minimum and maximum ratings\n",
        "reviews['Rating'].min(), reviews['Rating'].max()"
      ],
      "metadata": {
        "colab": {
          "base_uri": "https://localhost:8080/"
        },
        "id": "0TR5izO4Cs-Y",
        "outputId": "a9366214-702a-4817-83d7-a6d771569a12"
      },
      "execution_count": 46,
      "outputs": [
        {
          "output_type": "execute_result",
          "data": {
            "text/plain": [
              "(0, 5)"
            ]
          },
          "metadata": {},
          "execution_count": 46
        }
      ]
    },
    {
      "cell_type": "code",
      "source": [
        "# Checking the Rating distribution in the range 0-5 for the Data given \n",
        "import seaborn as sns\n",
        "with sns.axes_style('white'):\n",
        "    g = sns.factorplot(\"Rating\", data=reviews, aspect=2.0,kind='count')\n",
        "    g.set_ylabels(\"Total number of ratings\")"
      ],
      "metadata": {
        "colab": {
          "base_uri": "https://localhost:8080/",
          "height": 458
        },
        "id": "L2dOzhGODwS2",
        "outputId": "701e5462-6446-4657-a60d-a0b0ce9f8b4a"
      },
      "execution_count": 47,
      "outputs": [
        {
          "output_type": "stream",
          "name": "stderr",
          "text": [
            "/usr/local/lib/python3.7/dist-packages/seaborn/categorical.py:3717: UserWarning: The `factorplot` function has been renamed to `catplot`. The original name will be removed in a future release. Please update your code. Note that the default `kind` in `factorplot` (`'point'`) has changed `'strip'` in `catplot`.\n",
            "  warnings.warn(msg)\n",
            "/usr/local/lib/python3.7/dist-packages/seaborn/_decorators.py:43: FutureWarning: Pass the following variable as a keyword arg: x. From version 0.12, the only valid positional argument will be `data`, and passing other arguments without an explicit keyword will result in an error or misinterpretation.\n",
            "  FutureWarning\n"
          ]
        },
        {
          "output_type": "display_data",
          "data": {
            "text/plain": [
              "<Figure size 720x360 with 1 Axes>"
            ],
            "image/png": "[encoded data removed]"
          },
          "metadata": {}
        }
      ]
    },
    {
      "cell_type": "code",
      "source": [
        "print(\"\\nTotal no of ratings :\", reviews.shape[0])\n",
        "print(\"Total No of authors   :\", len(np.unique(reviews.AuthorId)))\n",
        "print(\"Total No of recipes  :\", len(np.unique(reviews.RecipeId)))"
      ],
      "metadata": {
        "id": "TMDqiSFuyHe3",
        "colab": {
          "base_uri": "https://localhost:8080/"
        },
        "outputId": "e0a23204-d728-4791-a83b-24bc67933994"
      },
      "execution_count": 48,
      "outputs": [
        {
          "output_type": "stream",
          "name": "stdout",
          "text": [
            "\n",
            "Total no of ratings : 1401982\n",
            "Total No of authors   : 271907\n",
            "Total No of recipes  : 271678\n"
          ]
        }
      ]
    },
    {
      "cell_type": "markdown",
      "source": [
        "A total of 272k users have rated 271k recipes. But we need to select the authors who have rated a significant number of recipes."
      ],
      "metadata": {
        "id": "DTIoyBWLaKSD"
      }
    },
    {
      "cell_type": "markdown",
      "source": [
        "### 🥈 Selecting Authors"
      ],
      "metadata": {
        "id": "70PZbAJnZzsj"
      }
    },
    {
      "cell_type": "markdown",
      "source": [
        "Using the groupby clause, checking how many times an author has rated the recipes and sorting them in descending order. This will help in selecting the authors who have atleast rated more than say, a 100 recipes.**bold text**"
      ],
      "metadata": {
        "id": "urzgYuw4X00e"
      }
    },
    {
      "cell_type": "code",
      "source": [
        "# Using groupby method to group authors based on their rating counts and sorting in descending order\n",
        "reviews.groupby('AuthorId')['Rating'].count().sort_values(ascending=False)"
      ],
      "metadata": {
        "colab": {
          "base_uri": "https://localhost:8080/"
        },
        "id": "myDO-0RUDUaR",
        "outputId": "538cd9cf-083c-4128-aba7-4d495f0565ee"
      },
      "execution_count": 49,
      "outputs": [
        {
          "output_type": "execute_result",
          "data": {
            "text/plain": [
              "AuthorId\n",
              "424680        8842\n",
              "37449         6605\n",
              "383346        5438\n",
              "128473        4693\n",
              "169430        4586\n",
              "              ... \n",
              "1505829          1\n",
              "1505866          1\n",
              "1505869          1\n",
              "1505873          1\n",
              "2002901938       1\n",
              "Name: Rating, Length: 271907, dtype: int64"
            ]
          },
          "metadata": {},
          "execution_count": 49
        }
      ]
    },
    {
      "cell_type": "code",
      "source": [
        "# To calcuate the density matrix, keeping only the authors who have rated more than 100 recipes\n",
        "counts = reviews['AuthorId'].value_counts()\n",
        "valueReviews = reviews[reviews['AuthorId'].isin(counts[counts >= 100].index)]\n",
        "valueReviews.shape "
      ],
      "metadata": {
        "colab": {
          "base_uri": "https://localhost:8080/"
        },
        "id": "F1o6XDQlED9a",
        "outputId": "a807a591-3416-4943-d014-852e836e0be5"
      },
      "execution_count": 50,
      "outputs": [
        {
          "output_type": "execute_result",
          "data": {
            "text/plain": [
              "(652022, 6)"
            ]
          },
          "metadata": {},
          "execution_count": 50
        }
      ]
    },
    {
      "cell_type": "code",
      "source": [
        "valueReviews.reset_index(inplace = True, drop = True)"
      ],
      "metadata": {
        "id": "wQZhtCisz9ij"
      },
      "execution_count": 51,
      "outputs": []
    },
    {
      "cell_type": "code",
      "source": [
        "valueReviews.head()"
      ],
      "metadata": {
        "colab": {
          "base_uri": "https://localhost:8080/",
          "height": 206
        },
        "id": "q0mCOdnTzmRk",
        "outputId": "6f0f86d1-a310-4783-a00a-2c92e0eb4b9d"
      },
      "execution_count": 52,
      "outputs": [
        {
          "output_type": "execute_result",
          "data": {
            "text/plain": [
              "   ReviewId  RecipeId  AuthorId   AuthorName  Rating  \\\n",
              "0        47       780      2312  Gay Gilmore       5   \n",
              "1        53     51964      2312  Gay Gilmore       5   \n",
              "2        66      3862      2312  Gay Gilmore       5   \n",
              "3        67      4397      2312  Gay Gilmore       5   \n",
              "4        71      1232      2312  Gay Gilmore       4   \n",
              "\n",
              "                                              Review  \n",
              "0                            This was delicious.\\r\\n  \n",
              "1  This dish was lovely.  All my guests complimen...  \n",
              "2              I added curry powder to jazz them up.  \n",
              "3                             Everyone loves it.\\r\\n  \n",
              "4  It was good, it just tasted a little too tomat...  "
            ],
            "text/html": [
              "\n",
              "  <div id=\"df-4882a249-d0f6-43c2-b0fd-17928d3e81e9\">\n",
              "    <div class=\"colab-df-container\">\n",
              "      <div>\n",
              "<style scoped>\n",
              "    .dataframe tbody tr th:only-of-type {\n",
              "        vertical-align: middle;\n",
              "    }\n",
              "\n",
              "    .dataframe tbody tr th {\n",
              "        vertical-align: top;\n",
              "    }\n",
              "\n",
              "    .dataframe thead th {\n",
              "        text-align: right;\n",
              "    }\n",
              "</style>\n",
              "<table border=\"1\" class=\"dataframe\">\n",
              "  <thead>\n",
              "    <tr style=\"text-align: right;\">\n",
              "      <th></th>\n",
              "      <th>ReviewId</th>\n",
              "      <th>RecipeId</th>\n",
              "      <th>AuthorId</th>\n",
              "      <th>AuthorName</th>\n",
              "      <th>Rating</th>\n",
              "      <th>Review</th>\n",
              "    </tr>\n",
              "  </thead>\n",
              "  <tbody>\n",
              "    <tr>\n",
              "      <th>0</th>\n",
              "      <td>47</td>\n",
              "      <td>780</td>\n",
              "      <td>2312</td>\n",
              "      <td>Gay Gilmore</td>\n",
              "      <td>5</td>\n",
              "      <td>This was delicious.\\r\\n</td>\n",
              "    </tr>\n",
              "    <tr>\n",
              "      <th>1</th>\n",
              "      <td>53</td>\n",
              "      <td>51964</td>\n",
              "      <td>2312</td>\n",
              "      <td>Gay Gilmore</td>\n",
              "      <td>5</td>\n",
              "      <td>This dish was lovely.  All my guests complimen...</td>\n",
              "    </tr>\n",
              "    <tr>\n",
              "      <th>2</th>\n",
              "      <td>66</td>\n",
              "      <td>3862</td>\n",
              "      <td>2312</td>\n",
              "      <td>Gay Gilmore</td>\n",
              "      <td>5</td>\n",
              "      <td>I added curry powder to jazz them up.</td>\n",
              "    </tr>\n",
              "    <tr>\n",
              "      <th>3</th>\n",
              "      <td>67</td>\n",
              "      <td>4397</td>\n",
              "      <td>2312</td>\n",
              "      <td>Gay Gilmore</td>\n",
              "      <td>5</td>\n",
              "      <td>Everyone loves it.\\r\\n</td>\n",
              "    </tr>\n",
              "    <tr>\n",
              "      <th>4</th>\n",
              "      <td>71</td>\n",
              "      <td>1232</td>\n",
              "      <td>2312</td>\n",
              "      <td>Gay Gilmore</td>\n",
              "      <td>4</td>\n",
              "      <td>It was good, it just tasted a little too tomat...</td>\n",
              "    </tr>\n",
              "  </tbody>\n",
              "</table>\n",
              "</div>\n",
              "      <button class=\"colab-df-convert\" onclick=\"convertToInteractive('df-4882a249-d0f6-43c2-b0fd-17928d3e81e9')\"\n",
              "              title=\"Convert this dataframe to an interactive table.\"\n",
              "              style=\"display:none;\">\n",
              "        \n",
              "  <svg xmlns=\"http://www.w3.org/2000/svg\" height=\"24px\"viewBox=\"0 0 24 24\"\n",
              "       width=\"24px\">\n",
              "    <path d=\"M0 0h24v24H0V0z\" fill=\"none\"/>\n",
              "    <path d=\"M18.56 5.44l.94 2.06.94-2.06 2.06-.94-2.06-.94-.94-2.06-.94 2.06-2.06.94zm-11 1L8.5 8.5l.94-2.06 2.06-.94-2.06-.94L8.5 2.5l-.94 2.06-2.06.94zm10 10l.94 2.06.94-2.06 2.06-.94-2.06-.94-.94-2.06-.94 2.06-2.06.94z\"/><path d=\"M17.41 7.96l-1.37-1.37c-.4-.4-.92-.59-1.43-.59-.52 0-1.04.2-1.43.59L10.3 9.45l-7.72 7.72c-.78.78-.78 2.05 0 2.83L4 21.41c.39.39.9.59 1.41.59.51 0 1.02-.2 1.41-.59l7.78-7.78 2.81-2.81c.8-.78.8-2.07 0-2.86zM5.41 20L4 18.59l7.72-7.72 1.47 1.35L5.41 20z\"/>\n",
              "  </svg>\n",
              "      </button>\n",
              "      \n",
              "  <style>\n",
              "    .colab-df-container {\n",
              "      display:flex;\n",
              "      flex-wrap:wrap;\n",
              "      gap: 12px;\n",
              "    }\n",
              "\n",
              "    .colab-df-convert {\n",
              "      background-color: #E8F0FE;\n",
              "      border: none;\n",
              "      border-radius: 50%;\n",
              "      cursor: pointer;\n",
              "      display: none;\n",
              "      fill: #1967D2;\n",
              "      height: 32px;\n",
              "      padding: 0 0 0 0;\n",
              "      width: 32px;\n",
              "    }\n",
              "\n",
              "    .colab-df-convert:hover {\n",
              "      background-color: #E2EBFA;\n",
              "      box-shadow: 0px 1px 2px rgba(60, 64, 67, 0.3), 0px 1px 3px 1px rgba(60, 64, 67, 0.15);\n",
              "      fill: #174EA6;\n",
              "    }\n",
              "\n",
              "    [theme=dark] .colab-df-convert {\n",
              "      background-color: #3B4455;\n",
              "      fill: #D2E3FC;\n",
              "    }\n",
              "\n",
              "    [theme=dark] .colab-df-convert:hover {\n",
              "      background-color: #434B5C;\n",
              "      box-shadow: 0px 1px 3px 1px rgba(0, 0, 0, 0.15);\n",
              "      filter: drop-shadow(0px 1px 2px rgba(0, 0, 0, 0.3));\n",
              "      fill: #FFFFFF;\n",
              "    }\n",
              "  </style>\n",
              "\n",
              "      <script>\n",
              "        const buttonEl =\n",
              "          document.querySelector('#df-4882a249-d0f6-43c2-b0fd-17928d3e81e9 button.colab-df-convert');\n",
              "        buttonEl.style.display =\n",
              "          google.colab.kernel.accessAllowed ? 'block' : 'none';\n",
              "\n",
              "        async function convertToInteractive(key) {\n",
              "          const element = document.querySelector('#df-4882a249-d0f6-43c2-b0fd-17928d3e81e9');\n",
              "          const dataTable =\n",
              "            await google.colab.kernel.invokeFunction('convertToInteractive',\n",
              "                                                     [key], {});\n",
              "          if (!dataTable) return;\n",
              "\n",
              "          const docLinkHtml = 'Like what you see? Visit the ' +\n",
              "            '<a target=\"_blank\" href=https://colab.research.google.com/notebooks/data_table.ipynb>data table notebook</a>'\n",
              "            + ' to learn more about interactive tables.';\n",
              "          element.innerHTML = '';\n",
              "          dataTable['output_type'] = 'display_data';\n",
              "          await google.colab.output.renderOutput(dataTable, element);\n",
              "          const docLink = document.createElement('div');\n",
              "          docLink.innerHTML = docLinkHtml;\n",
              "          element.appendChild(docLink);\n",
              "        }\n",
              "      </script>\n",
              "    </div>\n",
              "  </div>\n",
              "  "
            ]
          },
          "metadata": {},
          "execution_count": 52
        }
      ]
    },
    {
      "cell_type": "markdown",
      "source": [
        "### 🗻 Pivoting the Rating Matrix \n",
        "\n",
        "The **pivot()** function produces pivot table based on 3 columns of the DataFrame. \n",
        "\n",
        "It uses unique values from index / columns and fills with values. The fillna() method replaces the NULL values with a specified value."
      ],
      "metadata": {
        "id": "z4drsQnlZimr"
      }
    },
    {
      "cell_type": "code",
      "source": [
        "finalRatingsMatrix = valueReviews.pivot(index = 'AuthorId', columns ='RecipeId', values = 'Rating').fillna(0)\n",
        "finalRatingsMatrix.shape"
      ],
      "metadata": {
        "colab": {
          "base_uri": "https://localhost:8080/"
        },
        "id": "4ow0sU_SFUHU",
        "outputId": "8333c046-3cc0-40cb-cf04-79cee8c22f18"
      },
      "execution_count": 53,
      "outputs": [
        {
          "output_type": "execute_result",
          "data": {
            "text/plain": [
              "(1735, 208933)"
            ]
          },
          "metadata": {},
          "execution_count": 53
        }
      ]
    },
    {
      "cell_type": "code",
      "source": [
        "# Shape of finalRatingMatrix can be verified as (indexes = unique values in 'AuthorId', and cols = unique values in RecipeId)\n",
        "valueReviews['AuthorId'].value_counts().shape"
      ],
      "metadata": {
        "id": "rxOrsIwrEtRt",
        "colab": {
          "base_uri": "https://localhost:8080/"
        },
        "outputId": "ada7ab37-6a4e-4d23-c5c7-368efaac5e9d"
      },
      "execution_count": 54,
      "outputs": [
        {
          "output_type": "execute_result",
          "data": {
            "text/plain": [
              "(1735,)"
            ]
          },
          "metadata": {},
          "execution_count": 54
        }
      ]
    },
    {
      "cell_type": "code",
      "source": [
        "valueReviews['RecipeId'].value_counts().shape"
      ],
      "metadata": {
        "id": "GNzrltpEFL3K",
        "colab": {
          "base_uri": "https://localhost:8080/"
        },
        "outputId": "5dc5397a-9c65-40c1-e85c-0620b27beab0"
      },
      "execution_count": 55,
      "outputs": [
        {
          "output_type": "execute_result",
          "data": {
            "text/plain": [
              "(208933,)"
            ]
          },
          "metadata": {},
          "execution_count": 55
        }
      ]
    },
    {
      "cell_type": "code",
      "source": [
        "# Have a look at the final ratings matrix formed by the pivot function\n",
        "finalRatingsMatrix"
      ],
      "metadata": {
        "id": "hDj7CKqgGOwB",
        "colab": {
          "base_uri": "https://localhost:8080/",
          "height": 455
        },
        "outputId": "ae74c8af-aeda-4b47-d963-e211813a223b"
      },
      "execution_count": 56,
      "outputs": [
        {
          "output_type": "execute_result",
          "data": {
            "text/plain": [
              "RecipeId    38      40      41      42      44      45      46      47      \\\n",
              "AuthorId                                                                     \n",
              "1533           0.0     0.0     0.0     0.0     0.0     0.0     0.0     0.0   \n",
              "1535           0.0     0.0     0.0     0.0     0.0     0.0     0.0     0.0   \n",
              "2310           0.0     0.0     0.0     0.0     0.0     0.0     0.0     0.0   \n",
              "2312           0.0     0.0     0.0     0.0     0.0     0.0     0.0     0.0   \n",
              "3288           0.0     0.0     0.0     0.0     0.0     0.0     0.0     0.0   \n",
              "...            ...     ...     ...     ...     ...     ...     ...     ...   \n",
              "2001102678     0.0     0.0     0.0     0.0     0.0     0.0     0.0     0.0   \n",
              "2001112113     0.0     0.0     0.0     0.0     0.0     0.0     0.0     0.0   \n",
              "2001297534     0.0     0.0     0.0     0.0     0.0     0.0     0.0     0.0   \n",
              "2001362355     0.0     0.0     0.0     0.0     0.0     0.0     0.0     0.0   \n",
              "2002256447     0.0     0.0     0.0     0.0     0.0     0.0     0.0     0.0   \n",
              "\n",
              "RecipeId    49      52      ...  540590  540594  540622  540664  540682  \\\n",
              "AuthorId                    ...                                           \n",
              "1533           0.0     0.0  ...     0.0     0.0     0.0     0.0     0.0   \n",
              "1535           0.0     0.0  ...     0.0     0.0     0.0     0.0     0.0   \n",
              "2310           0.0     0.0  ...     0.0     0.0     0.0     0.0     0.0   \n",
              "2312           0.0     0.0  ...     0.0     0.0     0.0     0.0     0.0   \n",
              "3288           0.0     0.0  ...     0.0     0.0     0.0     0.0     0.0   \n",
              "...            ...     ...  ...     ...     ...     ...     ...     ...   \n",
              "2001102678     0.0     0.0  ...     0.0     0.0     0.0     0.0     0.0   \n",
              "2001112113     0.0     0.0  ...     0.0     0.0     0.0     0.0     0.0   \n",
              "2001297534     0.0     0.0  ...     0.0     0.0     0.0     0.0     0.0   \n",
              "2001362355     0.0     0.0  ...     0.0     0.0     0.0     0.0     0.0   \n",
              "2002256447     0.0     0.0  ...     0.0     0.0     0.0     0.0     0.0   \n",
              "\n",
              "RecipeId    540716  540717  540731  540876  541030  \n",
              "AuthorId                                            \n",
              "1533           0.0     0.0     0.0     0.0     0.0  \n",
              "1535           0.0     0.0     0.0     0.0     0.0  \n",
              "2310           0.0     0.0     0.0     0.0     0.0  \n",
              "2312           0.0     0.0     0.0     0.0     0.0  \n",
              "3288           0.0     0.0     0.0     0.0     0.0  \n",
              "...            ...     ...     ...     ...     ...  \n",
              "2001102678     0.0     0.0     0.0     0.0     0.0  \n",
              "2001112113     0.0     0.0     0.0     0.0     0.0  \n",
              "2001297534     0.0     0.0     0.0     0.0     0.0  \n",
              "2001362355     0.0     0.0     0.0     0.0     0.0  \n",
              "2002256447     0.0     0.0     0.0     0.0     0.0  \n",
              "\n",
              "[1735 rows x 208933 columns]"
            ],
            "text/html": [
              "\n",
              "  <div id=\"df-7b44d8f8-4bcd-431b-bb70-18ee166e7a8e\">\n",
              "    <div class=\"colab-df-container\">\n",
              "      <div>\n",
              "<style scoped>\n",
              "    .dataframe tbody tr th:only-of-type {\n",
              "        vertical-align: middle;\n",
              "    }\n",
              "\n",
              "    .dataframe tbody tr th {\n",
              "        vertical-align: top;\n",
              "    }\n",
              "\n",
              "    .dataframe thead th {\n",
              "        text-align: right;\n",
              "    }\n",
              "</style>\n",
              "<table border=\"1\" class=\"dataframe\">\n",
              "  <thead>\n",
              "    <tr style=\"text-align: right;\">\n",
              "      <th>RecipeId</th>\n",
              "      <th>38</th>\n",
              "      <th>40</th>\n",
              "      <th>41</th>\n",
              "      <th>42</th>\n",
              "      <th>44</th>\n",
              "      <th>45</th>\n",
              "      <th>46</th>\n",
              "      <th>47</th>\n",
              "      <th>49</th>\n",
              "      <th>52</th>\n",
              "      <th>...</th>\n",
              "      <th>540590</th>\n",
              "      <th>540594</th>\n",
              "      <th>540622</th>\n",
              "      <th>540664</th>\n",
              "      <th>540682</th>\n",
              "      <th>540716</th>\n",
              "      <th>540717</th>\n",
              "      <th>540731</th>\n",
              "      <th>540876</th>\n",
              "      <th>541030</th>\n",
              "    </tr>\n",
              "    <tr>\n",
              "      <th>AuthorId</th>\n",
              "      <th></th>\n",
              "      <th></th>\n",
              "      <th></th>\n",
              "      <th></th>\n",
              "      <th></th>\n",
              "      <th></th>\n",
              "      <th></th>\n",
              "      <th></th>\n",
              "      <th></th>\n",
              "      <th></th>\n",
              "      <th></th>\n",
              "      <th></th>\n",
              "      <th></th>\n",
              "      <th></th>\n",
              "      <th></th>\n",
              "      <th></th>\n",
              "      <th></th>\n",
              "      <th></th>\n",
              "      <th></th>\n",
              "      <th></th>\n",
              "      <th></th>\n",
              "    </tr>\n",
              "  </thead>\n",
              "  <tbody>\n",
              "    <tr>\n",
              "      <th>1533</th>\n",
              "      <td>0.0</td>\n",
              "      <td>0.0</td>\n",
              "      <td>0.0</td>\n",
              "      <td>0.0</td>\n",
              "      <td>0.0</td>\n",
              "      <td>0.0</td>\n",
              "      <td>0.0</td>\n",
              "      <td>0.0</td>\n",
              "      <td>0.0</td>\n",
              "      <td>0.0</td>\n",
              "      <td>...</td>\n",
              "      <td>0.0</td>\n",
              "      <td>0.0</td>\n",
              "      <td>0.0</td>\n",
              "      <td>0.0</td>\n",
              "      <td>0.0</td>\n",
              "      <td>0.0</td>\n",
              "      <td>0.0</td>\n",
              "      <td>0.0</td>\n",
              "      <td>0.0</td>\n",
              "      <td>0.0</td>\n",
              "    </tr>\n",
              "    <tr>\n",
              "      <th>1535</th>\n",
              "      <td>0.0</td>\n",
              "      <td>0.0</td>\n",
              "      <td>0.0</td>\n",
              "      <td>0.0</td>\n",
              "      <td>0.0</td>\n",
              "      <td>0.0</td>\n",
              "      <td>0.0</td>\n",
              "      <td>0.0</td>\n",
              "      <td>0.0</td>\n",
              "      <td>0.0</td>\n",
              "      <td>...</td>\n",
              "      <td>0.0</td>\n",
              "      <td>0.0</td>\n",
              "      <td>0.0</td>\n",
              "      <td>0.0</td>\n",
              "      <td>0.0</td>\n",
              "      <td>0.0</td>\n",
              "      <td>0.0</td>\n",
              "      <td>0.0</td>\n",
              "      <td>0.0</td>\n",
              "      <td>0.0</td>\n",
              "    </tr>\n",
              "    <tr>\n",
              "      <th>2310</th>\n",
              "      <td>0.0</td>\n",
              "      <td>0.0</td>\n",
              "      <td>0.0</td>\n",
              "      <td>0.0</td>\n",
              "      <td>0.0</td>\n",
              "      <td>0.0</td>\n",
              "      <td>0.0</td>\n",
              "      <td>0.0</td>\n",
              "      <td>0.0</td>\n",
              "      <td>0.0</td>\n",
              "      <td>...</td>\n",
              "      <td>0.0</td>\n",
              "      <td>0.0</td>\n",
              "      <td>0.0</td>\n",
              "      <td>0.0</td>\n",
              "      <td>0.0</td>\n",
              "      <td>0.0</td>\n",
              "      <td>0.0</td>\n",
              "      <td>0.0</td>\n",
              "      <td>0.0</td>\n",
              "      <td>0.0</td>\n",
              "    </tr>\n",
              "    <tr>\n",
              "      <th>2312</th>\n",
              "      <td>0.0</td>\n",
              "      <td>0.0</td>\n",
              "      <td>0.0</td>\n",
              "      <td>0.0</td>\n",
              "      <td>0.0</td>\n",
              "      <td>0.0</td>\n",
              "      <td>0.0</td>\n",
              "      <td>0.0</td>\n",
              "      <td>0.0</td>\n",
              "      <td>0.0</td>\n",
              "      <td>...</td>\n",
              "      <td>0.0</td>\n",
              "      <td>0.0</td>\n",
              "      <td>0.0</td>\n",
              "      <td>0.0</td>\n",
              "      <td>0.0</td>\n",
              "      <td>0.0</td>\n",
              "      <td>0.0</td>\n",
              "      <td>0.0</td>\n",
              "      <td>0.0</td>\n",
              "      <td>0.0</td>\n",
              "    </tr>\n",
              "    <tr>\n",
              "      <th>3288</th>\n",
              "      <td>0.0</td>\n",
              "      <td>0.0</td>\n",
              "      <td>0.0</td>\n",
              "      <td>0.0</td>\n",
              "      <td>0.0</td>\n",
              "      <td>0.0</td>\n",
              "      <td>0.0</td>\n",
              "      <td>0.0</td>\n",
              "      <td>0.0</td>\n",
              "      <td>0.0</td>\n",
              "      <td>...</td>\n",
              "      <td>0.0</td>\n",
              "      <td>0.0</td>\n",
              "      <td>0.0</td>\n",
              "      <td>0.0</td>\n",
              "      <td>0.0</td>\n",
              "      <td>0.0</td>\n",
              "      <td>0.0</td>\n",
              "      <td>0.0</td>\n",
              "      <td>0.0</td>\n",
              "      <td>0.0</td>\n",
              "    </tr>\n",
              "    <tr>\n",
              "      <th>...</th>\n",
              "      <td>...</td>\n",
              "      <td>...</td>\n",
              "      <td>...</td>\n",
              "      <td>...</td>\n",
              "      <td>...</td>\n",
              "      <td>...</td>\n",
              "      <td>...</td>\n",
              "      <td>...</td>\n",
              "      <td>...</td>\n",
              "      <td>...</td>\n",
              "      <td>...</td>\n",
              "      <td>...</td>\n",
              "      <td>...</td>\n",
              "      <td>...</td>\n",
              "      <td>...</td>\n",
              "      <td>...</td>\n",
              "      <td>...</td>\n",
              "      <td>...</td>\n",
              "      <td>...</td>\n",
              "      <td>...</td>\n",
              "      <td>...</td>\n",
              "    </tr>\n",
              "    <tr>\n",
              "      <th>2001102678</th>\n",
              "      <td>0.0</td>\n",
              "      <td>0.0</td>\n",
              "      <td>0.0</td>\n",
              "      <td>0.0</td>\n",
              "      <td>0.0</td>\n",
              "      <td>0.0</td>\n",
              "      <td>0.0</td>\n",
              "      <td>0.0</td>\n",
              "      <td>0.0</td>\n",
              "      <td>0.0</td>\n",
              "      <td>...</td>\n",
              "      <td>0.0</td>\n",
              "      <td>0.0</td>\n",
              "      <td>0.0</td>\n",
              "      <td>0.0</td>\n",
              "      <td>0.0</td>\n",
              "      <td>0.0</td>\n",
              "      <td>0.0</td>\n",
              "      <td>0.0</td>\n",
              "      <td>0.0</td>\n",
              "      <td>0.0</td>\n",
              "    </tr>\n",
              "    <tr>\n",
              "      <th>2001112113</th>\n",
              "      <td>0.0</td>\n",
              "      <td>0.0</td>\n",
              "      <td>0.0</td>\n",
              "      <td>0.0</td>\n",
              "      <td>0.0</td>\n",
              "      <td>0.0</td>\n",
              "      <td>0.0</td>\n",
              "      <td>0.0</td>\n",
              "      <td>0.0</td>\n",
              "      <td>0.0</td>\n",
              "      <td>...</td>\n",
              "      <td>0.0</td>\n",
              "      <td>0.0</td>\n",
              "      <td>0.0</td>\n",
              "      <td>0.0</td>\n",
              "      <td>0.0</td>\n",
              "      <td>0.0</td>\n",
              "      <td>0.0</td>\n",
              "      <td>0.0</td>\n",
              "      <td>0.0</td>\n",
              "      <td>0.0</td>\n",
              "    </tr>\n",
              "    <tr>\n",
              "      <th>2001297534</th>\n",
              "      <td>0.0</td>\n",
              "      <td>0.0</td>\n",
              "      <td>0.0</td>\n",
              "      <td>0.0</td>\n",
              "      <td>0.0</td>\n",
              "      <td>0.0</td>\n",
              "      <td>0.0</td>\n",
              "      <td>0.0</td>\n",
              "      <td>0.0</td>\n",
              "      <td>0.0</td>\n",
              "      <td>...</td>\n",
              "      <td>0.0</td>\n",
              "      <td>0.0</td>\n",
              "      <td>0.0</td>\n",
              "      <td>0.0</td>\n",
              "      <td>0.0</td>\n",
              "      <td>0.0</td>\n",
              "      <td>0.0</td>\n",
              "      <td>0.0</td>\n",
              "      <td>0.0</td>\n",
              "      <td>0.0</td>\n",
              "    </tr>\n",
              "    <tr>\n",
              "      <th>2001362355</th>\n",
              "      <td>0.0</td>\n",
              "      <td>0.0</td>\n",
              "      <td>0.0</td>\n",
              "      <td>0.0</td>\n",
              "      <td>0.0</td>\n",
              "      <td>0.0</td>\n",
              "      <td>0.0</td>\n",
              "      <td>0.0</td>\n",
              "      <td>0.0</td>\n",
              "      <td>0.0</td>\n",
              "      <td>...</td>\n",
              "      <td>0.0</td>\n",
              "      <td>0.0</td>\n",
              "      <td>0.0</td>\n",
              "      <td>0.0</td>\n",
              "      <td>0.0</td>\n",
              "      <td>0.0</td>\n",
              "      <td>0.0</td>\n",
              "      <td>0.0</td>\n",
              "      <td>0.0</td>\n",
              "      <td>0.0</td>\n",
              "    </tr>\n",
              "    <tr>\n",
              "      <th>2002256447</th>\n",
              "      <td>0.0</td>\n",
              "      <td>0.0</td>\n",
              "      <td>0.0</td>\n",
              "      <td>0.0</td>\n",
              "      <td>0.0</td>\n",
              "      <td>0.0</td>\n",
              "      <td>0.0</td>\n",
              "      <td>0.0</td>\n",
              "      <td>0.0</td>\n",
              "      <td>0.0</td>\n",
              "      <td>...</td>\n",
              "      <td>0.0</td>\n",
              "      <td>0.0</td>\n",
              "      <td>0.0</td>\n",
              "      <td>0.0</td>\n",
              "      <td>0.0</td>\n",
              "      <td>0.0</td>\n",
              "      <td>0.0</td>\n",
              "      <td>0.0</td>\n",
              "      <td>0.0</td>\n",
              "      <td>0.0</td>\n",
              "    </tr>\n",
              "  </tbody>\n",
              "</table>\n",
              "<p>1735 rows × 208933 columns</p>\n",
              "</div>\n",
              "      <button class=\"colab-df-convert\" onclick=\"convertToInteractive('df-7b44d8f8-4bcd-431b-bb70-18ee166e7a8e')\"\n",
              "              title=\"Convert this dataframe to an interactive table.\"\n",
              "              style=\"display:none;\">\n",
              "        \n",
              "  <svg xmlns=\"http://www.w3.org/2000/svg\" height=\"24px\"viewBox=\"0 0 24 24\"\n",
              "       width=\"24px\">\n",
              "    <path d=\"M0 0h24v24H0V0z\" fill=\"none\"/>\n",
              "    <path d=\"M18.56 5.44l.94 2.06.94-2.06 2.06-.94-2.06-.94-.94-2.06-.94 2.06-2.06.94zm-11 1L8.5 8.5l.94-2.06 2.06-.94-2.06-.94L8.5 2.5l-.94 2.06-2.06.94zm10 10l.94 2.06.94-2.06 2.06-.94-2.06-.94-.94-2.06-.94 2.06-2.06.94z\"/><path d=\"M17.41 7.96l-1.37-1.37c-.4-.4-.92-.59-1.43-.59-.52 0-1.04.2-1.43.59L10.3 9.45l-7.72 7.72c-.78.78-.78 2.05 0 2.83L4 21.41c.39.39.9.59 1.41.59.51 0 1.02-.2 1.41-.59l7.78-7.78 2.81-2.81c.8-.78.8-2.07 0-2.86zM5.41 20L4 18.59l7.72-7.72 1.47 1.35L5.41 20z\"/>\n",
              "  </svg>\n",
              "      </button>\n",
              "      \n",
              "  <style>\n",
              "    .colab-df-container {\n",
              "      display:flex;\n",
              "      flex-wrap:wrap;\n",
              "      gap: 12px;\n",
              "    }\n",
              "\n",
              "    .colab-df-convert {\n",
              "      background-color: #E8F0FE;\n",
              "      border: none;\n",
              "      border-radius: 50%;\n",
              "      cursor: pointer;\n",
              "      display: none;\n",
              "      fill: #1967D2;\n",
              "      height: 32px;\n",
              "      padding: 0 0 0 0;\n",
              "      width: 32px;\n",
              "    }\n",
              "\n",
              "    .colab-df-convert:hover {\n",
              "      background-color: #E2EBFA;\n",
              "      box-shadow: 0px 1px 2px rgba(60, 64, 67, 0.3), 0px 1px 3px 1px rgba(60, 64, 67, 0.15);\n",
              "      fill: #174EA6;\n",
              "    }\n",
              "\n",
              "    [theme=dark] .colab-df-convert {\n",
              "      background-color: #3B4455;\n",
              "      fill: #D2E3FC;\n",
              "    }\n",
              "\n",
              "    [theme=dark] .colab-df-convert:hover {\n",
              "      background-color: #434B5C;\n",
              "      box-shadow: 0px 1px 3px 1px rgba(0, 0, 0, 0.15);\n",
              "      filter: drop-shadow(0px 1px 2px rgba(0, 0, 0, 0.3));\n",
              "      fill: #FFFFFF;\n",
              "    }\n",
              "  </style>\n",
              "\n",
              "      <script>\n",
              "        const buttonEl =\n",
              "          document.querySelector('#df-7b44d8f8-4bcd-431b-bb70-18ee166e7a8e button.colab-df-convert');\n",
              "        buttonEl.style.display =\n",
              "          google.colab.kernel.accessAllowed ? 'block' : 'none';\n",
              "\n",
              "        async function convertToInteractive(key) {\n",
              "          const element = document.querySelector('#df-7b44d8f8-4bcd-431b-bb70-18ee166e7a8e');\n",
              "          const dataTable =\n",
              "            await google.colab.kernel.invokeFunction('convertToInteractive',\n",
              "                                                     [key], {});\n",
              "          if (!dataTable) return;\n",
              "\n",
              "          const docLinkHtml = 'Like what you see? Visit the ' +\n",
              "            '<a target=\"_blank\" href=https://colab.research.google.com/notebooks/data_table.ipynb>data table notebook</a>'\n",
              "            + ' to learn more about interactive tables.';\n",
              "          element.innerHTML = '';\n",
              "          dataTable['output_type'] = 'display_data';\n",
              "          await google.colab.output.renderOutput(dataTable, element);\n",
              "          const docLink = document.createElement('div');\n",
              "          docLink.innerHTML = docLinkHtml;\n",
              "          element.appendChild(docLink);\n",
              "        }\n",
              "      </script>\n",
              "    </div>\n",
              "  </div>\n",
              "  "
            ]
          },
          "metadata": {},
          "execution_count": 56
        }
      ]
    },
    {
      "cell_type": "markdown",
      "source": [
        "### ➗ Calculating Matrix Density"
      ],
      "metadata": {
        "id": "cvIZ5rhyaY3Z"
      }
    },
    {
      "cell_type": "code",
      "source": [
        "# Density of this matrix can be calculated by dividing the no. of ratings it has currently by the no. of ratings it could have had(its shape)\n",
        "givenNumOfRatings = np.count_nonzero(finalRatingsMatrix)\n",
        "givenNumOfRatings"
      ],
      "metadata": {
        "id": "MOxWeMAxGdUI",
        "colab": {
          "base_uri": "https://localhost:8080/"
        },
        "outputId": "5407fe6b-6880-482f-e944-7a10135019ab"
      },
      "execution_count": 57,
      "outputs": [
        {
          "output_type": "execute_result",
          "data": {
            "text/plain": [
              "640295"
            ]
          },
          "metadata": {},
          "execution_count": 57
        }
      ]
    },
    {
      "cell_type": "code",
      "source": [
        "possibleNumOfRatings = finalRatingsMatrix.shape[0] * finalRatingsMatrix.shape[1]\n",
        "possibleNumOfRatings"
      ],
      "metadata": {
        "id": "LKib0COxG2Tz",
        "colab": {
          "base_uri": "https://localhost:8080/"
        },
        "outputId": "2cdabfe3-6e41-4c68-aaa2-cea467642d2d"
      },
      "execution_count": 58,
      "outputs": [
        {
          "output_type": "execute_result",
          "data": {
            "text/plain": [
              "362498755"
            ]
          },
          "metadata": {},
          "execution_count": 58
        }
      ]
    },
    {
      "cell_type": "code",
      "source": [
        "densityOfRatingsMatrix = (givenNumOfRatings/possibleNumOfRatings)\n",
        "densityOfRatingsMatrix *= 100\n",
        "print ('densityOfRatingsMatrix: {:4.2f}%'.format(densityOfRatingsMatrix))"
      ],
      "metadata": {
        "id": "G1-UGVdRG2mz",
        "colab": {
          "base_uri": "https://localhost:8080/"
        },
        "outputId": "0e68b4a5-6cf0-4757-8a11-219b9fe85e16"
      },
      "execution_count": 59,
      "outputs": [
        {
          "output_type": "stream",
          "name": "stdout",
          "text": [
            "densityOfRatingsMatrix: 0.18%\n"
          ]
        }
      ]
    },
    {
      "cell_type": "code",
      "source": [
        "# finalRatingsMatrix has users as indices and products as columns.\n",
        "# To get a matrix with one row per 'Recipe' and one column per 'Author'\n",
        "finalRatingsMatrixAfterTranspose = finalRatingsMatrix.transpose()\n",
        "finalRatingsMatrixAfterTranspose"
      ],
      "metadata": {
        "colab": {
          "base_uri": "https://localhost:8080/",
          "height": 0
        },
        "id": "-5GTzphAHkQI",
        "outputId": "d2792f10-86ea-4266-9ebe-8f55b730bd1f"
      },
      "execution_count": 60,
      "outputs": [
        {
          "output_type": "execute_result",
          "data": {
            "text/plain": [
              "AuthorId  1533        1535        2310        2312        3288        \\\n",
              "RecipeId                                                               \n",
              "38               0.0         0.0         0.0         0.0         0.0   \n",
              "40               0.0         0.0         0.0         0.0         0.0   \n",
              "41               0.0         0.0         0.0         0.0         0.0   \n",
              "42               0.0         0.0         0.0         0.0         0.0   \n",
              "44               0.0         0.0         0.0         0.0         0.0   \n",
              "...              ...         ...         ...         ...         ...   \n",
              "540716           0.0         0.0         0.0         0.0         0.0   \n",
              "540717           0.0         0.0         0.0         0.0         0.0   \n",
              "540731           0.0         0.0         0.0         0.0         0.0   \n",
              "540876           0.0         0.0         0.0         0.0         0.0   \n",
              "541030           0.0         0.0         0.0         0.0         0.0   \n",
              "\n",
              "AuthorId  4291        4439        4470        4740        5060        ...  \\\n",
              "RecipeId                                                              ...   \n",
              "38               0.0         0.0         0.0         0.0         0.0  ...   \n",
              "40               0.0         0.0         0.0         0.0         0.0  ...   \n",
              "41               0.0         0.0         0.0         0.0         0.0  ...   \n",
              "42               0.0         0.0         0.0         0.0         0.0  ...   \n",
              "44               0.0         0.0         0.0         0.0         0.0  ...   \n",
              "...              ...         ...         ...         ...         ...  ...   \n",
              "540716           0.0         0.0         0.0         0.0         0.0  ...   \n",
              "540717           0.0         0.0         0.0         0.0         0.0  ...   \n",
              "540731           0.0         0.0         0.0         0.0         0.0  ...   \n",
              "540876           0.0         0.0         0.0         0.0         0.0  ...   \n",
              "541030           0.0         0.0         0.0         0.0         0.0  ...   \n",
              "\n",
              "AuthorId  2597942     1800054678  1802849661  2000431901  2000498330  \\\n",
              "RecipeId                                                               \n",
              "38               0.0         0.0         0.0         0.0         0.0   \n",
              "40               0.0         0.0         0.0         0.0         0.0   \n",
              "41               0.0         0.0         0.0         0.0         0.0   \n",
              "42               0.0         0.0         0.0         0.0         0.0   \n",
              "44               0.0         0.0         0.0         0.0         0.0   \n",
              "...              ...         ...         ...         ...         ...   \n",
              "540716           0.0         0.0         0.0         0.0         0.0   \n",
              "540717           0.0         0.0         0.0         0.0         0.0   \n",
              "540731           0.0         0.0         0.0         0.0         0.0   \n",
              "540876           0.0         0.0         0.0         0.0         0.0   \n",
              "541030           0.0         0.0         0.0         0.0         0.0   \n",
              "\n",
              "AuthorId  2001102678  2001112113  2001297534  2001362355  2002256447  \n",
              "RecipeId                                                              \n",
              "38               0.0         0.0         0.0         0.0         0.0  \n",
              "40               0.0         0.0         0.0         0.0         0.0  \n",
              "41               0.0         0.0         0.0         0.0         0.0  \n",
              "42               0.0         0.0         0.0         0.0         0.0  \n",
              "44               0.0         0.0         0.0         0.0         0.0  \n",
              "...              ...         ...         ...         ...         ...  \n",
              "540716           0.0         0.0         0.0         0.0         0.0  \n",
              "540717           0.0         0.0         0.0         0.0         0.0  \n",
              "540731           0.0         0.0         0.0         0.0         0.0  \n",
              "540876           0.0         0.0         0.0         0.0         0.0  \n",
              "541030           0.0         0.0         0.0         0.0         0.0  \n",
              "\n",
              "[208933 rows x 1735 columns]"
            ],
            "text/html": [
              "\n",
              "  <div id=\"df-bf3805a2-0956-4012-9e4a-12adef456feb\">\n",
              "    <div class=\"colab-df-container\">\n",
              "      <div>\n",
              "<style scoped>\n",
              "    .dataframe tbody tr th:only-of-type {\n",
              "        vertical-align: middle;\n",
              "    }\n",
              "\n",
              "    .dataframe tbody tr th {\n",
              "        vertical-align: top;\n",
              "    }\n",
              "\n",
              "    .dataframe thead th {\n",
              "        text-align: right;\n",
              "    }\n",
              "</style>\n",
              "<table border=\"1\" class=\"dataframe\">\n",
              "  <thead>\n",
              "    <tr style=\"text-align: right;\">\n",
              "      <th>AuthorId</th>\n",
              "      <th>1533</th>\n",
              "      <th>1535</th>\n",
              "      <th>2310</th>\n",
              "      <th>2312</th>\n",
              "      <th>3288</th>\n",
              "      <th>4291</th>\n",
              "      <th>4439</th>\n",
              "      <th>4470</th>\n",
              "      <th>4740</th>\n",
              "      <th>5060</th>\n",
              "      <th>...</th>\n",
              "      <th>2597942</th>\n",
              "      <th>1800054678</th>\n",
              "      <th>1802849661</th>\n",
              "      <th>2000431901</th>\n",
              "      <th>2000498330</th>\n",
              "      <th>2001102678</th>\n",
              "      <th>2001112113</th>\n",
              "      <th>2001297534</th>\n",
              "      <th>2001362355</th>\n",
              "      <th>2002256447</th>\n",
              "    </tr>\n",
              "    <tr>\n",
              "      <th>RecipeId</th>\n",
              "      <th></th>\n",
              "      <th></th>\n",
              "      <th></th>\n",
              "      <th></th>\n",
              "      <th></th>\n",
              "      <th></th>\n",
              "      <th></th>\n",
              "      <th></th>\n",
              "      <th></th>\n",
              "      <th></th>\n",
              "      <th></th>\n",
              "      <th></th>\n",
              "      <th></th>\n",
              "      <th></th>\n",
              "      <th></th>\n",
              "      <th></th>\n",
              "      <th></th>\n",
              "      <th></th>\n",
              "      <th></th>\n",
              "      <th></th>\n",
              "      <th></th>\n",
              "    </tr>\n",
              "  </thead>\n",
              "  <tbody>\n",
              "    <tr>\n",
              "      <th>38</th>\n",
              "      <td>0.0</td>\n",
              "      <td>0.0</td>\n",
              "      <td>0.0</td>\n",
              "      <td>0.0</td>\n",
              "      <td>0.0</td>\n",
              "      <td>0.0</td>\n",
              "      <td>0.0</td>\n",
              "      <td>0.0</td>\n",
              "      <td>0.0</td>\n",
              "      <td>0.0</td>\n",
              "      <td>...</td>\n",
              "      <td>0.0</td>\n",
              "      <td>0.0</td>\n",
              "      <td>0.0</td>\n",
              "      <td>0.0</td>\n",
              "      <td>0.0</td>\n",
              "      <td>0.0</td>\n",
              "      <td>0.0</td>\n",
              "      <td>0.0</td>\n",
              "      <td>0.0</td>\n",
              "      <td>0.0</td>\n",
              "    </tr>\n",
              "    <tr>\n",
              "      <th>40</th>\n",
              "      <td>0.0</td>\n",
              "      <td>0.0</td>\n",
              "      <td>0.0</td>\n",
              "      <td>0.0</td>\n",
              "      <td>0.0</td>\n",
              "      <td>0.0</td>\n",
              "      <td>0.0</td>\n",
              "      <td>0.0</td>\n",
              "      <td>0.0</td>\n",
              "      <td>0.0</td>\n",
              "      <td>...</td>\n",
              "      <td>0.0</td>\n",
              "      <td>0.0</td>\n",
              "      <td>0.0</td>\n",
              "      <td>0.0</td>\n",
              "      <td>0.0</td>\n",
              "      <td>0.0</td>\n",
              "      <td>0.0</td>\n",
              "      <td>0.0</td>\n",
              "      <td>0.0</td>\n",
              "      <td>0.0</td>\n",
              "    </tr>\n",
              "    <tr>\n",
              "      <th>41</th>\n",
              "      <td>0.0</td>\n",
              "      <td>0.0</td>\n",
              "      <td>0.0</td>\n",
              "      <td>0.0</td>\n",
              "      <td>0.0</td>\n",
              "      <td>0.0</td>\n",
              "      <td>0.0</td>\n",
              "      <td>0.0</td>\n",
              "      <td>0.0</td>\n",
              "      <td>0.0</td>\n",
              "      <td>...</td>\n",
              "      <td>0.0</td>\n",
              "      <td>0.0</td>\n",
              "      <td>0.0</td>\n",
              "      <td>0.0</td>\n",
              "      <td>0.0</td>\n",
              "      <td>0.0</td>\n",
              "      <td>0.0</td>\n",
              "      <td>0.0</td>\n",
              "      <td>0.0</td>\n",
              "      <td>0.0</td>\n",
              "    </tr>\n",
              "    <tr>\n",
              "      <th>42</th>\n",
              "      <td>0.0</td>\n",
              "      <td>0.0</td>\n",
              "      <td>0.0</td>\n",
              "      <td>0.0</td>\n",
              "      <td>0.0</td>\n",
              "      <td>0.0</td>\n",
              "      <td>0.0</td>\n",
              "      <td>0.0</td>\n",
              "      <td>0.0</td>\n",
              "      <td>0.0</td>\n",
              "      <td>...</td>\n",
              "      <td>0.0</td>\n",
              "      <td>0.0</td>\n",
              "      <td>0.0</td>\n",
              "      <td>0.0</td>\n",
              "      <td>0.0</td>\n",
              "      <td>0.0</td>\n",
              "      <td>0.0</td>\n",
              "      <td>0.0</td>\n",
              "      <td>0.0</td>\n",
              "      <td>0.0</td>\n",
              "    </tr>\n",
              "    <tr>\n",
              "      <th>44</th>\n",
              "      <td>0.0</td>\n",
              "      <td>0.0</td>\n",
              "      <td>0.0</td>\n",
              "      <td>0.0</td>\n",
              "      <td>0.0</td>\n",
              "      <td>0.0</td>\n",
              "      <td>0.0</td>\n",
              "      <td>0.0</td>\n",
              "      <td>0.0</td>\n",
              "      <td>0.0</td>\n",
              "      <td>...</td>\n",
              "      <td>0.0</td>\n",
              "      <td>0.0</td>\n",
              "      <td>0.0</td>\n",
              "      <td>0.0</td>\n",
              "      <td>0.0</td>\n",
              "      <td>0.0</td>\n",
              "      <td>0.0</td>\n",
              "      <td>0.0</td>\n",
              "      <td>0.0</td>\n",
              "      <td>0.0</td>\n",
              "    </tr>\n",
              "    <tr>\n",
              "      <th>...</th>\n",
              "      <td>...</td>\n",
              "      <td>...</td>\n",
              "      <td>...</td>\n",
              "      <td>...</td>\n",
              "      <td>...</td>\n",
              "      <td>...</td>\n",
              "      <td>...</td>\n",
              "      <td>...</td>\n",
              "      <td>...</td>\n",
              "      <td>...</td>\n",
              "      <td>...</td>\n",
              "      <td>...</td>\n",
              "      <td>...</td>\n",
              "      <td>...</td>\n",
              "      <td>...</td>\n",
              "      <td>...</td>\n",
              "      <td>...</td>\n",
              "      <td>...</td>\n",
              "      <td>...</td>\n",
              "      <td>...</td>\n",
              "      <td>...</td>\n",
              "    </tr>\n",
              "    <tr>\n",
              "      <th>540716</th>\n",
              "      <td>0.0</td>\n",
              "      <td>0.0</td>\n",
              "      <td>0.0</td>\n",
              "      <td>0.0</td>\n",
              "      <td>0.0</td>\n",
              "      <td>0.0</td>\n",
              "      <td>0.0</td>\n",
              "      <td>0.0</td>\n",
              "      <td>0.0</td>\n",
              "      <td>0.0</td>\n",
              "      <td>...</td>\n",
              "      <td>0.0</td>\n",
              "      <td>0.0</td>\n",
              "      <td>0.0</td>\n",
              "      <td>0.0</td>\n",
              "      <td>0.0</td>\n",
              "      <td>0.0</td>\n",
              "      <td>0.0</td>\n",
              "      <td>0.0</td>\n",
              "      <td>0.0</td>\n",
              "      <td>0.0</td>\n",
              "    </tr>\n",
              "    <tr>\n",
              "      <th>540717</th>\n",
              "      <td>0.0</td>\n",
              "      <td>0.0</td>\n",
              "      <td>0.0</td>\n",
              "      <td>0.0</td>\n",
              "      <td>0.0</td>\n",
              "      <td>0.0</td>\n",
              "      <td>0.0</td>\n",
              "      <td>0.0</td>\n",
              "      <td>0.0</td>\n",
              "      <td>0.0</td>\n",
              "      <td>...</td>\n",
              "      <td>0.0</td>\n",
              "      <td>0.0</td>\n",
              "      <td>0.0</td>\n",
              "      <td>0.0</td>\n",
              "      <td>0.0</td>\n",
              "      <td>0.0</td>\n",
              "      <td>0.0</td>\n",
              "      <td>0.0</td>\n",
              "      <td>0.0</td>\n",
              "      <td>0.0</td>\n",
              "    </tr>\n",
              "    <tr>\n",
              "      <th>540731</th>\n",
              "      <td>0.0</td>\n",
              "      <td>0.0</td>\n",
              "      <td>0.0</td>\n",
              "      <td>0.0</td>\n",
              "      <td>0.0</td>\n",
              "      <td>0.0</td>\n",
              "      <td>0.0</td>\n",
              "      <td>0.0</td>\n",
              "      <td>0.0</td>\n",
              "      <td>0.0</td>\n",
              "      <td>...</td>\n",
              "      <td>0.0</td>\n",
              "      <td>0.0</td>\n",
              "      <td>0.0</td>\n",
              "      <td>0.0</td>\n",
              "      <td>0.0</td>\n",
              "      <td>0.0</td>\n",
              "      <td>0.0</td>\n",
              "      <td>0.0</td>\n",
              "      <td>0.0</td>\n",
              "      <td>0.0</td>\n",
              "    </tr>\n",
              "    <tr>\n",
              "      <th>540876</th>\n",
              "      <td>0.0</td>\n",
              "      <td>0.0</td>\n",
              "      <td>0.0</td>\n",
              "      <td>0.0</td>\n",
              "      <td>0.0</td>\n",
              "      <td>0.0</td>\n",
              "      <td>0.0</td>\n",
              "      <td>0.0</td>\n",
              "      <td>0.0</td>\n",
              "      <td>0.0</td>\n",
              "      <td>...</td>\n",
              "      <td>0.0</td>\n",
              "      <td>0.0</td>\n",
              "      <td>0.0</td>\n",
              "      <td>0.0</td>\n",
              "      <td>0.0</td>\n",
              "      <td>0.0</td>\n",
              "      <td>0.0</td>\n",
              "      <td>0.0</td>\n",
              "      <td>0.0</td>\n",
              "      <td>0.0</td>\n",
              "    </tr>\n",
              "    <tr>\n",
              "      <th>541030</th>\n",
              "      <td>0.0</td>\n",
              "      <td>0.0</td>\n",
              "      <td>0.0</td>\n",
              "      <td>0.0</td>\n",
              "      <td>0.0</td>\n",
              "      <td>0.0</td>\n",
              "      <td>0.0</td>\n",
              "      <td>0.0</td>\n",
              "      <td>0.0</td>\n",
              "      <td>0.0</td>\n",
              "      <td>...</td>\n",
              "      <td>0.0</td>\n",
              "      <td>0.0</td>\n",
              "      <td>0.0</td>\n",
              "      <td>0.0</td>\n",
              "      <td>0.0</td>\n",
              "      <td>0.0</td>\n",
              "      <td>0.0</td>\n",
              "      <td>0.0</td>\n",
              "      <td>0.0</td>\n",
              "      <td>0.0</td>\n",
              "    </tr>\n",
              "  </tbody>\n",
              "</table>\n",
              "<p>208933 rows × 1735 columns</p>\n",
              "</div>\n",
              "      <button class=\"colab-df-convert\" onclick=\"convertToInteractive('df-bf3805a2-0956-4012-9e4a-12adef456feb')\"\n",
              "              title=\"Convert this dataframe to an interactive table.\"\n",
              "              style=\"display:none;\">\n",
              "        \n",
              "  <svg xmlns=\"http://www.w3.org/2000/svg\" height=\"24px\"viewBox=\"0 0 24 24\"\n",
              "       width=\"24px\">\n",
              "    <path d=\"M0 0h24v24H0V0z\" fill=\"none\"/>\n",
              "    <path d=\"M18.56 5.44l.94 2.06.94-2.06 2.06-.94-2.06-.94-.94-2.06-.94 2.06-2.06.94zm-11 1L8.5 8.5l.94-2.06 2.06-.94-2.06-.94L8.5 2.5l-.94 2.06-2.06.94zm10 10l.94 2.06.94-2.06 2.06-.94-2.06-.94-.94-2.06-.94 2.06-2.06.94z\"/><path d=\"M17.41 7.96l-1.37-1.37c-.4-.4-.92-.59-1.43-.59-.52 0-1.04.2-1.43.59L10.3 9.45l-7.72 7.72c-.78.78-.78 2.05 0 2.83L4 21.41c.39.39.9.59 1.41.59.51 0 1.02-.2 1.41-.59l7.78-7.78 2.81-2.81c.8-.78.8-2.07 0-2.86zM5.41 20L4 18.59l7.72-7.72 1.47 1.35L5.41 20z\"/>\n",
              "  </svg>\n",
              "      </button>\n",
              "      \n",
              "  <style>\n",
              "    .colab-df-container {\n",
              "      display:flex;\n",
              "      flex-wrap:wrap;\n",
              "      gap: 12px;\n",
              "    }\n",
              "\n",
              "    .colab-df-convert {\n",
              "      background-color: #E8F0FE;\n",
              "      border: none;\n",
              "      border-radius: 50%;\n",
              "      cursor: pointer;\n",
              "      display: none;\n",
              "      fill: #1967D2;\n",
              "      height: 32px;\n",
              "      padding: 0 0 0 0;\n",
              "      width: 32px;\n",
              "    }\n",
              "\n",
              "    .colab-df-convert:hover {\n",
              "      background-color: #E2EBFA;\n",
              "      box-shadow: 0px 1px 2px rgba(60, 64, 67, 0.3), 0px 1px 3px 1px rgba(60, 64, 67, 0.15);\n",
              "      fill: #174EA6;\n",
              "    }\n",
              "\n",
              "    [theme=dark] .colab-df-convert {\n",
              "      background-color: #3B4455;\n",
              "      fill: #D2E3FC;\n",
              "    }\n",
              "\n",
              "    [theme=dark] .colab-df-convert:hover {\n",
              "      background-color: #434B5C;\n",
              "      box-shadow: 0px 1px 3px 1px rgba(0, 0, 0, 0.15);\n",
              "      filter: drop-shadow(0px 1px 2px rgba(0, 0, 0, 0.3));\n",
              "      fill: #FFFFFF;\n",
              "    }\n",
              "  </style>\n",
              "\n",
              "      <script>\n",
              "        const buttonEl =\n",
              "          document.querySelector('#df-bf3805a2-0956-4012-9e4a-12adef456feb button.colab-df-convert');\n",
              "        buttonEl.style.display =\n",
              "          google.colab.kernel.accessAllowed ? 'block' : 'none';\n",
              "\n",
              "        async function convertToInteractive(key) {\n",
              "          const element = document.querySelector('#df-bf3805a2-0956-4012-9e4a-12adef456feb');\n",
              "          const dataTable =\n",
              "            await google.colab.kernel.invokeFunction('convertToInteractive',\n",
              "                                                     [key], {});\n",
              "          if (!dataTable) return;\n",
              "\n",
              "          const docLinkHtml = 'Like what you see? Visit the ' +\n",
              "            '<a target=\"_blank\" href=https://colab.research.google.com/notebooks/data_table.ipynb>data table notebook</a>'\n",
              "            + ' to learn more about interactive tables.';\n",
              "          element.innerHTML = '';\n",
              "          dataTable['output_type'] = 'display_data';\n",
              "          await google.colab.output.renderOutput(dataTable, element);\n",
              "          const docLink = document.createElement('div');\n",
              "          docLink.innerHTML = docLinkHtml;\n",
              "          element.appendChild(docLink);\n",
              "        }\n",
              "      </script>\n",
              "    </div>\n",
              "  </div>\n",
              "  "
            ]
          },
          "metadata": {},
          "execution_count": 60
        }
      ]
    },
    {
      "cell_type": "markdown",
      "source": [
        "<a id=\"*popularity* -model \"></a>\n",
        "# ⚡ Popularity based Recommender"
      ],
      "metadata": {
        "id": "at-TvYsWH8vD"
      }
    },
    {
      "cell_type": "markdown",
      "source": [
        "A baseline approach is the **Popularity based Recommender Model**. This model simply recommends the most popular recipes to the user that the user may/may not have previously consumed. As the popular recipes are **\"popular\"** for a reason, it usually provides good recommendations, generally interesting for most people.\n",
        "\n",
        "This is a non-personalized model, which does not take into account an individual user's preferences but yes, it does take into account what other people around the world have a common liking for which makes the popular recipes get **trendy!** Higher is the probability that the user might like these suggestions. \n",
        "\n",
        "And guess what, these recipes would be **featured** on the home page of the application making sure that it caters to a new user coming on the application for the first time! ❇"
      ],
      "metadata": {
        "id": "q2Ke91AZMk7d"
      }
    },
    {
      "cell_type": "markdown",
      "source": [
        "### 🔺 Popular Recipes List"
      ],
      "metadata": {
        "id": "tU-Fsdh0e9Bp"
      }
    },
    {
      "cell_type": "markdown",
      "source": [
        "First step towards it would be to find the recipe(s) which has/have the highest number of ratings and reviews, basically the most loved and popular recipe among all present in the dataset.\n",
        "\n"
      ],
      "metadata": {
        "id": "NhCdvTvBJvN6"
      }
    },
    {
      "cell_type": "code",
      "source": [
        "# There is a possibility that there are more than one recipes which have got 5.0 rating individually. Checking them.\n",
        "highestRatedRecipes = recipes.loc[(recipes.AggregatedRating) == 5.0] \n",
        "highestRatedRecipes.shape"
      ],
      "metadata": {
        "id": "Orwi4dkkMCYq",
        "colab": {
          "base_uri": "https://localhost:8080/"
        },
        "outputId": "7dd87976-3003-4032-89f4-9f5ccbe7d4a2"
      },
      "execution_count": 61,
      "outputs": [
        {
          "output_type": "execute_result",
          "data": {
            "text/plain": [
              "(174516, 26)"
            ]
          },
          "metadata": {},
          "execution_count": 61
        }
      ]
    },
    {
      "cell_type": "markdown",
      "source": [
        "There are almost 174k recipes with the highest rating. **Great!**\n",
        "\n",
        "Checking for the most reviewed recipes(recipes with the highest number of reviews). There is a possibility that there are more than one recipes which have got the maximum number of reviews, i.e **3063**. Let's check that."
      ],
      "metadata": {
        "id": "Jvv2Gyl3CmIX"
      }
    },
    {
      "cell_type": "code",
      "source": [
        "mostReviewedRecipe = recipes.loc[(recipes.ReviewCount) == 3063.0]\n",
        "mostReviewedRecipe"
      ],
      "metadata": {
        "id": "I8n_JPKJPlaN",
        "colab": {
          "base_uri": "https://localhost:8080/",
          "height": 243
        },
        "outputId": "ffaabc16-cfa7-47d7-bcd1-8fcaa16d07d9"
      },
      "execution_count": 62,
      "outputs": [
        {
          "output_type": "execute_result",
          "data": {
            "text/plain": [
              "       RecipeId             Name  AuthorId AuthorName CookTime PrepTime  \\\n",
              "41924     45809  Bourbon Chicken     58278   LinMarie      20M      15M   \n",
              "\n",
              "      TotalTime                                        Description  \\\n",
              "41924       35M  I searched and finally found this recipe on th...   \n",
              "\n",
              "                                                  Images  RecipeCategory  ...  \\\n",
              "41924  [https://img.sndimg.com/food/image/upload/w_55...  Chicken Breast  ...   \n",
              "\n",
              "      FatContent SaturatedFatContent CholesterolContent  SodiumContent  \\\n",
              "41924       24.5                 6.5              145.3         1573.0   \n",
              "\n",
              "       CarbohydrateContent  FiberContent  SugarContent  ProteinContent  \\\n",
              "41924                 23.4           0.3          21.5            50.1   \n",
              "\n",
              "       RecipeServings                                 RecipeInstructions  \n",
              "41924             4.0  Editor's Note:  Named Bourbon Chicken because ...  \n",
              "\n",
              "[1 rows x 26 columns]"
            ],
            "text/html": [
              "\n",
              "  <div id=\"df-34e9f89d-815b-4a98-a0d0-39ea109a2650\">\n",
              "    <div class=\"colab-df-container\">\n",
              "      <div>\n",
              "<style scoped>\n",
              "    .dataframe tbody tr th:only-of-type {\n",
              "        vertical-align: middle;\n",
              "    }\n",
              "\n",
              "    .dataframe tbody tr th {\n",
              "        vertical-align: top;\n",
              "    }\n",
              "\n",
              "    .dataframe thead th {\n",
              "        text-align: right;\n",
              "    }\n",
              "</style>\n",
              "<table border=\"1\" class=\"dataframe\">\n",
              "  <thead>\n",
              "    <tr style=\"text-align: right;\">\n",
              "      <th></th>\n",
              "      <th>RecipeId</th>\n",
              "      <th>Name</th>\n",
              "      <th>AuthorId</th>\n",
              "      <th>AuthorName</th>\n",
              "      <th>CookTime</th>\n",
              "      <th>PrepTime</th>\n",
              "      <th>TotalTime</th>\n",
              "      <th>Description</th>\n",
              "      <th>Images</th>\n",
              "      <th>RecipeCategory</th>\n",
              "      <th>...</th>\n",
              "      <th>FatContent</th>\n",
              "      <th>SaturatedFatContent</th>\n",
              "      <th>CholesterolContent</th>\n",
              "      <th>SodiumContent</th>\n",
              "      <th>CarbohydrateContent</th>\n",
              "      <th>FiberContent</th>\n",
              "      <th>SugarContent</th>\n",
              "      <th>ProteinContent</th>\n",
              "      <th>RecipeServings</th>\n",
              "      <th>RecipeInstructions</th>\n",
              "    </tr>\n",
              "  </thead>\n",
              "  <tbody>\n",
              "    <tr>\n",
              "      <th>41924</th>\n",
              "      <td>45809</td>\n",
              "      <td>Bourbon Chicken</td>\n",
              "      <td>58278</td>\n",
              "      <td>LinMarie</td>\n",
              "      <td>20M</td>\n",
              "      <td>15M</td>\n",
              "      <td>35M</td>\n",
              "      <td>I searched and finally found this recipe on th...</td>\n",
              "      <td>[https://img.sndimg.com/food/image/upload/w_55...</td>\n",
              "      <td>Chicken Breast</td>\n",
              "      <td>...</td>\n",
              "      <td>24.5</td>\n",
              "      <td>6.5</td>\n",
              "      <td>145.3</td>\n",
              "      <td>1573.0</td>\n",
              "      <td>23.4</td>\n",
              "      <td>0.3</td>\n",
              "      <td>21.5</td>\n",
              "      <td>50.1</td>\n",
              "      <td>4.0</td>\n",
              "      <td>Editor's Note:  Named Bourbon Chicken because ...</td>\n",
              "    </tr>\n",
              "  </tbody>\n",
              "</table>\n",
              "<p>1 rows × 26 columns</p>\n",
              "</div>\n",
              "      <button class=\"colab-df-convert\" onclick=\"convertToInteractive('df-34e9f89d-815b-4a98-a0d0-39ea109a2650')\"\n",
              "              title=\"Convert this dataframe to an interactive table.\"\n",
              "              style=\"display:none;\">\n",
              "        \n",
              "  <svg xmlns=\"http://www.w3.org/2000/svg\" height=\"24px\"viewBox=\"0 0 24 24\"\n",
              "       width=\"24px\">\n",
              "    <path d=\"M0 0h24v24H0V0z\" fill=\"none\"/>\n",
              "    <path d=\"M18.56 5.44l.94 2.06.94-2.06 2.06-.94-2.06-.94-.94-2.06-.94 2.06-2.06.94zm-11 1L8.5 8.5l.94-2.06 2.06-.94-2.06-.94L8.5 2.5l-.94 2.06-2.06.94zm10 10l.94 2.06.94-2.06 2.06-.94-2.06-.94-.94-2.06-.94 2.06-2.06.94z\"/><path d=\"M17.41 7.96l-1.37-1.37c-.4-.4-.92-.59-1.43-.59-.52 0-1.04.2-1.43.59L10.3 9.45l-7.72 7.72c-.78.78-.78 2.05 0 2.83L4 21.41c.39.39.9.59 1.41.59.51 0 1.02-.2 1.41-.59l7.78-7.78 2.81-2.81c.8-.78.8-2.07 0-2.86zM5.41 20L4 18.59l7.72-7.72 1.47 1.35L5.41 20z\"/>\n",
              "  </svg>\n",
              "      </button>\n",
              "      \n",
              "  <style>\n",
              "    .colab-df-container {\n",
              "      display:flex;\n",
              "      flex-wrap:wrap;\n",
              "      gap: 12px;\n",
              "    }\n",
              "\n",
              "    .colab-df-convert {\n",
              "      background-color: #E8F0FE;\n",
              "      border: none;\n",
              "      border-radius: 50%;\n",
              "      cursor: pointer;\n",
              "      display: none;\n",
              "      fill: #1967D2;\n",
              "      height: 32px;\n",
              "      padding: 0 0 0 0;\n",
              "      width: 32px;\n",
              "    }\n",
              "\n",
              "    .colab-df-convert:hover {\n",
              "      background-color: #E2EBFA;\n",
              "      box-shadow: 0px 1px 2px rgba(60, 64, 67, 0.3), 0px 1px 3px 1px rgba(60, 64, 67, 0.15);\n",
              "      fill: #174EA6;\n",
              "    }\n",
              "\n",
              "    [theme=dark] .colab-df-convert {\n",
              "      background-color: #3B4455;\n",
              "      fill: #D2E3FC;\n",
              "    }\n",
              "\n",
              "    [theme=dark] .colab-df-convert:hover {\n",
              "      background-color: #434B5C;\n",
              "      box-shadow: 0px 1px 3px 1px rgba(0, 0, 0, 0.15);\n",
              "      filter: drop-shadow(0px 1px 2px rgba(0, 0, 0, 0.3));\n",
              "      fill: #FFFFFF;\n",
              "    }\n",
              "  </style>\n",
              "\n",
              "      <script>\n",
              "        const buttonEl =\n",
              "          document.querySelector('#df-34e9f89d-815b-4a98-a0d0-39ea109a2650 button.colab-df-convert');\n",
              "        buttonEl.style.display =\n",
              "          google.colab.kernel.accessAllowed ? 'block' : 'none';\n",
              "\n",
              "        async function convertToInteractive(key) {\n",
              "          const element = document.querySelector('#df-34e9f89d-815b-4a98-a0d0-39ea109a2650');\n",
              "          const dataTable =\n",
              "            await google.colab.kernel.invokeFunction('convertToInteractive',\n",
              "                                                     [key], {});\n",
              "          if (!dataTable) return;\n",
              "\n",
              "          const docLinkHtml = 'Like what you see? Visit the ' +\n",
              "            '<a target=\"_blank\" href=https://colab.research.google.com/notebooks/data_table.ipynb>data table notebook</a>'\n",
              "            + ' to learn more about interactive tables.';\n",
              "          element.innerHTML = '';\n",
              "          dataTable['output_type'] = 'display_data';\n",
              "          await google.colab.output.renderOutput(dataTable, element);\n",
              "          const docLink = document.createElement('div');\n",
              "          docLink.innerHTML = docLinkHtml;\n",
              "          element.appendChild(docLink);\n",
              "        }\n",
              "      </script>\n",
              "    </div>\n",
              "  </div>\n",
              "  "
            ]
          },
          "metadata": {},
          "execution_count": 62
        }
      ]
    },
    {
      "cell_type": "markdown",
      "source": [
        "There's just one recipe which has the highest number of reviews individually. Definitely, it has to be the most popular one.\n",
        "But finding some more popular ones to recommend. \n",
        "\n",
        "Using some inbuilt pandas functions, finding the most favorite(in terms of ratings) and most popular(in terms of reviews) recipes. \n",
        "sum() factor takes into account both the rating value factor(favoriteness) and the rating count factor(popularity). \n",
        "This is then sorted in descending order and top 10 fav and popular recipes are printed."
      ],
      "metadata": {
        "id": "3FLpSuxDCxh5"
      }
    },
    {
      "cell_type": "code",
      "source": [
        "mostFavoriteAndPopularRecipeList = (reviews.groupby('RecipeId')[['Rating']].sum().sort_values('Rating', ascending=False).reset_index()) \n",
        "mostFavoriteAndPopularRecipeList = mostFavoriteAndPopularRecipeList.head(10) \n",
        "mostFavoriteAndPopularRecipeList"
      ],
      "metadata": {
        "colab": {
          "base_uri": "https://localhost:8080/",
          "height": 363
        },
        "id": "eaXPJYaHQKFJ",
        "outputId": "3a060d67-dc5e-49b4-bc83-23f1839de2cc"
      },
      "execution_count": 63,
      "outputs": [
        {
          "output_type": "execute_result",
          "data": {
            "text/plain": [
              "   RecipeId  Rating\n",
              "0     45809   12478\n",
              "1      2886    9204\n",
              "2     27208    6911\n",
              "3     39087    6767\n",
              "4     89204    6689\n",
              "5     35813    6003\n",
              "6     67256    5879\n",
              "7     22782    5631\n",
              "8     54257    5582\n",
              "9     32204    5553"
            ],
            "text/html": [
              "\n",
              "  <div id=\"df-ce831c84-00e8-4cda-9cf1-f8469046bab0\">\n",
              "    <div class=\"colab-df-container\">\n",
              "      <div>\n",
              "<style scoped>\n",
              "    .dataframe tbody tr th:only-of-type {\n",
              "        vertical-align: middle;\n",
              "    }\n",
              "\n",
              "    .dataframe tbody tr th {\n",
              "        vertical-align: top;\n",
              "    }\n",
              "\n",
              "    .dataframe thead th {\n",
              "        text-align: right;\n",
              "    }\n",
              "</style>\n",
              "<table border=\"1\" class=\"dataframe\">\n",
              "  <thead>\n",
              "    <tr style=\"text-align: right;\">\n",
              "      <th></th>\n",
              "      <th>RecipeId</th>\n",
              "      <th>Rating</th>\n",
              "    </tr>\n",
              "  </thead>\n",
              "  <tbody>\n",
              "    <tr>\n",
              "      <th>0</th>\n",
              "      <td>45809</td>\n",
              "      <td>12478</td>\n",
              "    </tr>\n",
              "    <tr>\n",
              "      <th>1</th>\n",
              "      <td>2886</td>\n",
              "      <td>9204</td>\n",
              "    </tr>\n",
              "    <tr>\n",
              "      <th>2</th>\n",
              "      <td>27208</td>\n",
              "      <td>6911</td>\n",
              "    </tr>\n",
              "    <tr>\n",
              "      <th>3</th>\n",
              "      <td>39087</td>\n",
              "      <td>6767</td>\n",
              "    </tr>\n",
              "    <tr>\n",
              "      <th>4</th>\n",
              "      <td>89204</td>\n",
              "      <td>6689</td>\n",
              "    </tr>\n",
              "    <tr>\n",
              "      <th>5</th>\n",
              "      <td>35813</td>\n",
              "      <td>6003</td>\n",
              "    </tr>\n",
              "    <tr>\n",
              "      <th>6</th>\n",
              "      <td>67256</td>\n",
              "      <td>5879</td>\n",
              "    </tr>\n",
              "    <tr>\n",
              "      <th>7</th>\n",
              "      <td>22782</td>\n",
              "      <td>5631</td>\n",
              "    </tr>\n",
              "    <tr>\n",
              "      <th>8</th>\n",
              "      <td>54257</td>\n",
              "      <td>5582</td>\n",
              "    </tr>\n",
              "    <tr>\n",
              "      <th>9</th>\n",
              "      <td>32204</td>\n",
              "      <td>5553</td>\n",
              "    </tr>\n",
              "  </tbody>\n",
              "</table>\n",
              "</div>\n",
              "      <button class=\"colab-df-convert\" onclick=\"convertToInteractive('df-ce831c84-00e8-4cda-9cf1-f8469046bab0')\"\n",
              "              title=\"Convert this dataframe to an interactive table.\"\n",
              "              style=\"display:none;\">\n",
              "        \n",
              "  <svg xmlns=\"http://www.w3.org/2000/svg\" height=\"24px\"viewBox=\"0 0 24 24\"\n",
              "       width=\"24px\">\n",
              "    <path d=\"M0 0h24v24H0V0z\" fill=\"none\"/>\n",
              "    <path d=\"M18.56 5.44l.94 2.06.94-2.06 2.06-.94-2.06-.94-.94-2.06-.94 2.06-2.06.94zm-11 1L8.5 8.5l.94-2.06 2.06-.94-2.06-.94L8.5 2.5l-.94 2.06-2.06.94zm10 10l.94 2.06.94-2.06 2.06-.94-2.06-.94-.94-2.06-.94 2.06-2.06.94z\"/><path d=\"M17.41 7.96l-1.37-1.37c-.4-.4-.92-.59-1.43-.59-.52 0-1.04.2-1.43.59L10.3 9.45l-7.72 7.72c-.78.78-.78 2.05 0 2.83L4 21.41c.39.39.9.59 1.41.59.51 0 1.02-.2 1.41-.59l7.78-7.78 2.81-2.81c.8-.78.8-2.07 0-2.86zM5.41 20L4 18.59l7.72-7.72 1.47 1.35L5.41 20z\"/>\n",
              "  </svg>\n",
              "      </button>\n",
              "      \n",
              "  <style>\n",
              "    .colab-df-container {\n",
              "      display:flex;\n",
              "      flex-wrap:wrap;\n",
              "      gap: 12px;\n",
              "    }\n",
              "\n",
              "    .colab-df-convert {\n",
              "      background-color: #E8F0FE;\n",
              "      border: none;\n",
              "      border-radius: 50%;\n",
              "      cursor: pointer;\n",
              "      display: none;\n",
              "      fill: #1967D2;\n",
              "      height: 32px;\n",
              "      padding: 0 0 0 0;\n",
              "      width: 32px;\n",
              "    }\n",
              "\n",
              "    .colab-df-convert:hover {\n",
              "      background-color: #E2EBFA;\n",
              "      box-shadow: 0px 1px 2px rgba(60, 64, 67, 0.3), 0px 1px 3px 1px rgba(60, 64, 67, 0.15);\n",
              "      fill: #174EA6;\n",
              "    }\n",
              "\n",
              "    [theme=dark] .colab-df-convert {\n",
              "      background-color: #3B4455;\n",
              "      fill: #D2E3FC;\n",
              "    }\n",
              "\n",
              "    [theme=dark] .colab-df-convert:hover {\n",
              "      background-color: #434B5C;\n",
              "      box-shadow: 0px 1px 3px 1px rgba(0, 0, 0, 0.15);\n",
              "      filter: drop-shadow(0px 1px 2px rgba(0, 0, 0, 0.3));\n",
              "      fill: #FFFFFF;\n",
              "    }\n",
              "  </style>\n",
              "\n",
              "      <script>\n",
              "        const buttonEl =\n",
              "          document.querySelector('#df-ce831c84-00e8-4cda-9cf1-f8469046bab0 button.colab-df-convert');\n",
              "        buttonEl.style.display =\n",
              "          google.colab.kernel.accessAllowed ? 'block' : 'none';\n",
              "\n",
              "        async function convertToInteractive(key) {\n",
              "          const element = document.querySelector('#df-ce831c84-00e8-4cda-9cf1-f8469046bab0');\n",
              "          const dataTable =\n",
              "            await google.colab.kernel.invokeFunction('convertToInteractive',\n",
              "                                                     [key], {});\n",
              "          if (!dataTable) return;\n",
              "\n",
              "          const docLinkHtml = 'Like what you see? Visit the ' +\n",
              "            '<a target=\"_blank\" href=https://colab.research.google.com/notebooks/data_table.ipynb>data table notebook</a>'\n",
              "            + ' to learn more about interactive tables.';\n",
              "          element.innerHTML = '';\n",
              "          dataTable['output_type'] = 'display_data';\n",
              "          await google.colab.output.renderOutput(dataTable, element);\n",
              "          const docLink = document.createElement('div');\n",
              "          docLink.innerHTML = docLinkHtml;\n",
              "          element.appendChild(docLink);\n",
              "        }\n",
              "      </script>\n",
              "    </div>\n",
              "  </div>\n",
              "  "
            ]
          },
          "metadata": {},
          "execution_count": 63
        }
      ]
    },
    {
      "cell_type": "code",
      "source": [
        "# Looking at the top recipe in the list\n",
        "recipes.loc[recipes['RecipeId'] == 45809]"
      ],
      "metadata": {
        "id": "-Ct3E3DOmMnb",
        "colab": {
          "base_uri": "https://localhost:8080/",
          "height": 243
        },
        "outputId": "6a103ab4-cc0e-4522-bd02-b930ee8829e3"
      },
      "execution_count": 64,
      "outputs": [
        {
          "output_type": "execute_result",
          "data": {
            "text/plain": [
              "       RecipeId             Name  AuthorId AuthorName CookTime PrepTime  \\\n",
              "41924     45809  Bourbon Chicken     58278   LinMarie      20M      15M   \n",
              "\n",
              "      TotalTime                                        Description  \\\n",
              "41924       35M  I searched and finally found this recipe on th...   \n",
              "\n",
              "                                                  Images  RecipeCategory  ...  \\\n",
              "41924  [https://img.sndimg.com/food/image/upload/w_55...  Chicken Breast  ...   \n",
              "\n",
              "      FatContent SaturatedFatContent CholesterolContent  SodiumContent  \\\n",
              "41924       24.5                 6.5              145.3         1573.0   \n",
              "\n",
              "       CarbohydrateContent  FiberContent  SugarContent  ProteinContent  \\\n",
              "41924                 23.4           0.3          21.5            50.1   \n",
              "\n",
              "       RecipeServings                                 RecipeInstructions  \n",
              "41924             4.0  Editor's Note:  Named Bourbon Chicken because ...  \n",
              "\n",
              "[1 rows x 26 columns]"
            ],
            "text/html": [
              "\n",
              "  <div id=\"df-11cf6ff9-225d-4b08-9806-1c4d96b45691\">\n",
              "    <div class=\"colab-df-container\">\n",
              "      <div>\n",
              "<style scoped>\n",
              "    .dataframe tbody tr th:only-of-type {\n",
              "        vertical-align: middle;\n",
              "    }\n",
              "\n",
              "    .dataframe tbody tr th {\n",
              "        vertical-align: top;\n",
              "    }\n",
              "\n",
              "    .dataframe thead th {\n",
              "        text-align: right;\n",
              "    }\n",
              "</style>\n",
              "<table border=\"1\" class=\"dataframe\">\n",
              "  <thead>\n",
              "    <tr style=\"text-align: right;\">\n",
              "      <th></th>\n",
              "      <th>RecipeId</th>\n",
              "      <th>Name</th>\n",
              "      <th>AuthorId</th>\n",
              "      <th>AuthorName</th>\n",
              "      <th>CookTime</th>\n",
              "      <th>PrepTime</th>\n",
              "      <th>TotalTime</th>\n",
              "      <th>Description</th>\n",
              "      <th>Images</th>\n",
              "      <th>RecipeCategory</th>\n",
              "      <th>...</th>\n",
              "      <th>FatContent</th>\n",
              "      <th>SaturatedFatContent</th>\n",
              "      <th>CholesterolContent</th>\n",
              "      <th>SodiumContent</th>\n",
              "      <th>CarbohydrateContent</th>\n",
              "      <th>FiberContent</th>\n",
              "      <th>SugarContent</th>\n",
              "      <th>ProteinContent</th>\n",
              "      <th>RecipeServings</th>\n",
              "      <th>RecipeInstructions</th>\n",
              "    </tr>\n",
              "  </thead>\n",
              "  <tbody>\n",
              "    <tr>\n",
              "      <th>41924</th>\n",
              "      <td>45809</td>\n",
              "      <td>Bourbon Chicken</td>\n",
              "      <td>58278</td>\n",
              "      <td>LinMarie</td>\n",
              "      <td>20M</td>\n",
              "      <td>15M</td>\n",
              "      <td>35M</td>\n",
              "      <td>I searched and finally found this recipe on th...</td>\n",
              "      <td>[https://img.sndimg.com/food/image/upload/w_55...</td>\n",
              "      <td>Chicken Breast</td>\n",
              "      <td>...</td>\n",
              "      <td>24.5</td>\n",
              "      <td>6.5</td>\n",
              "      <td>145.3</td>\n",
              "      <td>1573.0</td>\n",
              "      <td>23.4</td>\n",
              "      <td>0.3</td>\n",
              "      <td>21.5</td>\n",
              "      <td>50.1</td>\n",
              "      <td>4.0</td>\n",
              "      <td>Editor's Note:  Named Bourbon Chicken because ...</td>\n",
              "    </tr>\n",
              "  </tbody>\n",
              "</table>\n",
              "<p>1 rows × 26 columns</p>\n",
              "</div>\n",
              "      <button class=\"colab-df-convert\" onclick=\"convertToInteractive('df-11cf6ff9-225d-4b08-9806-1c4d96b45691')\"\n",
              "              title=\"Convert this dataframe to an interactive table.\"\n",
              "              style=\"display:none;\">\n",
              "        \n",
              "  <svg xmlns=\"http://www.w3.org/2000/svg\" height=\"24px\"viewBox=\"0 0 24 24\"\n",
              "       width=\"24px\">\n",
              "    <path d=\"M0 0h24v24H0V0z\" fill=\"none\"/>\n",
              "    <path d=\"M18.56 5.44l.94 2.06.94-2.06 2.06-.94-2.06-.94-.94-2.06-.94 2.06-2.06.94zm-11 1L8.5 8.5l.94-2.06 2.06-.94-2.06-.94L8.5 2.5l-.94 2.06-2.06.94zm10 10l.94 2.06.94-2.06 2.06-.94-2.06-.94-.94-2.06-.94 2.06-2.06.94z\"/><path d=\"M17.41 7.96l-1.37-1.37c-.4-.4-.92-.59-1.43-.59-.52 0-1.04.2-1.43.59L10.3 9.45l-7.72 7.72c-.78.78-.78 2.05 0 2.83L4 21.41c.39.39.9.59 1.41.59.51 0 1.02-.2 1.41-.59l7.78-7.78 2.81-2.81c.8-.78.8-2.07 0-2.86zM5.41 20L4 18.59l7.72-7.72 1.47 1.35L5.41 20z\"/>\n",
              "  </svg>\n",
              "      </button>\n",
              "      \n",
              "  <style>\n",
              "    .colab-df-container {\n",
              "      display:flex;\n",
              "      flex-wrap:wrap;\n",
              "      gap: 12px;\n",
              "    }\n",
              "\n",
              "    .colab-df-convert {\n",
              "      background-color: #E8F0FE;\n",
              "      border: none;\n",
              "      border-radius: 50%;\n",
              "      cursor: pointer;\n",
              "      display: none;\n",
              "      fill: #1967D2;\n",
              "      height: 32px;\n",
              "      padding: 0 0 0 0;\n",
              "      width: 32px;\n",
              "    }\n",
              "\n",
              "    .colab-df-convert:hover {\n",
              "      background-color: #E2EBFA;\n",
              "      box-shadow: 0px 1px 2px rgba(60, 64, 67, 0.3), 0px 1px 3px 1px rgba(60, 64, 67, 0.15);\n",
              "      fill: #174EA6;\n",
              "    }\n",
              "\n",
              "    [theme=dark] .colab-df-convert {\n",
              "      background-color: #3B4455;\n",
              "      fill: #D2E3FC;\n",
              "    }\n",
              "\n",
              "    [theme=dark] .colab-df-convert:hover {\n",
              "      background-color: #434B5C;\n",
              "      box-shadow: 0px 1px 3px 1px rgba(0, 0, 0, 0.15);\n",
              "      filter: drop-shadow(0px 1px 2px rgba(0, 0, 0, 0.3));\n",
              "      fill: #FFFFFF;\n",
              "    }\n",
              "  </style>\n",
              "\n",
              "      <script>\n",
              "        const buttonEl =\n",
              "          document.querySelector('#df-11cf6ff9-225d-4b08-9806-1c4d96b45691 button.colab-df-convert');\n",
              "        buttonEl.style.display =\n",
              "          google.colab.kernel.accessAllowed ? 'block' : 'none';\n",
              "\n",
              "        async function convertToInteractive(key) {\n",
              "          const element = document.querySelector('#df-11cf6ff9-225d-4b08-9806-1c4d96b45691');\n",
              "          const dataTable =\n",
              "            await google.colab.kernel.invokeFunction('convertToInteractive',\n",
              "                                                     [key], {});\n",
              "          if (!dataTable) return;\n",
              "\n",
              "          const docLinkHtml = 'Like what you see? Visit the ' +\n",
              "            '<a target=\"_blank\" href=https://colab.research.google.com/notebooks/data_table.ipynb>data table notebook</a>'\n",
              "            + ' to learn more about interactive tables.';\n",
              "          element.innerHTML = '';\n",
              "          dataTable['output_type'] = 'display_data';\n",
              "          await google.colab.output.renderOutput(dataTable, element);\n",
              "          const docLink = document.createElement('div');\n",
              "          docLink.innerHTML = docLinkHtml;\n",
              "          element.appendChild(docLink);\n",
              "        }\n",
              "      </script>\n",
              "    </div>\n",
              "  </div>\n",
              "  "
            ]
          },
          "metadata": {},
          "execution_count": 64
        }
      ]
    },
    {
      "cell_type": "code",
      "source": [
        "# Merging this with the recipes dataframe on 'RecipeId'(primary key) \n",
        "popularRecipes = pd.merge(mostFavoriteAndPopularRecipeList, recipes, on='RecipeId')\n",
        "\n",
        "# Dropping the Rating column calculated temporarily as we have AggregatedRating column in the recipes DataFrame already.\n",
        "popularRecipes.drop(\"Rating\", axis = 1, inplace = True)\n"
      ],
      "metadata": {
        "id": "E_Nhijs5SE3g"
      },
      "execution_count": 65,
      "outputs": []
    },
    {
      "cell_type": "code",
      "source": [
        "# Selecting the top 10 popular recipes based on their rating score\n",
        "popularRecipes.head(10)"
      ],
      "metadata": {
        "colab": {
          "base_uri": "https://localhost:8080/",
          "height": 1000
        },
        "id": "cv6Ky8YgdpYG",
        "outputId": "30970e39-1b4f-483b-87ab-dd32ed97123e"
      },
      "execution_count": 66,
      "outputs": [
        {
          "output_type": "execute_result",
          "data": {
            "text/plain": [
              "   RecipeId                                               Name  AuthorId  \\\n",
              "0     45809                                    Bourbon Chicken     58278   \n",
              "1      2886                                  Best Banana Bread      1762   \n",
              "2     27208                         To Die for Crock Pot Roast     28201   \n",
              "3     39087                         Creamy Cajun Chicken Pasta     30534   \n",
              "4     89204  Crock-Pot Chicken With Black Beans &amp; Cream...    137839   \n",
              "5     35813                             Oatmeal Raisin Cookies      8688   \n",
              "6     67256   Best Ever Banana Cake With Cream Cheese Frosting     82367   \n",
              "7     22782                   Jo Mama's World Famous Spaghetti     25455   \n",
              "8     54257            Yes, Virginia There is a Great Meatloaf     24670   \n",
              "9     32204    &quot;Whatever Floats Your Boat&quot; Brownies!     37305   \n",
              "\n",
              "      AuthorName CookTime PrepTime TotalTime  \\\n",
              "0       LinMarie      20M      15M       35M   \n",
              "1        lkadlec       1H      10M     1H10M   \n",
              "2         yooper       9H       5M      9H5M   \n",
              "3          Lorac      15M      10M       25M   \n",
              "4   Jen Santiago       4H       3M      4H3M   \n",
              "5       Bev I Am      11M      15M       26M   \n",
              "6       Rhonda J       1H      15M     1H15M   \n",
              "7      SharleneW       1H      20M     1H20M   \n",
              "8  Nita Holleman       1H      20M     1H20M   \n",
              "9        Karen..      25M      10M       35M   \n",
              "\n",
              "                                         Description  \\\n",
              "0  I searched and finally found this recipe on th...   \n",
              "1  Make and share this Best Banana Bread recipe f...   \n",
              "2  Amazing flavor, and so simple! No salt needed ...   \n",
              "3  Make and share this Creamy Cajun Chicken Pasta...   \n",
              "4  I love this Crock-Pot chicken recipe for two r...   \n",
              "5  You've made oatmeal-raisin cookies before, so ...   \n",
              "6  This is one of (if not) the BEST banana cake I...   \n",
              "7  My kids will give up a steak dinner for this s...   \n",
              "8  Absolutely delicious meatloaf and sauce! Those...   \n",
              "9  These are absolutely the chewiest, moistest, f...   \n",
              "\n",
              "                                              Images  RecipeCategory  ...  \\\n",
              "0  [https://img.sndimg.com/food/image/upload/w_55...  Chicken Breast  ...   \n",
              "1  [https://img.sndimg.com/food/image/upload/w_55...    Quick Breads  ...   \n",
              "2  [https://img.sndimg.com/food/image/upload/w_55...   One Dish Meal  ...   \n",
              "3  [https://img.sndimg.com/food/image/upload/w_55...  Chicken Breast  ...   \n",
              "4  [https://img.sndimg.com/food/image/upload/w_55...   One Dish Meal  ...   \n",
              "5  [https://img.sndimg.com/food/image/upload/w_55...    Drop Cookies  ...   \n",
              "6  [https://img.sndimg.com/food/image/upload/w_55...         Dessert  ...   \n",
              "7  [https://img.sndimg.com/food/image/upload/w_55...       Spaghetti  ...   \n",
              "8  [https://img.sndimg.com/food/image/upload/w_55...        Meatloaf  ...   \n",
              "9  [https://img.sndimg.com/food/image/upload/w_55...      Bar Cookie  ...   \n",
              "\n",
              "  FatContent SaturatedFatContent CholesterolContent  SodiumContent  \\\n",
              "0       24.5                 6.5              145.3         1573.0   \n",
              "1       10.5                 6.2               61.6          338.3   \n",
              "2        9.7                 3.9              149.8          380.6   \n",
              "3       41.1                24.0              198.6          816.8   \n",
              "4       35.0                15.2              155.3          913.4   \n",
              "5        6.4                 3.5               23.9          117.1   \n",
              "6       20.6                12.3               89.5          365.4   \n",
              "7       26.3                 9.0               51.8         2058.6   \n",
              "8       28.1                11.0              165.2         1260.5   \n",
              "9       20.0                10.2               40.3          189.3   \n",
              "\n",
              "   CarbohydrateContent  FiberContent  SugarContent  ProteinContent  \\\n",
              "0                 23.4           0.3          21.5            50.1   \n",
              "1                 42.5           1.4          24.4             3.7   \n",
              "2                  2.6           0.1           0.0            49.5   \n",
              "3                 47.4           2.5           3.1            39.3   \n",
              "4                 50.1          11.2           9.9            45.9   \n",
              "5                 30.3           1.8          15.1             3.5   \n",
              "6                 75.7           1.0          55.7             5.5   \n",
              "7                 50.1           3.8          11.4            29.8   \n",
              "8                 23.2           0.4          18.9            35.5   \n",
              "9                 52.0           3.4          40.4             6.1   \n",
              "\n",
              "   RecipeServings                                 RecipeInstructions  \n",
              "0             4.0  Editor's Note:  Named Bourbon Chicken because ...  \n",
              "1            10.0  Remove odd pots and pans from oven. Preheat ov...  \n",
              "2             8.0  Place beef roast in crock pot. Mix the dried m...  \n",
              "3             2.0  Place chicken and Cajun seasoning in a bowl an...  \n",
              "4             4.0  Take 4-5 frozen, yes, frozen, boneless chicken...  \n",
              "5            36.0  Preheat oven to 350°. Whisk dry ingredients; s...  \n",
              "6            16.0  Preheat oven to 275°F (135C). Grease and flour...  \n",
              "7             NaN  In large, heavy stockpot, brown Italian sausag...  \n",
              "8             NaN  Meatloaf: Combine meat loaf ingredients and pl...  \n",
              "9            16.0  Preheat oven to 350°F. Grease an 8 inch square...  \n",
              "\n",
              "[10 rows x 26 columns]"
            ],
            "text/html": [
              "\n",
              "  <div id=\"df-103239a1-3b19-46a5-bdba-1d98d0d70ae1\">\n",
              "    <div class=\"colab-df-container\">\n",
              "      <div>\n",
              "<style scoped>\n",
              "    .dataframe tbody tr th:only-of-type {\n",
              "        vertical-align: middle;\n",
              "    }\n",
              "\n",
              "    .dataframe tbody tr th {\n",
              "        vertical-align: top;\n",
              "    }\n",
              "\n",
              "    .dataframe thead th {\n",
              "        text-align: right;\n",
              "    }\n",
              "</style>\n",
              "<table border=\"1\" class=\"dataframe\">\n",
              "  <thead>\n",
              "    <tr style=\"text-align: right;\">\n",
              "      <th></th>\n",
              "      <th>RecipeId</th>\n",
              "      <th>Name</th>\n",
              "      <th>AuthorId</th>\n",
              "      <th>AuthorName</th>\n",
              "      <th>CookTime</th>\n",
              "      <th>PrepTime</th>\n",
              "      <th>TotalTime</th>\n",
              "      <th>Description</th>\n",
              "      <th>Images</th>\n",
              "      <th>RecipeCategory</th>\n",
              "      <th>...</th>\n",
              "      <th>FatContent</th>\n",
              "      <th>SaturatedFatContent</th>\n",
              "      <th>CholesterolContent</th>\n",
              "      <th>SodiumContent</th>\n",
              "      <th>CarbohydrateContent</th>\n",
              "      <th>FiberContent</th>\n",
              "      <th>SugarContent</th>\n",
              "      <th>ProteinContent</th>\n",
              "      <th>RecipeServings</th>\n",
              "      <th>RecipeInstructions</th>\n",
              "    </tr>\n",
              "  </thead>\n",
              "  <tbody>\n",
              "    <tr>\n",
              "      <th>0</th>\n",
              "      <td>45809</td>\n",
              "      <td>Bourbon Chicken</td>\n",
              "      <td>58278</td>\n",
              "      <td>LinMarie</td>\n",
              "      <td>20M</td>\n",
              "      <td>15M</td>\n",
              "      <td>35M</td>\n",
              "      <td>I searched and finally found this recipe on th...</td>\n",
              "      <td>[https://img.sndimg.com/food/image/upload/w_55...</td>\n",
              "      <td>Chicken Breast</td>\n",
              "      <td>...</td>\n",
              "      <td>24.5</td>\n",
              "      <td>6.5</td>\n",
              "      <td>145.3</td>\n",
              "      <td>1573.0</td>\n",
              "      <td>23.4</td>\n",
              "      <td>0.3</td>\n",
              "      <td>21.5</td>\n",
              "      <td>50.1</td>\n",
              "      <td>4.0</td>\n",
              "      <td>Editor's Note:  Named Bourbon Chicken because ...</td>\n",
              "    </tr>\n",
              "    <tr>\n",
              "      <th>1</th>\n",
              "      <td>2886</td>\n",
              "      <td>Best Banana Bread</td>\n",
              "      <td>1762</td>\n",
              "      <td>lkadlec</td>\n",
              "      <td>1H</td>\n",
              "      <td>10M</td>\n",
              "      <td>1H10M</td>\n",
              "      <td>Make and share this Best Banana Bread recipe f...</td>\n",
              "      <td>[https://img.sndimg.com/food/image/upload/w_55...</td>\n",
              "      <td>Quick Breads</td>\n",
              "      <td>...</td>\n",
              "      <td>10.5</td>\n",
              "      <td>6.2</td>\n",
              "      <td>61.6</td>\n",
              "      <td>338.3</td>\n",
              "      <td>42.5</td>\n",
              "      <td>1.4</td>\n",
              "      <td>24.4</td>\n",
              "      <td>3.7</td>\n",
              "      <td>10.0</td>\n",
              "      <td>Remove odd pots and pans from oven. Preheat ov...</td>\n",
              "    </tr>\n",
              "    <tr>\n",
              "      <th>2</th>\n",
              "      <td>27208</td>\n",
              "      <td>To Die for Crock Pot Roast</td>\n",
              "      <td>28201</td>\n",
              "      <td>yooper</td>\n",
              "      <td>9H</td>\n",
              "      <td>5M</td>\n",
              "      <td>9H5M</td>\n",
              "      <td>Amazing flavor, and so simple! No salt needed ...</td>\n",
              "      <td>[https://img.sndimg.com/food/image/upload/w_55...</td>\n",
              "      <td>One Dish Meal</td>\n",
              "      <td>...</td>\n",
              "      <td>9.7</td>\n",
              "      <td>3.9</td>\n",
              "      <td>149.8</td>\n",
              "      <td>380.6</td>\n",
              "      <td>2.6</td>\n",
              "      <td>0.1</td>\n",
              "      <td>0.0</td>\n",
              "      <td>49.5</td>\n",
              "      <td>8.0</td>\n",
              "      <td>Place beef roast in crock pot. Mix the dried m...</td>\n",
              "    </tr>\n",
              "    <tr>\n",
              "      <th>3</th>\n",
              "      <td>39087</td>\n",
              "      <td>Creamy Cajun Chicken Pasta</td>\n",
              "      <td>30534</td>\n",
              "      <td>Lorac</td>\n",
              "      <td>15M</td>\n",
              "      <td>10M</td>\n",
              "      <td>25M</td>\n",
              "      <td>Make and share this Creamy Cajun Chicken Pasta...</td>\n",
              "      <td>[https://img.sndimg.com/food/image/upload/w_55...</td>\n",
              "      <td>Chicken Breast</td>\n",
              "      <td>...</td>\n",
              "      <td>41.1</td>\n",
              "      <td>24.0</td>\n",
              "      <td>198.6</td>\n",
              "      <td>816.8</td>\n",
              "      <td>47.4</td>\n",
              "      <td>2.5</td>\n",
              "      <td>3.1</td>\n",
              "      <td>39.3</td>\n",
              "      <td>2.0</td>\n",
              "      <td>Place chicken and Cajun seasoning in a bowl an...</td>\n",
              "    </tr>\n",
              "    <tr>\n",
              "      <th>4</th>\n",
              "      <td>89204</td>\n",
              "      <td>Crock-Pot Chicken With Black Beans &amp;amp; Cream...</td>\n",
              "      <td>137839</td>\n",
              "      <td>Jen Santiago</td>\n",
              "      <td>4H</td>\n",
              "      <td>3M</td>\n",
              "      <td>4H3M</td>\n",
              "      <td>I love this Crock-Pot chicken recipe for two r...</td>\n",
              "      <td>[https://img.sndimg.com/food/image/upload/w_55...</td>\n",
              "      <td>One Dish Meal</td>\n",
              "      <td>...</td>\n",
              "      <td>35.0</td>\n",
              "      <td>15.2</td>\n",
              "      <td>155.3</td>\n",
              "      <td>913.4</td>\n",
              "      <td>50.1</td>\n",
              "      <td>11.2</td>\n",
              "      <td>9.9</td>\n",
              "      <td>45.9</td>\n",
              "      <td>4.0</td>\n",
              "      <td>Take 4-5 frozen, yes, frozen, boneless chicken...</td>\n",
              "    </tr>\n",
              "    <tr>\n",
              "      <th>5</th>\n",
              "      <td>35813</td>\n",
              "      <td>Oatmeal Raisin Cookies</td>\n",
              "      <td>8688</td>\n",
              "      <td>Bev I Am</td>\n",
              "      <td>11M</td>\n",
              "      <td>15M</td>\n",
              "      <td>26M</td>\n",
              "      <td>You've made oatmeal-raisin cookies before, so ...</td>\n",
              "      <td>[https://img.sndimg.com/food/image/upload/w_55...</td>\n",
              "      <td>Drop Cookies</td>\n",
              "      <td>...</td>\n",
              "      <td>6.4</td>\n",
              "      <td>3.5</td>\n",
              "      <td>23.9</td>\n",
              "      <td>117.1</td>\n",
              "      <td>30.3</td>\n",
              "      <td>1.8</td>\n",
              "      <td>15.1</td>\n",
              "      <td>3.5</td>\n",
              "      <td>36.0</td>\n",
              "      <td>Preheat oven to 350°. Whisk dry ingredients; s...</td>\n",
              "    </tr>\n",
              "    <tr>\n",
              "      <th>6</th>\n",
              "      <td>67256</td>\n",
              "      <td>Best Ever Banana Cake With Cream Cheese Frosting</td>\n",
              "      <td>82367</td>\n",
              "      <td>Rhonda J</td>\n",
              "      <td>1H</td>\n",
              "      <td>15M</td>\n",
              "      <td>1H15M</td>\n",
              "      <td>This is one of (if not) the BEST banana cake I...</td>\n",
              "      <td>[https://img.sndimg.com/food/image/upload/w_55...</td>\n",
              "      <td>Dessert</td>\n",
              "      <td>...</td>\n",
              "      <td>20.6</td>\n",
              "      <td>12.3</td>\n",
              "      <td>89.5</td>\n",
              "      <td>365.4</td>\n",
              "      <td>75.7</td>\n",
              "      <td>1.0</td>\n",
              "      <td>55.7</td>\n",
              "      <td>5.5</td>\n",
              "      <td>16.0</td>\n",
              "      <td>Preheat oven to 275°F (135C). Grease and flour...</td>\n",
              "    </tr>\n",
              "    <tr>\n",
              "      <th>7</th>\n",
              "      <td>22782</td>\n",
              "      <td>Jo Mama's World Famous Spaghetti</td>\n",
              "      <td>25455</td>\n",
              "      <td>SharleneW</td>\n",
              "      <td>1H</td>\n",
              "      <td>20M</td>\n",
              "      <td>1H20M</td>\n",
              "      <td>My kids will give up a steak dinner for this s...</td>\n",
              "      <td>[https://img.sndimg.com/food/image/upload/w_55...</td>\n",
              "      <td>Spaghetti</td>\n",
              "      <td>...</td>\n",
              "      <td>26.3</td>\n",
              "      <td>9.0</td>\n",
              "      <td>51.8</td>\n",
              "      <td>2058.6</td>\n",
              "      <td>50.1</td>\n",
              "      <td>3.8</td>\n",
              "      <td>11.4</td>\n",
              "      <td>29.8</td>\n",
              "      <td>NaN</td>\n",
              "      <td>In large, heavy stockpot, brown Italian sausag...</td>\n",
              "    </tr>\n",
              "    <tr>\n",
              "      <th>8</th>\n",
              "      <td>54257</td>\n",
              "      <td>Yes, Virginia There is a Great Meatloaf</td>\n",
              "      <td>24670</td>\n",
              "      <td>Nita Holleman</td>\n",
              "      <td>1H</td>\n",
              "      <td>20M</td>\n",
              "      <td>1H20M</td>\n",
              "      <td>Absolutely delicious meatloaf and sauce! Those...</td>\n",
              "      <td>[https://img.sndimg.com/food/image/upload/w_55...</td>\n",
              "      <td>Meatloaf</td>\n",
              "      <td>...</td>\n",
              "      <td>28.1</td>\n",
              "      <td>11.0</td>\n",
              "      <td>165.2</td>\n",
              "      <td>1260.5</td>\n",
              "      <td>23.2</td>\n",
              "      <td>0.4</td>\n",
              "      <td>18.9</td>\n",
              "      <td>35.5</td>\n",
              "      <td>NaN</td>\n",
              "      <td>Meatloaf: Combine meat loaf ingredients and pl...</td>\n",
              "    </tr>\n",
              "    <tr>\n",
              "      <th>9</th>\n",
              "      <td>32204</td>\n",
              "      <td>&amp;quot;Whatever Floats Your Boat&amp;quot; Brownies!</td>\n",
              "      <td>37305</td>\n",
              "      <td>Karen..</td>\n",
              "      <td>25M</td>\n",
              "      <td>10M</td>\n",
              "      <td>35M</td>\n",
              "      <td>These are absolutely the chewiest, moistest, f...</td>\n",
              "      <td>[https://img.sndimg.com/food/image/upload/w_55...</td>\n",
              "      <td>Bar Cookie</td>\n",
              "      <td>...</td>\n",
              "      <td>20.0</td>\n",
              "      <td>10.2</td>\n",
              "      <td>40.3</td>\n",
              "      <td>189.3</td>\n",
              "      <td>52.0</td>\n",
              "      <td>3.4</td>\n",
              "      <td>40.4</td>\n",
              "      <td>6.1</td>\n",
              "      <td>16.0</td>\n",
              "      <td>Preheat oven to 350°F. Grease an 8 inch square...</td>\n",
              "    </tr>\n",
              "  </tbody>\n",
              "</table>\n",
              "<p>10 rows × 26 columns</p>\n",
              "</div>\n",
              "      <button class=\"colab-df-convert\" onclick=\"convertToInteractive('df-103239a1-3b19-46a5-bdba-1d98d0d70ae1')\"\n",
              "              title=\"Convert this dataframe to an interactive table.\"\n",
              "              style=\"display:none;\">\n",
              "        \n",
              "  <svg xmlns=\"http://www.w3.org/2000/svg\" height=\"24px\"viewBox=\"0 0 24 24\"\n",
              "       width=\"24px\">\n",
              "    <path d=\"M0 0h24v24H0V0z\" fill=\"none\"/>\n",
              "    <path d=\"M18.56 5.44l.94 2.06.94-2.06 2.06-.94-2.06-.94-.94-2.06-.94 2.06-2.06.94zm-11 1L8.5 8.5l.94-2.06 2.06-.94-2.06-.94L8.5 2.5l-.94 2.06-2.06.94zm10 10l.94 2.06.94-2.06 2.06-.94-2.06-.94-.94-2.06-.94 2.06-2.06.94z\"/><path d=\"M17.41 7.96l-1.37-1.37c-.4-.4-.92-.59-1.43-.59-.52 0-1.04.2-1.43.59L10.3 9.45l-7.72 7.72c-.78.78-.78 2.05 0 2.83L4 21.41c.39.39.9.59 1.41.59.51 0 1.02-.2 1.41-.59l7.78-7.78 2.81-2.81c.8-.78.8-2.07 0-2.86zM5.41 20L4 18.59l7.72-7.72 1.47 1.35L5.41 20z\"/>\n",
              "  </svg>\n",
              "      </button>\n",
              "      \n",
              "  <style>\n",
              "    .colab-df-container {\n",
              "      display:flex;\n",
              "      flex-wrap:wrap;\n",
              "      gap: 12px;\n",
              "    }\n",
              "\n",
              "    .colab-df-convert {\n",
              "      background-color: #E8F0FE;\n",
              "      border: none;\n",
              "      border-radius: 50%;\n",
              "      cursor: pointer;\n",
              "      display: none;\n",
              "      fill: #1967D2;\n",
              "      height: 32px;\n",
              "      padding: 0 0 0 0;\n",
              "      width: 32px;\n",
              "    }\n",
              "\n",
              "    .colab-df-convert:hover {\n",
              "      background-color: #E2EBFA;\n",
              "      box-shadow: 0px 1px 2px rgba(60, 64, 67, 0.3), 0px 1px 3px 1px rgba(60, 64, 67, 0.15);\n",
              "      fill: #174EA6;\n",
              "    }\n",
              "\n",
              "    [theme=dark] .colab-df-convert {\n",
              "      background-color: #3B4455;\n",
              "      fill: #D2E3FC;\n",
              "    }\n",
              "\n",
              "    [theme=dark] .colab-df-convert:hover {\n",
              "      background-color: #434B5C;\n",
              "      box-shadow: 0px 1px 3px 1px rgba(0, 0, 0, 0.15);\n",
              "      filter: drop-shadow(0px 1px 2px rgba(0, 0, 0, 0.3));\n",
              "      fill: #FFFFFF;\n",
              "    }\n",
              "  </style>\n",
              "\n",
              "      <script>\n",
              "        const buttonEl =\n",
              "          document.querySelector('#df-103239a1-3b19-46a5-bdba-1d98d0d70ae1 button.colab-df-convert');\n",
              "        buttonEl.style.display =\n",
              "          google.colab.kernel.accessAllowed ? 'block' : 'none';\n",
              "\n",
              "        async function convertToInteractive(key) {\n",
              "          const element = document.querySelector('#df-103239a1-3b19-46a5-bdba-1d98d0d70ae1');\n",
              "          const dataTable =\n",
              "            await google.colab.kernel.invokeFunction('convertToInteractive',\n",
              "                                                     [key], {});\n",
              "          if (!dataTable) return;\n",
              "\n",
              "          const docLinkHtml = 'Like what you see? Visit the ' +\n",
              "            '<a target=\"_blank\" href=https://colab.research.google.com/notebooks/data_table.ipynb>data table notebook</a>'\n",
              "            + ' to learn more about interactive tables.';\n",
              "          element.innerHTML = '';\n",
              "          dataTable['output_type'] = 'display_data';\n",
              "          await google.colab.output.renderOutput(dataTable, element);\n",
              "          const docLink = document.createElement('div');\n",
              "          docLink.innerHTML = docLinkHtml;\n",
              "          element.appendChild(docLink);\n",
              "        }\n",
              "      </script>\n",
              "    </div>\n",
              "  </div>\n",
              "  "
            ]
          },
          "metadata": {},
          "execution_count": 66
        }
      ]
    },
    {
      "cell_type": "markdown",
      "source": [
        "We now have our popular recipes in the 'popularRecipes' list. \n",
        "\n",
        "**Milestone 1 achieved ✔** (Exciting!)"
      ],
      "metadata": {
        "id": "ZFnO6i6hee19"
      }
    },
    {
      "cell_type": "markdown",
      "source": [
        "### 🏋 Weighted Rating Method"
      ],
      "metadata": {
        "id": "etvhyF9TfDKv"
      }
    },
    {
      "cell_type": "markdown",
      "source": [
        "Using a Mathematical method to find the most popular recipes. This is known as the **Weighted Rating Method**. \n",
        "\n",
        "Weighted Rating (WR) = $(\\frac{v}{v + m} . R) + (\\frac{m}{v + m} . C)$\n",
        "\n",
        "where,\n",
        "* *v* is the number of ratings for the recipe\n",
        "* *m* is the minimum ratings required to be listed in the chart of recipes that are considered\n",
        "* *R* is the average rating of the recipe\n",
        "* *C* is the mean of aggregate ratings of all the recipes\n",
        "\n",
        "The next step is to determine an appropriate value for *m*, the minimum rating count required to be listed in the chart. We will use **99th percentile** as our cutoff. In other words, for a recipe to feature in the charts, it must have more ratings than at least 99% of the recipes in the list.\n",
        "\n",
        "Building an overall Top 250 Chart and will define a function to build charts for a particular category of recipe. Let's begin!"
      ],
      "metadata": {
        "id": "pxJdDdObxu1K"
      }
    },
    {
      "cell_type": "code",
      "source": [
        "# Calculating the ratings given per recipe\n",
        "RatingCounts = reviews.groupby('RecipeId')['Rating'].count()\n",
        "RatingCounts.sort_values(ascending=False, inplace=True)\n",
        "RatingCounts"
      ],
      "metadata": {
        "colab": {
          "base_uri": "https://localhost:8080/"
        },
        "id": "OGgX5gwdgklU",
        "outputId": "1775018e-7dbe-42ef-e14c-ce274ce98049"
      },
      "execution_count": 67,
      "outputs": [
        {
          "output_type": "execute_result",
          "data": {
            "text/plain": [
              "RecipeId\n",
              "45809     2892\n",
              "2886      2182\n",
              "27208     1614\n",
              "89204     1584\n",
              "39087     1491\n",
              "          ... \n",
              "268939       1\n",
              "268938       1\n",
              "76088        1\n",
              "76089        1\n",
              "541298       1\n",
              "Name: Rating, Length: 271678, dtype: int64"
            ]
          },
          "metadata": {},
          "execution_count": 67
        }
      ]
    },
    {
      "cell_type": "code",
      "source": [
        "# Finding the mean rating value for a recipe\n",
        "RatingAverages = recipes[recipes['AggregatedRating'].notnull()]['AggregatedRating'].astype('int')\n",
        "C = RatingAverages.mean()\n",
        "C"
      ],
      "metadata": {
        "colab": {
          "base_uri": "https://localhost:8080/"
        },
        "id": "RVKjfz28fV2i",
        "outputId": "9f81de5c-4539-45d4-9d4b-e98ab574f76b"
      },
      "execution_count": 68,
      "outputs": [
        {
          "output_type": "execute_result",
          "data": {
            "text/plain": [
              "4.559496312580302"
            ]
          },
          "metadata": {},
          "execution_count": 68
        }
      ]
    },
    {
      "cell_type": "code",
      "source": [
        "# Calculating the mininum number of ratings a recipe needs to have in order to be in the top 99 percentile of recipes\n",
        "m = RatingCounts.quantile(0.99)\n",
        "m"
      ],
      "metadata": {
        "colab": {
          "base_uri": "https://localhost:8080/"
        },
        "id": "HrQD0VDHg_Wv",
        "outputId": "4ae0c724-7664-4182-c637-660868d750b4"
      },
      "execution_count": 69,
      "outputs": [
        {
          "output_type": "execute_result",
          "data": {
            "text/plain": [
              "51.0"
            ]
          },
          "metadata": {},
          "execution_count": 69
        }
      ]
    },
    {
      "cell_type": "code",
      "source": [
        "# Creating and merging smaller recipes dataframe with individual rating counts for a recipe\n",
        "recipesSubDataFrame = recipes.iloc[:9000]\n",
        "weightedPopularRecipes = recipesSubDataFrame.merge(RatingCounts, on='RecipeId')"
      ],
      "metadata": {
        "id": "VZoPnPYpm3fS"
      },
      "execution_count": 70,
      "outputs": []
    },
    {
      "cell_type": "code",
      "source": [
        "# Shape of smaller recipes DataFrame \n",
        "weightedPopularRecipes.shape"
      ],
      "metadata": {
        "id": "umSPxYBiDPCs",
        "colab": {
          "base_uri": "https://localhost:8080/"
        },
        "outputId": "b5f1bb75-4126-4ccc-8ed4-13628597c0de"
      },
      "execution_count": 71,
      "outputs": [
        {
          "output_type": "execute_result",
          "data": {
            "text/plain": [
              "(6662, 27)"
            ]
          },
          "metadata": {},
          "execution_count": 71
        }
      ]
    },
    {
      "cell_type": "code",
      "source": [
        "# Recipes are shortlisted based on the condition that they have a minimum of \"m\" no. of ratings, with obvious non-null value in both rating and aggregated rating column\n",
        "# Columns selected to appear in shortlisted dataframe are RecipeId, Name, RecipeCategory, AggregatedRating, Rating, and ReviewCount\n",
        "qualifiedRecipes = weightedPopularRecipes[(weightedPopularRecipes['Rating'] >= m) & (weightedPopularRecipes['Rating'].notnull()) & (weightedPopularRecipes['AggregatedRating'].notnull())][['RecipeId', 'Name', 'RecipeCategory', 'AggregatedRating', 'Rating', 'ReviewCount']]\n",
        "\n",
        "# Setting the datatype of 'Rating' and 'AggregatedRating' to int\n",
        "qualifiedRecipes['Rating'] = qualifiedRecipes['Rating'].astype('int')\n",
        "qualifiedRecipes['AggregatedRating'] = qualifiedRecipes['AggregatedRating'].astype('int')  "
      ],
      "metadata": {
        "id": "Hm5pRhE8j7gd"
      },
      "execution_count": 72,
      "outputs": []
    },
    {
      "cell_type": "code",
      "source": [
        "qualifiedRecipes.shape"
      ],
      "metadata": {
        "colab": {
          "base_uri": "https://localhost:8080/"
        },
        "id": "5e4VMa9RyjqI",
        "outputId": "be5fc656-99a9-486b-e68d-200d36f25514"
      },
      "execution_count": 73,
      "outputs": [
        {
          "output_type": "execute_result",
          "data": {
            "text/plain": [
              "(236, 6)"
            ]
          },
          "metadata": {},
          "execution_count": 73
        }
      ]
    },
    {
      "cell_type": "markdown",
      "source": [
        "Therefore, to qualify to be considered for the top recipes chart, a recipe has to have at least **51 ratings**. We also see that the average rating for a recipe is **4.56** on a scale of 5. A total of **236** recipes qualify to be on the top chart."
      ],
      "metadata": {
        "id": "zSp1d1lhyizC"
      }
    },
    {
      "cell_type": "code",
      "source": [
        "# Function that defines the mathematical formula for the weighted rating method\n",
        "def weightedRating(x):\n",
        "    v = x['Rating']\n",
        "    R = x['AggregatedRating']\n",
        "    return (v/(v+m) * R) + (m/(m+v) * C)"
      ],
      "metadata": {
        "id": "8kCvGIpwhfWv"
      },
      "execution_count": 74,
      "outputs": []
    },
    {
      "cell_type": "code",
      "source": [
        "# Applying the WR function\n",
        "qualifiedRecipes['wr'] = qualifiedRecipes.apply(weightedRating, axis=1)\n",
        "\n",
        "# Sorting the list in descending order based on the WR score\n",
        "qualifiedRecipes = qualifiedRecipes.sort_values('wr', ascending=False).iloc[:20]"
      ],
      "metadata": {
        "id": "sIL13ASwnZ-h"
      },
      "execution_count": 76,
      "outputs": []
    },
    {
      "cell_type": "code",
      "source": [
        "qualifiedRecipes"
      ],
      "metadata": {
        "colab": {
          "base_uri": "https://localhost:8080/",
          "height": 676
        },
        "id": "uTJurEDHn32p",
        "outputId": "a65704ce-81a4-40e2-d929-3bb1899a79af"
      },
      "execution_count": 77,
      "outputs": [
        {
          "output_type": "execute_result",
          "data": {
            "text/plain": [
              "      RecipeId                                               Name  \\\n",
              "1109      2886                                  Best Banana Bread   \n",
              "5542     10744                          Delicious Chicken Pot Pie   \n",
              "2467      5170                            Pete's Scratch Pancakes   \n",
              "4597      9351                            Sour Cream Banana Bread   \n",
              "2169      4627                           Chicken Tortilla Soup II   \n",
              "616       1209                              Spinach Artichoke Dip   \n",
              "860       2496                                Dark Chocolate Cake   \n",
              "4555      9272                                    Wonderful Salsa   \n",
              "4105      8701                    Should Be Illegal Oven BBQ Ribs   \n",
              "5170     10269                              Peanut Butter Cookies   \n",
              "2409      5049                            Chewy Chocolate Cookies   \n",
              "4173      8782                             Roast \"Sticky\" Chicken   \n",
              "1479      3470              Crock Pot Chicken, Gravy and Stuffing   \n",
              "641       1356  Ground Beef Stuffed Green Bell Peppers With Ch...   \n",
              "4139      8739                                   Wholly Guacamole   \n",
              "2357      4957                        Crock Pot Chicken Taco Meat   \n",
              "5873     11149                         Chili Con Carne With Beans   \n",
              "2483      5194                         Scalloped Potatoes and Ham   \n",
              "4962      9989                                         Lemon Bars   \n",
              "941       2642                                 Taco Seasoning Mix   \n",
              "\n",
              "       RecipeCategory  AggregatedRating  Rating  ReviewCount        wr  \n",
              "1109     Quick Breads                 5    2182       2273.0  4.989939  \n",
              "5542      Savory Pies                 5     739        764.0  4.971562  \n",
              "2467        Breakfast                 5     699        722.0  4.970046  \n",
              "4597     Quick Breads                 5     607        628.0  4.965858  \n",
              "2169       Clear Soup                 5     594        632.0  4.965169  \n",
              "616            Cheese                 5     577        609.0  4.964227  \n",
              "860           Dessert                 5     520        542.0  4.960656  \n",
              "4555           Sauces                 5     512        536.0  4.960096  \n",
              "4105             Pork                 5     476        501.0  4.957371  \n",
              "5170          Dessert                 5     388        400.0  4.948825  \n",
              "2409     Drop Cookies                 5     358        371.0  4.945072  \n",
              "4173    Whole Chicken                 5     325        332.0  4.940251  \n",
              "1479   Chicken Breast                 5     325        339.0  4.940251  \n",
              "641   Long Grain Rice                 5     320        339.0  4.939446  \n",
              "4139          Tex Mex                 5     299        316.0  4.935812  \n",
              "2357   Chicken Breast                 5     298        316.0  4.935628  \n",
              "5873    One Dish Meal                 5     286        300.0  4.933336  \n",
              "2483           Potato                 5     283        290.0  4.932737  \n",
              "4962          Dessert                 5     279        263.0  4.931922  \n",
              "941           Mexican                 5     276        288.0  4.931298  "
            ],
            "text/html": [
              "\n",
              "  <div id=\"df-ddff3b44-998c-4fd7-b0bf-a2a6ce509e99\">\n",
              "    <div class=\"colab-df-container\">\n",
              "      <div>\n",
              "<style scoped>\n",
              "    .dataframe tbody tr th:only-of-type {\n",
              "        vertical-align: middle;\n",
              "    }\n",
              "\n",
              "    .dataframe tbody tr th {\n",
              "        vertical-align: top;\n",
              "    }\n",
              "\n",
              "    .dataframe thead th {\n",
              "        text-align: right;\n",
              "    }\n",
              "</style>\n",
              "<table border=\"1\" class=\"dataframe\">\n",
              "  <thead>\n",
              "    <tr style=\"text-align: right;\">\n",
              "      <th></th>\n",
              "      <th>RecipeId</th>\n",
              "      <th>Name</th>\n",
              "      <th>RecipeCategory</th>\n",
              "      <th>AggregatedRating</th>\n",
              "      <th>Rating</th>\n",
              "      <th>ReviewCount</th>\n",
              "      <th>wr</th>\n",
              "    </tr>\n",
              "  </thead>\n",
              "  <tbody>\n",
              "    <tr>\n",
              "      <th>1109</th>\n",
              "      <td>2886</td>\n",
              "      <td>Best Banana Bread</td>\n",
              "      <td>Quick Breads</td>\n",
              "      <td>5</td>\n",
              "      <td>2182</td>\n",
              "      <td>2273.0</td>\n",
              "      <td>4.989939</td>\n",
              "    </tr>\n",
              "    <tr>\n",
              "      <th>5542</th>\n",
              "      <td>10744</td>\n",
              "      <td>Delicious Chicken Pot Pie</td>\n",
              "      <td>Savory Pies</td>\n",
              "      <td>5</td>\n",
              "      <td>739</td>\n",
              "      <td>764.0</td>\n",
              "      <td>4.971562</td>\n",
              "    </tr>\n",
              "    <tr>\n",
              "      <th>2467</th>\n",
              "      <td>5170</td>\n",
              "      <td>Pete's Scratch Pancakes</td>\n",
              "      <td>Breakfast</td>\n",
              "      <td>5</td>\n",
              "      <td>699</td>\n",
              "      <td>722.0</td>\n",
              "      <td>4.970046</td>\n",
              "    </tr>\n",
              "    <tr>\n",
              "      <th>4597</th>\n",
              "      <td>9351</td>\n",
              "      <td>Sour Cream Banana Bread</td>\n",
              "      <td>Quick Breads</td>\n",
              "      <td>5</td>\n",
              "      <td>607</td>\n",
              "      <td>628.0</td>\n",
              "      <td>4.965858</td>\n",
              "    </tr>\n",
              "    <tr>\n",
              "      <th>2169</th>\n",
              "      <td>4627</td>\n",
              "      <td>Chicken Tortilla Soup II</td>\n",
              "      <td>Clear Soup</td>\n",
              "      <td>5</td>\n",
              "      <td>594</td>\n",
              "      <td>632.0</td>\n",
              "      <td>4.965169</td>\n",
              "    </tr>\n",
              "    <tr>\n",
              "      <th>616</th>\n",
              "      <td>1209</td>\n",
              "      <td>Spinach Artichoke Dip</td>\n",
              "      <td>Cheese</td>\n",
              "      <td>5</td>\n",
              "      <td>577</td>\n",
              "      <td>609.0</td>\n",
              "      <td>4.964227</td>\n",
              "    </tr>\n",
              "    <tr>\n",
              "      <th>860</th>\n",
              "      <td>2496</td>\n",
              "      <td>Dark Chocolate Cake</td>\n",
              "      <td>Dessert</td>\n",
              "      <td>5</td>\n",
              "      <td>520</td>\n",
              "      <td>542.0</td>\n",
              "      <td>4.960656</td>\n",
              "    </tr>\n",
              "    <tr>\n",
              "      <th>4555</th>\n",
              "      <td>9272</td>\n",
              "      <td>Wonderful Salsa</td>\n",
              "      <td>Sauces</td>\n",
              "      <td>5</td>\n",
              "      <td>512</td>\n",
              "      <td>536.0</td>\n",
              "      <td>4.960096</td>\n",
              "    </tr>\n",
              "    <tr>\n",
              "      <th>4105</th>\n",
              "      <td>8701</td>\n",
              "      <td>Should Be Illegal Oven BBQ Ribs</td>\n",
              "      <td>Pork</td>\n",
              "      <td>5</td>\n",
              "      <td>476</td>\n",
              "      <td>501.0</td>\n",
              "      <td>4.957371</td>\n",
              "    </tr>\n",
              "    <tr>\n",
              "      <th>5170</th>\n",
              "      <td>10269</td>\n",
              "      <td>Peanut Butter Cookies</td>\n",
              "      <td>Dessert</td>\n",
              "      <td>5</td>\n",
              "      <td>388</td>\n",
              "      <td>400.0</td>\n",
              "      <td>4.948825</td>\n",
              "    </tr>\n",
              "    <tr>\n",
              "      <th>2409</th>\n",
              "      <td>5049</td>\n",
              "      <td>Chewy Chocolate Cookies</td>\n",
              "      <td>Drop Cookies</td>\n",
              "      <td>5</td>\n",
              "      <td>358</td>\n",
              "      <td>371.0</td>\n",
              "      <td>4.945072</td>\n",
              "    </tr>\n",
              "    <tr>\n",
              "      <th>4173</th>\n",
              "      <td>8782</td>\n",
              "      <td>Roast \"Sticky\" Chicken</td>\n",
              "      <td>Whole Chicken</td>\n",
              "      <td>5</td>\n",
              "      <td>325</td>\n",
              "      <td>332.0</td>\n",
              "      <td>4.940251</td>\n",
              "    </tr>\n",
              "    <tr>\n",
              "      <th>1479</th>\n",
              "      <td>3470</td>\n",
              "      <td>Crock Pot Chicken, Gravy and Stuffing</td>\n",
              "      <td>Chicken Breast</td>\n",
              "      <td>5</td>\n",
              "      <td>325</td>\n",
              "      <td>339.0</td>\n",
              "      <td>4.940251</td>\n",
              "    </tr>\n",
              "    <tr>\n",
              "      <th>641</th>\n",
              "      <td>1356</td>\n",
              "      <td>Ground Beef Stuffed Green Bell Peppers With Ch...</td>\n",
              "      <td>Long Grain Rice</td>\n",
              "      <td>5</td>\n",
              "      <td>320</td>\n",
              "      <td>339.0</td>\n",
              "      <td>4.939446</td>\n",
              "    </tr>\n",
              "    <tr>\n",
              "      <th>4139</th>\n",
              "      <td>8739</td>\n",
              "      <td>Wholly Guacamole</td>\n",
              "      <td>Tex Mex</td>\n",
              "      <td>5</td>\n",
              "      <td>299</td>\n",
              "      <td>316.0</td>\n",
              "      <td>4.935812</td>\n",
              "    </tr>\n",
              "    <tr>\n",
              "      <th>2357</th>\n",
              "      <td>4957</td>\n",
              "      <td>Crock Pot Chicken Taco Meat</td>\n",
              "      <td>Chicken Breast</td>\n",
              "      <td>5</td>\n",
              "      <td>298</td>\n",
              "      <td>316.0</td>\n",
              "      <td>4.935628</td>\n",
              "    </tr>\n",
              "    <tr>\n",
              "      <th>5873</th>\n",
              "      <td>11149</td>\n",
              "      <td>Chili Con Carne With Beans</td>\n",
              "      <td>One Dish Meal</td>\n",
              "      <td>5</td>\n",
              "      <td>286</td>\n",
              "      <td>300.0</td>\n",
              "      <td>4.933336</td>\n",
              "    </tr>\n",
              "    <tr>\n",
              "      <th>2483</th>\n",
              "      <td>5194</td>\n",
              "      <td>Scalloped Potatoes and Ham</td>\n",
              "      <td>Potato</td>\n",
              "      <td>5</td>\n",
              "      <td>283</td>\n",
              "      <td>290.0</td>\n",
              "      <td>4.932737</td>\n",
              "    </tr>\n",
              "    <tr>\n",
              "      <th>4962</th>\n",
              "      <td>9989</td>\n",
              "      <td>Lemon Bars</td>\n",
              "      <td>Dessert</td>\n",
              "      <td>5</td>\n",
              "      <td>279</td>\n",
              "      <td>263.0</td>\n",
              "      <td>4.931922</td>\n",
              "    </tr>\n",
              "    <tr>\n",
              "      <th>941</th>\n",
              "      <td>2642</td>\n",
              "      <td>Taco Seasoning Mix</td>\n",
              "      <td>Mexican</td>\n",
              "      <td>5</td>\n",
              "      <td>276</td>\n",
              "      <td>288.0</td>\n",
              "      <td>4.931298</td>\n",
              "    </tr>\n",
              "  </tbody>\n",
              "</table>\n",
              "</div>\n",
              "      <button class=\"colab-df-convert\" onclick=\"convertToInteractive('df-ddff3b44-998c-4fd7-b0bf-a2a6ce509e99')\"\n",
              "              title=\"Convert this dataframe to an interactive table.\"\n",
              "              style=\"display:none;\">\n",
              "        \n",
              "  <svg xmlns=\"http://www.w3.org/2000/svg\" height=\"24px\"viewBox=\"0 0 24 24\"\n",
              "       width=\"24px\">\n",
              "    <path d=\"M0 0h24v24H0V0z\" fill=\"none\"/>\n",
              "    <path d=\"M18.56 5.44l.94 2.06.94-2.06 2.06-.94-2.06-.94-.94-2.06-.94 2.06-2.06.94zm-11 1L8.5 8.5l.94-2.06 2.06-.94-2.06-.94L8.5 2.5l-.94 2.06-2.06.94zm10 10l.94 2.06.94-2.06 2.06-.94-2.06-.94-.94-2.06-.94 2.06-2.06.94z\"/><path d=\"M17.41 7.96l-1.37-1.37c-.4-.4-.92-.59-1.43-.59-.52 0-1.04.2-1.43.59L10.3 9.45l-7.72 7.72c-.78.78-.78 2.05 0 2.83L4 21.41c.39.39.9.59 1.41.59.51 0 1.02-.2 1.41-.59l7.78-7.78 2.81-2.81c.8-.78.8-2.07 0-2.86zM5.41 20L4 18.59l7.72-7.72 1.47 1.35L5.41 20z\"/>\n",
              "  </svg>\n",
              "      </button>\n",
              "      \n",
              "  <style>\n",
              "    .colab-df-container {\n",
              "      display:flex;\n",
              "      flex-wrap:wrap;\n",
              "      gap: 12px;\n",
              "    }\n",
              "\n",
              "    .colab-df-convert {\n",
              "      background-color: #E8F0FE;\n",
              "      border: none;\n",
              "      border-radius: 50%;\n",
              "      cursor: pointer;\n",
              "      display: none;\n",
              "      fill: #1967D2;\n",
              "      height: 32px;\n",
              "      padding: 0 0 0 0;\n",
              "      width: 32px;\n",
              "    }\n",
              "\n",
              "    .colab-df-convert:hover {\n",
              "      background-color: #E2EBFA;\n",
              "      box-shadow: 0px 1px 2px rgba(60, 64, 67, 0.3), 0px 1px 3px 1px rgba(60, 64, 67, 0.15);\n",
              "      fill: #174EA6;\n",
              "    }\n",
              "\n",
              "    [theme=dark] .colab-df-convert {\n",
              "      background-color: #3B4455;\n",
              "      fill: #D2E3FC;\n",
              "    }\n",
              "\n",
              "    [theme=dark] .colab-df-convert:hover {\n",
              "      background-color: #434B5C;\n",
              "      box-shadow: 0px 1px 3px 1px rgba(0, 0, 0, 0.15);\n",
              "      filter: drop-shadow(0px 1px 2px rgba(0, 0, 0, 0.3));\n",
              "      fill: #FFFFFF;\n",
              "    }\n",
              "  </style>\n",
              "\n",
              "      <script>\n",
              "        const buttonEl =\n",
              "          document.querySelector('#df-ddff3b44-998c-4fd7-b0bf-a2a6ce509e99 button.colab-df-convert');\n",
              "        buttonEl.style.display =\n",
              "          google.colab.kernel.accessAllowed ? 'block' : 'none';\n",
              "\n",
              "        async function convertToInteractive(key) {\n",
              "          const element = document.querySelector('#df-ddff3b44-998c-4fd7-b0bf-a2a6ce509e99');\n",
              "          const dataTable =\n",
              "            await google.colab.kernel.invokeFunction('convertToInteractive',\n",
              "                                                     [key], {});\n",
              "          if (!dataTable) return;\n",
              "\n",
              "          const docLinkHtml = 'Like what you see? Visit the ' +\n",
              "            '<a target=\"_blank\" href=https://colab.research.google.com/notebooks/data_table.ipynb>data table notebook</a>'\n",
              "            + ' to learn more about interactive tables.';\n",
              "          element.innerHTML = '';\n",
              "          dataTable['output_type'] = 'display_data';\n",
              "          await google.colab.output.renderOutput(dataTable, element);\n",
              "          const docLink = document.createElement('div');\n",
              "          docLink.innerHTML = docLinkHtml;\n",
              "          element.appendChild(docLink);\n",
              "        }\n",
              "      </script>\n",
              "    </div>\n",
              "  </div>\n",
              "  "
            ]
          },
          "metadata": {},
          "execution_count": 77
        }
      ]
    },
    {
      "cell_type": "markdown",
      "source": [
        "We see that the top recommendations given by the weighted ratings method is very similar to the previously calculated popularity model. Hence, we have our list of the most popular recipes 😛"
      ],
      "metadata": {
        "id": "uaXQU5TQogcu"
      }
    },
    {
      "cell_type": "markdown",
      "source": [
        "### ✨ Category Based Popularity Model"
      ],
      "metadata": {
        "id": "79_IpJGKj08P"
      }
    },
    {
      "cell_type": "markdown",
      "source": [
        "Let us now construct our function that builds charts for category based recipes. For this, we will relax our default conditions to the 85th percentile instead of 99."
      ],
      "metadata": {
        "id": "rD85xHYdDAaB"
      }
    },
    {
      "cell_type": "code",
      "source": [
        "# Checking out the categories we have in out dataset \n",
        "recipes['RecipeCategory']"
      ],
      "metadata": {
        "colab": {
          "base_uri": "https://localhost:8080/"
        },
        "id": "t8dJJ64u0R4t",
        "outputId": "6091e754-515b-4c03-8565-3566580f0881"
      },
      "execution_count": 78,
      "outputs": [
        {
          "output_type": "execute_result",
          "data": {
            "text/plain": [
              "0         Frozen Desserts\n",
              "1          Chicken Breast\n",
              "2               Beverages\n",
              "3                Soy/Tofu\n",
              "4               Vegetable\n",
              "               ...       \n",
              "522512            Dessert\n",
              "522513     Very Low Carbs\n",
              "522514          Ice Cream\n",
              "522515           Canadian\n",
              "522516          Breakfast\n",
              "Name: RecipeCategory, Length: 522517, dtype: object"
            ]
          },
          "metadata": {},
          "execution_count": 78
        }
      ]
    },
    {
      "cell_type": "code",
      "source": [
        "recipes.RecipeCategory.value_counts().head(30)"
      ],
      "metadata": {
        "colab": {
          "base_uri": "https://localhost:8080/"
        },
        "id": "ehBER7DhwNJT",
        "outputId": "65859c7b-7f6f-47df-addd-383aa624adcf"
      },
      "execution_count": 79,
      "outputs": [
        {
          "output_type": "execute_result",
          "data": {
            "text/plain": [
              "Dessert            62072\n",
              "Lunch/Snacks       32586\n",
              "One Dish Meal      31345\n",
              "Vegetable          27231\n",
              "Breakfast          21101\n",
              "Beverages          16076\n",
              "Chicken            13249\n",
              "Meat               13131\n",
              "Breads             12804\n",
              "Pork               12603\n",
              "Sauces             12166\n",
              "Chicken Breast     11282\n",
              "Potato             10870\n",
              "Quick Breads       10387\n",
              "< 60 Mins           9719\n",
              "< 30 Mins           9020\n",
              "Cheese              8462\n",
              "Pie                 7775\n",
              "Bar Cookie          7029\n",
              "Low Protein         6663\n",
              "< 15 Mins           6662\n",
              "Drop Cookies        6385\n",
              "Stew                5679\n",
              "Yeast Breads        5523\n",
              "Beans               5463\n",
              "Candy               5229\n",
              "Salad Dressings     5066\n",
              "< 4 Hours           4969\n",
              "Frozen Desserts     4804\n",
              "Spreads             4694\n",
              "Name: RecipeCategory, dtype: int64"
            ]
          },
          "metadata": {},
          "execution_count": 79
        }
      ]
    },
    {
      "cell_type": "code",
      "source": [
        "recipes.iloc[:9001].RecipeCategory.value_counts().head(20)"
      ],
      "metadata": {
        "colab": {
          "base_uri": "https://localhost:8080/"
        },
        "id": "w71rPlldxC-E",
        "outputId": "6c4d2f5a-2287-4851-cdfa-19a3e7191989"
      },
      "execution_count": 80,
      "outputs": [
        {
          "output_type": "execute_result",
          "data": {
            "text/plain": [
              "Dessert           1113\n",
              "Vegetable          629\n",
              "Lunch/Snacks       560\n",
              "Pie                374\n",
              "Meat               312\n",
              "Breads             289\n",
              "Chicken            282\n",
              "< 15 Mins          247\n",
              "Pork               245\n",
              "One Dish Meal      211\n",
              "Beverages          211\n",
              "Potato             201\n",
              "Chicken Breast     201\n",
              "Quick Breads       195\n",
              "Breakfast          175\n",
              "Cheese             163\n",
              "Bar Cookie         160\n",
              "Sauces             152\n",
              "Low Protein        138\n",
              "Candy              137\n",
              "Name: RecipeCategory, dtype: int64"
            ]
          },
          "metadata": {},
          "execution_count": 80
        }
      ]
    },
    {
      "cell_type": "code",
      "source": [
        "# category based popularity model - dumping weightedPopularRecipes \n",
        "category = weightedPopularRecipes.apply(lambda x: pd.Series(x['RecipeCategory']),axis=1).stack().reset_index(level=1, drop=True)\n",
        "category.name = 'Category'\n",
        "categoryBasedRecommender = weightedPopularRecipes.drop('RecipeCategory', axis=1).join(category)"
      ],
      "metadata": {
        "id": "MK1RnSfDQsCZ"
      },
      "execution_count": 81,
      "outputs": []
    },
    {
      "cell_type": "code",
      "source": [
        "# Function that takes in an input of the category, creates a smaller dataset based on that category, performs the weighted rating method and returns the qualified recipes \n",
        "# with their weighted rating score sorted in descending order\n",
        "def categoricalRecipes(RecipeCategory, percentile=0.85):\n",
        "    categorySpecificRecipes = categoryBasedRecommender[categoryBasedRecommender['Category'] == RecipeCategory]\n",
        "    RatingCounts = categorySpecificRecipes[categorySpecificRecipes['Rating'].notnull()]['Rating'].astype('int')\n",
        "    RatingAverages = categorySpecificRecipes[categorySpecificRecipes['AggregatedRating'].notnull()]['AggregatedRating'].astype('int')\n",
        "    C = RatingAverages.mean()\n",
        "    m = RatingCounts.quantile(percentile)\n",
        "    \n",
        "    qualified = categorySpecificRecipes[(categorySpecificRecipes['Rating'] >= m) & (categorySpecificRecipes['Rating'].notnull()) & (categorySpecificRecipes['AggregatedRating'].notnull())]\n",
        "    [['RecipeId', 'Name', 'Rating', 'AggregatedRating', 'ReviewCount']]\n",
        "    qualified['Rating'] = qualified['Rating'].astype('int')\n",
        "    qualified['AggregatedRating'] = qualified['AggregatedRating'].astype('int')\n",
        "\n",
        "    qualified['wr'] = qualified.apply(lambda x: (x['Rating']/(x['Rating']+m) * x['AggregatedRating']) + (m/(m+x['Rating']) * C), axis=1)\n",
        "    qualified = qualified.sort_values('wr', ascending=False).head(12)\n",
        "    \n",
        "    return qualified  "
      ],
      "metadata": {
        "id": "LBBza-5ep3Zp"
      },
      "execution_count": 86,
      "outputs": []
    },
    {
      "cell_type": "code",
      "source": [
        "categoricalRecipes('Dessert')"
      ],
      "metadata": {
        "colab": {
          "base_uri": "https://localhost:8080/",
          "height": 1000
        },
        "id": "A1S2dgQUVZCp",
        "outputId": "75d92f25-fc97-4e81-c5f2-581ce9e1c503"
      },
      "execution_count": 87,
      "outputs": [
        {
          "output_type": "stream",
          "name": "stderr",
          "text": [
            "/usr/local/lib/python3.7/dist-packages/ipykernel_launcher.py:12: SettingWithCopyWarning: \n",
            "A value is trying to be set on a copy of a slice from a DataFrame.\n",
            "Try using .loc[row_indexer,col_indexer] = value instead\n",
            "\n",
            "See the caveats in the documentation: https://pandas.pydata.org/pandas-docs/stable/user_guide/indexing.html#returning-a-view-versus-a-copy\n",
            "  if sys.path[0] == '':\n",
            "/usr/local/lib/python3.7/dist-packages/ipykernel_launcher.py:13: SettingWithCopyWarning: \n",
            "A value is trying to be set on a copy of a slice from a DataFrame.\n",
            "Try using .loc[row_indexer,col_indexer] = value instead\n",
            "\n",
            "See the caveats in the documentation: https://pandas.pydata.org/pandas-docs/stable/user_guide/indexing.html#returning-a-view-versus-a-copy\n",
            "  del sys.path[0]\n",
            "/usr/local/lib/python3.7/dist-packages/ipykernel_launcher.py:15: SettingWithCopyWarning: \n",
            "A value is trying to be set on a copy of a slice from a DataFrame.\n",
            "Try using .loc[row_indexer,col_indexer] = value instead\n",
            "\n",
            "See the caveats in the documentation: https://pandas.pydata.org/pandas-docs/stable/user_guide/indexing.html#returning-a-view-versus-a-copy\n",
            "  from ipykernel import kernelapp as app\n"
          ]
        },
        {
          "output_type": "execute_result",
          "data": {
            "text/plain": [
              "      RecipeId                         Name  AuthorId          AuthorName  \\\n",
              "860       2496          Dark Chocolate Cake      1535  Marg CaymanDesigns   \n",
              "5170     10269        Peanut Butter Cookies     12491           Christine   \n",
              "4962      9989                   Lemon Bars     10404        Diana Adcock   \n",
              "4468      9160                 Rice Pudding      9690            Cheryl E   \n",
              "6356     11763        Easy Lemon Pound Cake     17721               jean1   \n",
              "1566      3595     Better Than Sex Cake IIi      1758        Paul K. Lago   \n",
              "4532      9240     Chocolate Eclair Dessert      9453               Pearz   \n",
              "3092      7118           Blueberry Boy Bait    146310           CoffeeMom   \n",
              "4150      8754  Sweet Peanut Butter Cookies      7673      Rachel Merrell   \n",
              "2594      5365    Pumpkin Cream Cheese Roll      2178               troyh   \n",
              "4869      9841                  Banana Cake      9869            Evie3234   \n",
              "2726      6536  Sweet Cream Cheese Frosting     35526            riffraff   \n",
              "\n",
              "     CookTime PrepTime TotalTime  \\\n",
              "860       50M      10M        1H   \n",
              "5170      12M      10M       22M   \n",
              "4962      50M      20M     1H10M   \n",
              "4468      55M       5M        1H   \n",
              "6356       1H      10M     1H10M   \n",
              "1566      35M      15M       50M   \n",
              "4532       NA      20M       20M   \n",
              "3092      50M      10M        1H   \n",
              "4150      12M      20M       32M   \n",
              "2594      15M      40M       55M   \n",
              "4869      30M      10M       40M   \n",
              "2726       NA       5M        5M   \n",
              "\n",
              "                                            Description  \\\n",
              "860   While it takes slightly longer to prepare this...   \n",
              "5170  I've been baking these since I was a little gi...   \n",
              "4962  Make and share this Lemon Bars recipe from Foo...   \n",
              "4468  Make and share this Rice Pudding recipe from F...   \n",
              "6356  I have used this cake for so many different th...   \n",
              "1566  It is my understanding that there are a variet...   \n",
              "4532  Make and share this Chocolate Eclair Dessert r...   \n",
              "3092  Make and share this Blueberry Boy Bait recipe ...   \n",
              "4150  Make and share this Sweet Peanut Butter Cookie...   \n",
              "2594  Make and share this Pumpkin Cream Cheese Roll ...   \n",
              "4869  Make and share this Banana Cake recipe from Fo...   \n",
              "2726  Make and share this Sweet Cream Cheese Frostin...   \n",
              "\n",
              "                                                 Images  \\\n",
              "860   [https://img.sndimg.com/food/image/upload/w_55...   \n",
              "5170  [https://img.sndimg.com/food/image/upload/w_55...   \n",
              "4962  [https://img.sndimg.com/food/image/upload/w_55...   \n",
              "4468  [https://img.sndimg.com/food/image/upload/w_55...   \n",
              "6356  [https://img.sndimg.com/food/image/upload/w_55...   \n",
              "1566  [https://img.sndimg.com/food/image/upload/w_55...   \n",
              "4532  [https://img.sndimg.com/food/image/upload/w_55...   \n",
              "3092  [https://img.sndimg.com/food/image/upload/w_55...   \n",
              "4150  [https://img.sndimg.com/food/image/upload/w_55...   \n",
              "2594  [https://img.sndimg.com/food/image/upload/w_55...   \n",
              "4869  [https://img.sndimg.com/food/image/upload/w_55...   \n",
              "2726  [https://img.sndimg.com/food/image/upload/w_55...   \n",
              "\n",
              "                                               Keywords  ... SodiumContent  \\\n",
              "860                 [< 60 Mins, For Large Groups, Oven]  ...         252.4   \n",
              "5170  [Lunch/Snacks, Cookie & Brownie, Fruit, Nuts, ...  ...         126.4   \n",
              "4962                       [Weeknight, Oven, < 4 Hours]  ...         262.2   \n",
              "4468  [Lunch/Snacks, Medium Grain Rice, Rice, Low Pr...  ...         507.2   \n",
              "6356  [Kid Friendly, Sweet, Weeknight, Oven, < 4 Hours]  ...         245.5   \n",
              "1566          [< 60 Mins, For Large Groups, Oven, Easy]  ...         349.1   \n",
              "4532  [Kid Friendly, Potluck, Summer, < 30 Mins, No ...  ...         336.1   \n",
              "3092                  [Berries, Fruit, < 60 Mins, Oven]  ...         550.7   \n",
              "4150  [Cookie & Brownie, < 60 Mins, For Large Groups...  ...         138.8   \n",
              "2594  [Cheese, Tex Mex, Southwestern U.S., Winter, <...  ...         376.1   \n",
              "4869                            [< 60 Mins, Oven, Easy]  ...         344.9   \n",
              "2726             [Cheese, Low Protein, < 15 Mins, Easy]  ...         163.3   \n",
              "\n",
              "     CarbohydrateContent  FiberContent  SugarContent  ProteinContent  \\\n",
              "860                 30.9           1.4          20.1             2.8   \n",
              "5170                14.7           0.5           9.1             2.3   \n",
              "4962                85.3           1.0          57.7             7.0   \n",
              "4468               131.6           1.0          74.7            20.2   \n",
              "6356                50.9           0.7          31.6             4.7   \n",
              "1566                50.1           0.9          20.1             4.3   \n",
              "4532                70.4           1.7          43.9             6.3   \n",
              "3092                68.6           1.7          41.3             6.2   \n",
              "4150                16.2           0.7           9.4             3.1   \n",
              "2594                52.3           1.1          41.4             5.6   \n",
              "4869                53.4           1.8          30.5             4.0   \n",
              "2726                57.9           0.0          56.4             1.8   \n",
              "\n",
              "      RecipeServings                                 RecipeInstructions  \\\n",
              "860              NaN  Heat oven to 350°F. Grease and flour two 9 inc...   \n",
              "5170             NaN  Preheat oven to 375º. Mix first six ingredient...   \n",
              "4962             NaN  For the base mix the butter into the flour and...   \n",
              "4468             NaN  Bring rice, water and salt to a boil over med-...   \n",
              "6356             8.0  Mix together 1 cup sugar and butter. Add eggs ...   \n",
              "1566            24.0  Preheat oven to 350°F. Grease and lightly flou...   \n",
              "4532             NaN  Mix together vanilla pudding mix and milk. Fol...   \n",
              "3092             8.0  Mix together flour, sugar, & butter. Reserve 3...   \n",
              "4150            24.0  In medium mixing bowl beat together peanut but...   \n",
              "2594             8.0  In a large bowl, beat eggs and sugar. Beat in ...   \n",
              "4869             8.0  Cream butter and sugar, add egg and soda thats...   \n",
              "2726             8.0  Blend softened cheese and butter in mixer. Ble...   \n",
              "\n",
              "      Rating  Category        wr  \n",
              "860      520   Dessert  4.986927  \n",
              "5170     388   Dessert  4.982613  \n",
              "4962     279   Dessert  4.976100  \n",
              "4468     228   Dessert  4.971021  \n",
              "6356     158   Dessert  4.959089  \n",
              "1566     131   Dessert  4.951364  \n",
              "4532     129   Dessert  4.950674  \n",
              "3092     128   Dessert  4.950322  \n",
              "4150     121   Dessert  4.947707  \n",
              "2594     110   Dessert  4.942993  \n",
              "4869     106   Dessert  4.941060  \n",
              "2726     106   Dessert  4.941060  \n",
              "\n",
              "[12 rows x 28 columns]"
            ],
            "text/html": [
              "\n",
              "  <div id=\"df-5aeca823-8ab2-427a-b8c5-81d44a0e56bb\">\n",
              "    <div class=\"colab-df-container\">\n",
              "      <div>\n",
              "<style scoped>\n",
              "    .dataframe tbody tr th:only-of-type {\n",
              "        vertical-align: middle;\n",
              "    }\n",
              "\n",
              "    .dataframe tbody tr th {\n",
              "        vertical-align: top;\n",
              "    }\n",
              "\n",
              "    .dataframe thead th {\n",
              "        text-align: right;\n",
              "    }\n",
              "</style>\n",
              "<table border=\"1\" class=\"dataframe\">\n",
              "  <thead>\n",
              "    <tr style=\"text-align: right;\">\n",
              "      <th></th>\n",
              "      <th>RecipeId</th>\n",
              "      <th>Name</th>\n",
              "      <th>AuthorId</th>\n",
              "      <th>AuthorName</th>\n",
              "      <th>CookTime</th>\n",
              "      <th>PrepTime</th>\n",
              "      <th>TotalTime</th>\n",
              "      <th>Description</th>\n",
              "      <th>Images</th>\n",
              "      <th>Keywords</th>\n",
              "      <th>...</th>\n",
              "      <th>SodiumContent</th>\n",
              "      <th>CarbohydrateContent</th>\n",
              "      <th>FiberContent</th>\n",
              "      <th>SugarContent</th>\n",
              "      <th>ProteinContent</th>\n",
              "      <th>RecipeServings</th>\n",
              "      <th>RecipeInstructions</th>\n",
              "      <th>Rating</th>\n",
              "      <th>Category</th>\n",
              "      <th>wr</th>\n",
              "    </tr>\n",
              "  </thead>\n",
              "  <tbody>\n",
              "    <tr>\n",
              "      <th>860</th>\n",
              "      <td>2496</td>\n",
              "      <td>Dark Chocolate Cake</td>\n",
              "      <td>1535</td>\n",
              "      <td>Marg CaymanDesigns</td>\n",
              "      <td>50M</td>\n",
              "      <td>10M</td>\n",
              "      <td>1H</td>\n",
              "      <td>While it takes slightly longer to prepare this...</td>\n",
              "      <td>[https://img.sndimg.com/food/image/upload/w_55...</td>\n",
              "      <td>[&lt; 60 Mins, For Large Groups, Oven]</td>\n",
              "      <td>...</td>\n",
              "      <td>252.4</td>\n",
              "      <td>30.9</td>\n",
              "      <td>1.4</td>\n",
              "      <td>20.1</td>\n",
              "      <td>2.8</td>\n",
              "      <td>NaN</td>\n",
              "      <td>Heat oven to 350°F. Grease and flour two 9 inc...</td>\n",
              "      <td>520</td>\n",
              "      <td>Dessert</td>\n",
              "      <td>4.986927</td>\n",
              "    </tr>\n",
              "    <tr>\n",
              "      <th>5170</th>\n",
              "      <td>10269</td>\n",
              "      <td>Peanut Butter Cookies</td>\n",
              "      <td>12491</td>\n",
              "      <td>Christine</td>\n",
              "      <td>12M</td>\n",
              "      <td>10M</td>\n",
              "      <td>22M</td>\n",
              "      <td>I've been baking these since I was a little gi...</td>\n",
              "      <td>[https://img.sndimg.com/food/image/upload/w_55...</td>\n",
              "      <td>[Lunch/Snacks, Cookie &amp; Brownie, Fruit, Nuts, ...</td>\n",
              "      <td>...</td>\n",
              "      <td>126.4</td>\n",
              "      <td>14.7</td>\n",
              "      <td>0.5</td>\n",
              "      <td>9.1</td>\n",
              "      <td>2.3</td>\n",
              "      <td>NaN</td>\n",
              "      <td>Preheat oven to 375º. Mix first six ingredient...</td>\n",
              "      <td>388</td>\n",
              "      <td>Dessert</td>\n",
              "      <td>4.982613</td>\n",
              "    </tr>\n",
              "    <tr>\n",
              "      <th>4962</th>\n",
              "      <td>9989</td>\n",
              "      <td>Lemon Bars</td>\n",
              "      <td>10404</td>\n",
              "      <td>Diana Adcock</td>\n",
              "      <td>50M</td>\n",
              "      <td>20M</td>\n",
              "      <td>1H10M</td>\n",
              "      <td>Make and share this Lemon Bars recipe from Foo...</td>\n",
              "      <td>[https://img.sndimg.com/food/image/upload/w_55...</td>\n",
              "      <td>[Weeknight, Oven, &lt; 4 Hours]</td>\n",
              "      <td>...</td>\n",
              "      <td>262.2</td>\n",
              "      <td>85.3</td>\n",
              "      <td>1.0</td>\n",
              "      <td>57.7</td>\n",
              "      <td>7.0</td>\n",
              "      <td>NaN</td>\n",
              "      <td>For the base mix the butter into the flour and...</td>\n",
              "      <td>279</td>\n",
              "      <td>Dessert</td>\n",
              "      <td>4.976100</td>\n",
              "    </tr>\n",
              "    <tr>\n",
              "      <th>4468</th>\n",
              "      <td>9160</td>\n",
              "      <td>Rice Pudding</td>\n",
              "      <td>9690</td>\n",
              "      <td>Cheryl E</td>\n",
              "      <td>55M</td>\n",
              "      <td>5M</td>\n",
              "      <td>1H</td>\n",
              "      <td>Make and share this Rice Pudding recipe from F...</td>\n",
              "      <td>[https://img.sndimg.com/food/image/upload/w_55...</td>\n",
              "      <td>[Lunch/Snacks, Medium Grain Rice, Rice, Low Pr...</td>\n",
              "      <td>...</td>\n",
              "      <td>507.2</td>\n",
              "      <td>131.6</td>\n",
              "      <td>1.0</td>\n",
              "      <td>74.7</td>\n",
              "      <td>20.2</td>\n",
              "      <td>NaN</td>\n",
              "      <td>Bring rice, water and salt to a boil over med-...</td>\n",
              "      <td>228</td>\n",
              "      <td>Dessert</td>\n",
              "      <td>4.971021</td>\n",
              "    </tr>\n",
              "    <tr>\n",
              "      <th>6356</th>\n",
              "      <td>11763</td>\n",
              "      <td>Easy Lemon Pound Cake</td>\n",
              "      <td>17721</td>\n",
              "      <td>jean1</td>\n",
              "      <td>1H</td>\n",
              "      <td>10M</td>\n",
              "      <td>1H10M</td>\n",
              "      <td>I have used this cake for so many different th...</td>\n",
              "      <td>[https://img.sndimg.com/food/image/upload/w_55...</td>\n",
              "      <td>[Kid Friendly, Sweet, Weeknight, Oven, &lt; 4 Hours]</td>\n",
              "      <td>...</td>\n",
              "      <td>245.5</td>\n",
              "      <td>50.9</td>\n",
              "      <td>0.7</td>\n",
              "      <td>31.6</td>\n",
              "      <td>4.7</td>\n",
              "      <td>8.0</td>\n",
              "      <td>Mix together 1 cup sugar and butter. Add eggs ...</td>\n",
              "      <td>158</td>\n",
              "      <td>Dessert</td>\n",
              "      <td>4.959089</td>\n",
              "    </tr>\n",
              "    <tr>\n",
              "      <th>1566</th>\n",
              "      <td>3595</td>\n",
              "      <td>Better Than Sex Cake IIi</td>\n",
              "      <td>1758</td>\n",
              "      <td>Paul K. Lago</td>\n",
              "      <td>35M</td>\n",
              "      <td>15M</td>\n",
              "      <td>50M</td>\n",
              "      <td>It is my understanding that there are a variet...</td>\n",
              "      <td>[https://img.sndimg.com/food/image/upload/w_55...</td>\n",
              "      <td>[&lt; 60 Mins, For Large Groups, Oven, Easy]</td>\n",
              "      <td>...</td>\n",
              "      <td>349.1</td>\n",
              "      <td>50.1</td>\n",
              "      <td>0.9</td>\n",
              "      <td>20.1</td>\n",
              "      <td>4.3</td>\n",
              "      <td>24.0</td>\n",
              "      <td>Preheat oven to 350°F. Grease and lightly flou...</td>\n",
              "      <td>131</td>\n",
              "      <td>Dessert</td>\n",
              "      <td>4.951364</td>\n",
              "    </tr>\n",
              "    <tr>\n",
              "      <th>4532</th>\n",
              "      <td>9240</td>\n",
              "      <td>Chocolate Eclair Dessert</td>\n",
              "      <td>9453</td>\n",
              "      <td>Pearz</td>\n",
              "      <td>NA</td>\n",
              "      <td>20M</td>\n",
              "      <td>20M</td>\n",
              "      <td>Make and share this Chocolate Eclair Dessert r...</td>\n",
              "      <td>[https://img.sndimg.com/food/image/upload/w_55...</td>\n",
              "      <td>[Kid Friendly, Potluck, Summer, &lt; 30 Mins, No ...</td>\n",
              "      <td>...</td>\n",
              "      <td>336.1</td>\n",
              "      <td>70.4</td>\n",
              "      <td>1.7</td>\n",
              "      <td>43.9</td>\n",
              "      <td>6.3</td>\n",
              "      <td>NaN</td>\n",
              "      <td>Mix together vanilla pudding mix and milk. Fol...</td>\n",
              "      <td>129</td>\n",
              "      <td>Dessert</td>\n",
              "      <td>4.950674</td>\n",
              "    </tr>\n",
              "    <tr>\n",
              "      <th>3092</th>\n",
              "      <td>7118</td>\n",
              "      <td>Blueberry Boy Bait</td>\n",
              "      <td>146310</td>\n",
              "      <td>CoffeeMom</td>\n",
              "      <td>50M</td>\n",
              "      <td>10M</td>\n",
              "      <td>1H</td>\n",
              "      <td>Make and share this Blueberry Boy Bait recipe ...</td>\n",
              "      <td>[https://img.sndimg.com/food/image/upload/w_55...</td>\n",
              "      <td>[Berries, Fruit, &lt; 60 Mins, Oven]</td>\n",
              "      <td>...</td>\n",
              "      <td>550.7</td>\n",
              "      <td>68.6</td>\n",
              "      <td>1.7</td>\n",
              "      <td>41.3</td>\n",
              "      <td>6.2</td>\n",
              "      <td>8.0</td>\n",
              "      <td>Mix together flour, sugar, &amp; butter. Reserve 3...</td>\n",
              "      <td>128</td>\n",
              "      <td>Dessert</td>\n",
              "      <td>4.950322</td>\n",
              "    </tr>\n",
              "    <tr>\n",
              "      <th>4150</th>\n",
              "      <td>8754</td>\n",
              "      <td>Sweet Peanut Butter Cookies</td>\n",
              "      <td>7673</td>\n",
              "      <td>Rachel Merrell</td>\n",
              "      <td>12M</td>\n",
              "      <td>20M</td>\n",
              "      <td>32M</td>\n",
              "      <td>Make and share this Sweet Peanut Butter Cookie...</td>\n",
              "      <td>[https://img.sndimg.com/food/image/upload/w_55...</td>\n",
              "      <td>[Cookie &amp; Brownie, &lt; 60 Mins, For Large Groups...</td>\n",
              "      <td>...</td>\n",
              "      <td>138.8</td>\n",
              "      <td>16.2</td>\n",
              "      <td>0.7</td>\n",
              "      <td>9.4</td>\n",
              "      <td>3.1</td>\n",
              "      <td>24.0</td>\n",
              "      <td>In medium mixing bowl beat together peanut but...</td>\n",
              "      <td>121</td>\n",
              "      <td>Dessert</td>\n",
              "      <td>4.947707</td>\n",
              "    </tr>\n",
              "    <tr>\n",
              "      <th>2594</th>\n",
              "      <td>5365</td>\n",
              "      <td>Pumpkin Cream Cheese Roll</td>\n",
              "      <td>2178</td>\n",
              "      <td>troyh</td>\n",
              "      <td>15M</td>\n",
              "      <td>40M</td>\n",
              "      <td>55M</td>\n",
              "      <td>Make and share this Pumpkin Cream Cheese Roll ...</td>\n",
              "      <td>[https://img.sndimg.com/food/image/upload/w_55...</td>\n",
              "      <td>[Cheese, Tex Mex, Southwestern U.S., Winter, &lt;...</td>\n",
              "      <td>...</td>\n",
              "      <td>376.1</td>\n",
              "      <td>52.3</td>\n",
              "      <td>1.1</td>\n",
              "      <td>41.4</td>\n",
              "      <td>5.6</td>\n",
              "      <td>8.0</td>\n",
              "      <td>In a large bowl, beat eggs and sugar. Beat in ...</td>\n",
              "      <td>110</td>\n",
              "      <td>Dessert</td>\n",
              "      <td>4.942993</td>\n",
              "    </tr>\n",
              "    <tr>\n",
              "      <th>4869</th>\n",
              "      <td>9841</td>\n",
              "      <td>Banana Cake</td>\n",
              "      <td>9869</td>\n",
              "      <td>Evie3234</td>\n",
              "      <td>30M</td>\n",
              "      <td>10M</td>\n",
              "      <td>40M</td>\n",
              "      <td>Make and share this Banana Cake recipe from Fo...</td>\n",
              "      <td>[https://img.sndimg.com/food/image/upload/w_55...</td>\n",
              "      <td>[&lt; 60 Mins, Oven, Easy]</td>\n",
              "      <td>...</td>\n",
              "      <td>344.9</td>\n",
              "      <td>53.4</td>\n",
              "      <td>1.8</td>\n",
              "      <td>30.5</td>\n",
              "      <td>4.0</td>\n",
              "      <td>8.0</td>\n",
              "      <td>Cream butter and sugar, add egg and soda thats...</td>\n",
              "      <td>106</td>\n",
              "      <td>Dessert</td>\n",
              "      <td>4.941060</td>\n",
              "    </tr>\n",
              "    <tr>\n",
              "      <th>2726</th>\n",
              "      <td>6536</td>\n",
              "      <td>Sweet Cream Cheese Frosting</td>\n",
              "      <td>35526</td>\n",
              "      <td>riffraff</td>\n",
              "      <td>NA</td>\n",
              "      <td>5M</td>\n",
              "      <td>5M</td>\n",
              "      <td>Make and share this Sweet Cream Cheese Frostin...</td>\n",
              "      <td>[https://img.sndimg.com/food/image/upload/w_55...</td>\n",
              "      <td>[Cheese, Low Protein, &lt; 15 Mins, Easy]</td>\n",
              "      <td>...</td>\n",
              "      <td>163.3</td>\n",
              "      <td>57.9</td>\n",
              "      <td>0.0</td>\n",
              "      <td>56.4</td>\n",
              "      <td>1.8</td>\n",
              "      <td>8.0</td>\n",
              "      <td>Blend softened cheese and butter in mixer. Ble...</td>\n",
              "      <td>106</td>\n",
              "      <td>Dessert</td>\n",
              "      <td>4.941060</td>\n",
              "    </tr>\n",
              "  </tbody>\n",
              "</table>\n",
              "<p>12 rows × 28 columns</p>\n",
              "</div>\n",
              "      <button class=\"colab-df-convert\" onclick=\"convertToInteractive('df-5aeca823-8ab2-427a-b8c5-81d44a0e56bb')\"\n",
              "              title=\"Convert this dataframe to an interactive table.\"\n",
              "              style=\"display:none;\">\n",
              "        \n",
              "  <svg xmlns=\"http://www.w3.org/2000/svg\" height=\"24px\"viewBox=\"0 0 24 24\"\n",
              "       width=\"24px\">\n",
              "    <path d=\"M0 0h24v24H0V0z\" fill=\"none\"/>\n",
              "    <path d=\"M18.56 5.44l.94 2.06.94-2.06 2.06-.94-2.06-.94-.94-2.06-.94 2.06-2.06.94zm-11 1L8.5 8.5l.94-2.06 2.06-.94-2.06-.94L8.5 2.5l-.94 2.06-2.06.94zm10 10l.94 2.06.94-2.06 2.06-.94-2.06-.94-.94-2.06-.94 2.06-2.06.94z\"/><path d=\"M17.41 7.96l-1.37-1.37c-.4-.4-.92-.59-1.43-.59-.52 0-1.04.2-1.43.59L10.3 9.45l-7.72 7.72c-.78.78-.78 2.05 0 2.83L4 21.41c.39.39.9.59 1.41.59.51 0 1.02-.2 1.41-.59l7.78-7.78 2.81-2.81c.8-.78.8-2.07 0-2.86zM5.41 20L4 18.59l7.72-7.72 1.47 1.35L5.41 20z\"/>\n",
              "  </svg>\n",
              "      </button>\n",
              "      \n",
              "  <style>\n",
              "    .colab-df-container {\n",
              "      display:flex;\n",
              "      flex-wrap:wrap;\n",
              "      gap: 12px;\n",
              "    }\n",
              "\n",
              "    .colab-df-convert {\n",
              "      background-color: #E8F0FE;\n",
              "      border: none;\n",
              "      border-radius: 50%;\n",
              "      cursor: pointer;\n",
              "      display: none;\n",
              "      fill: #1967D2;\n",
              "      height: 32px;\n",
              "      padding: 0 0 0 0;\n",
              "      width: 32px;\n",
              "    }\n",
              "\n",
              "    .colab-df-convert:hover {\n",
              "      background-color: #E2EBFA;\n",
              "      box-shadow: 0px 1px 2px rgba(60, 64, 67, 0.3), 0px 1px 3px 1px rgba(60, 64, 67, 0.15);\n",
              "      fill: #174EA6;\n",
              "    }\n",
              "\n",
              "    [theme=dark] .colab-df-convert {\n",
              "      background-color: #3B4455;\n",
              "      fill: #D2E3FC;\n",
              "    }\n",
              "\n",
              "    [theme=dark] .colab-df-convert:hover {\n",
              "      background-color: #434B5C;\n",
              "      box-shadow: 0px 1px 3px 1px rgba(0, 0, 0, 0.15);\n",
              "      filter: drop-shadow(0px 1px 2px rgba(0, 0, 0, 0.3));\n",
              "      fill: #FFFFFF;\n",
              "    }\n",
              "  </style>\n",
              "\n",
              "      <script>\n",
              "        const buttonEl =\n",
              "          document.querySelector('#df-5aeca823-8ab2-427a-b8c5-81d44a0e56bb button.colab-df-convert');\n",
              "        buttonEl.style.display =\n",
              "          google.colab.kernel.accessAllowed ? 'block' : 'none';\n",
              "\n",
              "        async function convertToInteractive(key) {\n",
              "          const element = document.querySelector('#df-5aeca823-8ab2-427a-b8c5-81d44a0e56bb');\n",
              "          const dataTable =\n",
              "            await google.colab.kernel.invokeFunction('convertToInteractive',\n",
              "                                                     [key], {});\n",
              "          if (!dataTable) return;\n",
              "\n",
              "          const docLinkHtml = 'Like what you see? Visit the ' +\n",
              "            '<a target=\"_blank\" href=https://colab.research.google.com/notebooks/data_table.ipynb>data table notebook</a>'\n",
              "            + ' to learn more about interactive tables.';\n",
              "          element.innerHTML = '';\n",
              "          dataTable['output_type'] = 'display_data';\n",
              "          await google.colab.output.renderOutput(dataTable, element);\n",
              "          const docLink = document.createElement('div');\n",
              "          docLink.innerHTML = docLinkHtml;\n",
              "          element.appendChild(docLink);\n",
              "        }\n",
              "      </script>\n",
              "    </div>\n",
              "  </div>\n",
              "  "
            ]
          },
          "metadata": {},
          "execution_count": 87
        }
      ]
    },
    {
      "cell_type": "code",
      "source": [
        "# Finding popular 'Breakfast' items\n",
        "popularDesserts = categoricalRecipes('Breakfast').head()\n",
        "popularDesserts"
      ],
      "metadata": {
        "colab": {
          "base_uri": "https://localhost:8080/",
          "height": 993
        },
        "id": "PSR0CQTpqIUp",
        "outputId": "4a07d9fc-0389-4908-c36c-a25e23206eb8"
      },
      "execution_count": 88,
      "outputs": [
        {
          "output_type": "stream",
          "name": "stderr",
          "text": [
            "/usr/local/lib/python3.7/dist-packages/ipykernel_launcher.py:12: SettingWithCopyWarning: \n",
            "A value is trying to be set on a copy of a slice from a DataFrame.\n",
            "Try using .loc[row_indexer,col_indexer] = value instead\n",
            "\n",
            "See the caveats in the documentation: https://pandas.pydata.org/pandas-docs/stable/user_guide/indexing.html#returning-a-view-versus-a-copy\n",
            "  if sys.path[0] == '':\n",
            "/usr/local/lib/python3.7/dist-packages/ipykernel_launcher.py:13: SettingWithCopyWarning: \n",
            "A value is trying to be set on a copy of a slice from a DataFrame.\n",
            "Try using .loc[row_indexer,col_indexer] = value instead\n",
            "\n",
            "See the caveats in the documentation: https://pandas.pydata.org/pandas-docs/stable/user_guide/indexing.html#returning-a-view-versus-a-copy\n",
            "  del sys.path[0]\n",
            "/usr/local/lib/python3.7/dist-packages/ipykernel_launcher.py:15: SettingWithCopyWarning: \n",
            "A value is trying to be set on a copy of a slice from a DataFrame.\n",
            "Try using .loc[row_indexer,col_indexer] = value instead\n",
            "\n",
            "See the caveats in the documentation: https://pandas.pydata.org/pandas-docs/stable/user_guide/indexing.html#returning-a-view-versus-a-copy\n",
            "  from ipykernel import kernelapp as app\n"
          ]
        },
        {
          "output_type": "execute_result",
          "data": {
            "text/plain": [
              "      RecipeId                             Name  AuthorId  \\\n",
              "2467      5170          Pete's Scratch Pancakes      1634   \n",
              "4383      9054  Leftover Mashed Potato Pancakes      8381   \n",
              "1419      3370                  French Toast II      1760   \n",
              "6141     11492                     Apple Butter     13067   \n",
              "352        519     Spicy Hash Browns - Homemade      1773   \n",
              "\n",
              "               AuthorName CookTime PrepTime TotalTime  \\\n",
              "2467        Bill Hilbrich       5M      15M       20M   \n",
              "4383        Thomas Danler      30M       5M       35M   \n",
              "1419  Cheryl Thebeau-Blev      15M      10M       25M   \n",
              "6141          Brenda Hall   17H40M       1H    18H40M   \n",
              "352         Malarkey Test      30M      15M       45M   \n",
              "\n",
              "                                            Description  \\\n",
              "2467  It was the Fall of 1987 when Pete Nyhus walked...   \n",
              "4383  This recipe was recently submitted to a news g...   \n",
              "1419  Here's the way French Toast has been made in m...   \n",
              "6141  This is a very easy recipe to make and has alw...   \n",
              "352   Make and share this Spicy Hash Browns - Homema...   \n",
              "\n",
              "                                                 Images  \\\n",
              "2467  [https://img.sndimg.com/food/image/upload/w_55...   \n",
              "4383  [https://img.sndimg.com/food/image/upload/w_55...   \n",
              "1419  [https://img.sndimg.com/food/image/upload/w_55...   \n",
              "6141  [https://img.sndimg.com/food/image/upload/w_55...   \n",
              "352   [https://img.sndimg.com/food/image/upload/w_55...   \n",
              "\n",
              "                                               Keywords  ... SodiumContent  \\\n",
              "2467              [High In..., Brunch, < 30 Mins, Easy]  ...         334.9   \n",
              "4383  [Potato, Vegetable, Healthy, Hanukkah, < 60 Mi...  ...         670.0   \n",
              "1419                                           [30 Min]  ...         218.1   \n",
              "6141  [Apple, Fruit, Low Protein, Vegan, Low Cholest...  ...          12.0   \n",
              "352   [Potato, Vegetable, Low Protein, Vegan, Low Ch...  ...         247.7   \n",
              "\n",
              "     CarbohydrateContent  FiberContent  SugarContent  ProteinContent  \\\n",
              "2467                28.1           0.8           4.3             5.9   \n",
              "4383                49.0           3.6           3.3             8.8   \n",
              "1419                32.1           2.1          25.7            18.7   \n",
              "6141               137.1           0.7         135.4             0.1   \n",
              "352                 41.3           4.0           1.9             3.9   \n",
              "\n",
              "      RecipeServings                                 RecipeInstructions  \\\n",
              "2467             NaN  Mix the dry items first. Combine the eggs and ...   \n",
              "4383             2.0  Mix mashed potatoes, egg, flour, salt, pepper,...   \n",
              "1419             NaN  Whisk the eggs till frothy. Add remaining ingr...   \n",
              "6141             NaN  Peel, core and slice enough apples to fill a 4...   \n",
              "352              5.0  Preheat oven to 400 degrees Fahrenheit. Combin...   \n",
              "\n",
              "      Rating   Category        wr  \n",
              "2467     699  Breakfast  4.987161  \n",
              "4383     131  Breakfast  4.936344  \n",
              "1419      84  Breakfast  4.905341  \n",
              "6141      59  Breakfast  4.872243  \n",
              "352       49  Breakfast  4.851470  \n",
              "\n",
              "[5 rows x 28 columns]"
            ],
            "text/html": [
              "\n",
              "  <div id=\"df-5602d620-d17d-46b4-8581-7298e8e0d1c9\">\n",
              "    <div class=\"colab-df-container\">\n",
              "      <div>\n",
              "<style scoped>\n",
              "    .dataframe tbody tr th:only-of-type {\n",
              "        vertical-align: middle;\n",
              "    }\n",
              "\n",
              "    .dataframe tbody tr th {\n",
              "        vertical-align: top;\n",
              "    }\n",
              "\n",
              "    .dataframe thead th {\n",
              "        text-align: right;\n",
              "    }\n",
              "</style>\n",
              "<table border=\"1\" class=\"dataframe\">\n",
              "  <thead>\n",
              "    <tr style=\"text-align: right;\">\n",
              "      <th></th>\n",
              "      <th>RecipeId</th>\n",
              "      <th>Name</th>\n",
              "      <th>AuthorId</th>\n",
              "      <th>AuthorName</th>\n",
              "      <th>CookTime</th>\n",
              "      <th>PrepTime</th>\n",
              "      <th>TotalTime</th>\n",
              "      <th>Description</th>\n",
              "      <th>Images</th>\n",
              "      <th>Keywords</th>\n",
              "      <th>...</th>\n",
              "      <th>SodiumContent</th>\n",
              "      <th>CarbohydrateContent</th>\n",
              "      <th>FiberContent</th>\n",
              "      <th>SugarContent</th>\n",
              "      <th>ProteinContent</th>\n",
              "      <th>RecipeServings</th>\n",
              "      <th>RecipeInstructions</th>\n",
              "      <th>Rating</th>\n",
              "      <th>Category</th>\n",
              "      <th>wr</th>\n",
              "    </tr>\n",
              "  </thead>\n",
              "  <tbody>\n",
              "    <tr>\n",
              "      <th>2467</th>\n",
              "      <td>5170</td>\n",
              "      <td>Pete's Scratch Pancakes</td>\n",
              "      <td>1634</td>\n",
              "      <td>Bill Hilbrich</td>\n",
              "      <td>5M</td>\n",
              "      <td>15M</td>\n",
              "      <td>20M</td>\n",
              "      <td>It was the Fall of 1987 when Pete Nyhus walked...</td>\n",
              "      <td>[https://img.sndimg.com/food/image/upload/w_55...</td>\n",
              "      <td>[High In..., Brunch, &lt; 30 Mins, Easy]</td>\n",
              "      <td>...</td>\n",
              "      <td>334.9</td>\n",
              "      <td>28.1</td>\n",
              "      <td>0.8</td>\n",
              "      <td>4.3</td>\n",
              "      <td>5.9</td>\n",
              "      <td>NaN</td>\n",
              "      <td>Mix the dry items first. Combine the eggs and ...</td>\n",
              "      <td>699</td>\n",
              "      <td>Breakfast</td>\n",
              "      <td>4.987161</td>\n",
              "    </tr>\n",
              "    <tr>\n",
              "      <th>4383</th>\n",
              "      <td>9054</td>\n",
              "      <td>Leftover Mashed Potato Pancakes</td>\n",
              "      <td>8381</td>\n",
              "      <td>Thomas Danler</td>\n",
              "      <td>30M</td>\n",
              "      <td>5M</td>\n",
              "      <td>35M</td>\n",
              "      <td>This recipe was recently submitted to a news g...</td>\n",
              "      <td>[https://img.sndimg.com/food/image/upload/w_55...</td>\n",
              "      <td>[Potato, Vegetable, Healthy, Hanukkah, &lt; 60 Mi...</td>\n",
              "      <td>...</td>\n",
              "      <td>670.0</td>\n",
              "      <td>49.0</td>\n",
              "      <td>3.6</td>\n",
              "      <td>3.3</td>\n",
              "      <td>8.8</td>\n",
              "      <td>2.0</td>\n",
              "      <td>Mix mashed potatoes, egg, flour, salt, pepper,...</td>\n",
              "      <td>131</td>\n",
              "      <td>Breakfast</td>\n",
              "      <td>4.936344</td>\n",
              "    </tr>\n",
              "    <tr>\n",
              "      <th>1419</th>\n",
              "      <td>3370</td>\n",
              "      <td>French Toast II</td>\n",
              "      <td>1760</td>\n",
              "      <td>Cheryl Thebeau-Blev</td>\n",
              "      <td>15M</td>\n",
              "      <td>10M</td>\n",
              "      <td>25M</td>\n",
              "      <td>Here's the way French Toast has been made in m...</td>\n",
              "      <td>[https://img.sndimg.com/food/image/upload/w_55...</td>\n",
              "      <td>[30 Min]</td>\n",
              "      <td>...</td>\n",
              "      <td>218.1</td>\n",
              "      <td>32.1</td>\n",
              "      <td>2.1</td>\n",
              "      <td>25.7</td>\n",
              "      <td>18.7</td>\n",
              "      <td>NaN</td>\n",
              "      <td>Whisk the eggs till frothy. Add remaining ingr...</td>\n",
              "      <td>84</td>\n",
              "      <td>Breakfast</td>\n",
              "      <td>4.905341</td>\n",
              "    </tr>\n",
              "    <tr>\n",
              "      <th>6141</th>\n",
              "      <td>11492</td>\n",
              "      <td>Apple Butter</td>\n",
              "      <td>13067</td>\n",
              "      <td>Brenda Hall</td>\n",
              "      <td>17H40M</td>\n",
              "      <td>1H</td>\n",
              "      <td>18H40M</td>\n",
              "      <td>This is a very easy recipe to make and has alw...</td>\n",
              "      <td>[https://img.sndimg.com/food/image/upload/w_55...</td>\n",
              "      <td>[Apple, Fruit, Low Protein, Vegan, Low Cholest...</td>\n",
              "      <td>...</td>\n",
              "      <td>12.0</td>\n",
              "      <td>137.1</td>\n",
              "      <td>0.7</td>\n",
              "      <td>135.4</td>\n",
              "      <td>0.1</td>\n",
              "      <td>NaN</td>\n",
              "      <td>Peel, core and slice enough apples to fill a 4...</td>\n",
              "      <td>59</td>\n",
              "      <td>Breakfast</td>\n",
              "      <td>4.872243</td>\n",
              "    </tr>\n",
              "    <tr>\n",
              "      <th>352</th>\n",
              "      <td>519</td>\n",
              "      <td>Spicy Hash Browns - Homemade</td>\n",
              "      <td>1773</td>\n",
              "      <td>Malarkey Test</td>\n",
              "      <td>30M</td>\n",
              "      <td>15M</td>\n",
              "      <td>45M</td>\n",
              "      <td>Make and share this Spicy Hash Browns - Homema...</td>\n",
              "      <td>[https://img.sndimg.com/food/image/upload/w_55...</td>\n",
              "      <td>[Potato, Vegetable, Low Protein, Vegan, Low Ch...</td>\n",
              "      <td>...</td>\n",
              "      <td>247.7</td>\n",
              "      <td>41.3</td>\n",
              "      <td>4.0</td>\n",
              "      <td>1.9</td>\n",
              "      <td>3.9</td>\n",
              "      <td>5.0</td>\n",
              "      <td>Preheat oven to 400 degrees Fahrenheit. Combin...</td>\n",
              "      <td>49</td>\n",
              "      <td>Breakfast</td>\n",
              "      <td>4.851470</td>\n",
              "    </tr>\n",
              "  </tbody>\n",
              "</table>\n",
              "<p>5 rows × 28 columns</p>\n",
              "</div>\n",
              "      <button class=\"colab-df-convert\" onclick=\"convertToInteractive('df-5602d620-d17d-46b4-8581-7298e8e0d1c9')\"\n",
              "              title=\"Convert this dataframe to an interactive table.\"\n",
              "              style=\"display:none;\">\n",
              "        \n",
              "  <svg xmlns=\"http://www.w3.org/2000/svg\" height=\"24px\"viewBox=\"0 0 24 24\"\n",
              "       width=\"24px\">\n",
              "    <path d=\"M0 0h24v24H0V0z\" fill=\"none\"/>\n",
              "    <path d=\"M18.56 5.44l.94 2.06.94-2.06 2.06-.94-2.06-.94-.94-2.06-.94 2.06-2.06.94zm-11 1L8.5 8.5l.94-2.06 2.06-.94-2.06-.94L8.5 2.5l-.94 2.06-2.06.94zm10 10l.94 2.06.94-2.06 2.06-.94-2.06-.94-.94-2.06-.94 2.06-2.06.94z\"/><path d=\"M17.41 7.96l-1.37-1.37c-.4-.4-.92-.59-1.43-.59-.52 0-1.04.2-1.43.59L10.3 9.45l-7.72 7.72c-.78.78-.78 2.05 0 2.83L4 21.41c.39.39.9.59 1.41.59.51 0 1.02-.2 1.41-.59l7.78-7.78 2.81-2.81c.8-.78.8-2.07 0-2.86zM5.41 20L4 18.59l7.72-7.72 1.47 1.35L5.41 20z\"/>\n",
              "  </svg>\n",
              "      </button>\n",
              "      \n",
              "  <style>\n",
              "    .colab-df-container {\n",
              "      display:flex;\n",
              "      flex-wrap:wrap;\n",
              "      gap: 12px;\n",
              "    }\n",
              "\n",
              "    .colab-df-convert {\n",
              "      background-color: #E8F0FE;\n",
              "      border: none;\n",
              "      border-radius: 50%;\n",
              "      cursor: pointer;\n",
              "      display: none;\n",
              "      fill: #1967D2;\n",
              "      height: 32px;\n",
              "      padding: 0 0 0 0;\n",
              "      width: 32px;\n",
              "    }\n",
              "\n",
              "    .colab-df-convert:hover {\n",
              "      background-color: #E2EBFA;\n",
              "      box-shadow: 0px 1px 2px rgba(60, 64, 67, 0.3), 0px 1px 3px 1px rgba(60, 64, 67, 0.15);\n",
              "      fill: #174EA6;\n",
              "    }\n",
              "\n",
              "    [theme=dark] .colab-df-convert {\n",
              "      background-color: #3B4455;\n",
              "      fill: #D2E3FC;\n",
              "    }\n",
              "\n",
              "    [theme=dark] .colab-df-convert:hover {\n",
              "      background-color: #434B5C;\n",
              "      box-shadow: 0px 1px 3px 1px rgba(0, 0, 0, 0.15);\n",
              "      filter: drop-shadow(0px 1px 2px rgba(0, 0, 0, 0.3));\n",
              "      fill: #FFFFFF;\n",
              "    }\n",
              "  </style>\n",
              "\n",
              "      <script>\n",
              "        const buttonEl =\n",
              "          document.querySelector('#df-5602d620-d17d-46b4-8581-7298e8e0d1c9 button.colab-df-convert');\n",
              "        buttonEl.style.display =\n",
              "          google.colab.kernel.accessAllowed ? 'block' : 'none';\n",
              "\n",
              "        async function convertToInteractive(key) {\n",
              "          const element = document.querySelector('#df-5602d620-d17d-46b4-8581-7298e8e0d1c9');\n",
              "          const dataTable =\n",
              "            await google.colab.kernel.invokeFunction('convertToInteractive',\n",
              "                                                     [key], {});\n",
              "          if (!dataTable) return;\n",
              "\n",
              "          const docLinkHtml = 'Like what you see? Visit the ' +\n",
              "            '<a target=\"_blank\" href=https://colab.research.google.com/notebooks/data_table.ipynb>data table notebook</a>'\n",
              "            + ' to learn more about interactive tables.';\n",
              "          element.innerHTML = '';\n",
              "          dataTable['output_type'] = 'display_data';\n",
              "          await google.colab.output.renderOutput(dataTable, element);\n",
              "          const docLink = document.createElement('div');\n",
              "          docLink.innerHTML = docLinkHtml;\n",
              "          element.appendChild(docLink);\n",
              "        }\n",
              "      </script>\n",
              "    </div>\n",
              "  </div>\n",
              "  "
            ]
          },
          "metadata": {},
          "execution_count": 88
        }
      ]
    },
    {
      "cell_type": "markdown",
      "source": [
        "Our category based popular recommendation model is working well. Rest categories are for you to try out! 😀"
      ],
      "metadata": {
        "id": "JN6rPl5imbNM"
      }
    },
    {
      "cell_type": "markdown",
      "source": [
        "<a id=\"*content*-model\"></a>\n",
        "# 🍵 Content based Recommender "
      ],
      "metadata": {
        "id": "t6VmUILJhpIJ"
      }
    },
    {
      "cell_type": "markdown",
      "source": [
        "The recommender we built in the previous section suffers some severe limitations. It gives the same recommendation to everyone, regardless of the user's personal taste. It is also calculating the recommendable recipes from the static dataset. It is planned to add a feature of adding one's own recipes to the dataset to make the application more interactive. \n",
        "\n",
        "To help provide personalization for our recommendations, I am going to build an engine that computes similarity between recipes based on certain metrics and suggests recipes that are most similar to a particular recipe that a user liked. Since, we will be using recipe metadata to build this engine, this also known as **Content Based Filtering.**\n",
        "\n",
        "There are two methods of recommending based on content:\n",
        "\n",
        "\n",
        "*   **Vector Space Model**\n",
        "*   Decision Tree Classification\n",
        "\n",
        "I have chosen vector space model as it is better in terms of complexity, efficiency and accuracy. \n",
        "\n",
        "\n",
        "I will build **3 Content Based Engines** based on:\n",
        "* Recipe Name, Description and Keywords\n",
        "* Recipe Ingredients, Category and Total Time(Cook & Prep)\n",
        "* Improved Recommendation Engine(considers Ratings and Reviews too)\n",
        "\n",
        "Also, I will be using a subset of all the recipes available to us due to limiting computing power available to me. Given that the original dataset it large enough, taking a chunk of it (9000 recipes) is also a good amount of data to suggest. "
      ],
      "metadata": {
        "id": "GYOV7gol52pX"
      }
    },
    {
      "cell_type": "markdown",
      "source": [
        "### ☕ Recipe Name, Description and Keywords Based Recommender"
      ],
      "metadata": {
        "id": "axzN1uyFrpnX"
      }
    },
    {
      "cell_type": "markdown",
      "source": [
        "For our dataset to have non-empty/non NaN values for the decription and keywords, we check each column(Name, RecipeId, Description, and Keywords)  and drop rows where the data is empty"
      ],
      "metadata": {
        "id": "74LMU49ht2K-"
      }
    },
    {
      "cell_type": "code",
      "source": [
        "# Using the same dataset as used for calculating popular recipes and dropping out unavailable values\n",
        "descriptionDataset = weightedPopularRecipes\n",
        "descriptionDataset.dropna(subset=['Name', 'RecipeId', 'Description', 'Keywords' ], inplace=True)\n",
        "descriptionBasedRecommender = descriptionDataset.iloc[:9000]"
      ],
      "metadata": {
        "id": "vnFrCcvHSqG7"
      },
      "execution_count": 91,
      "outputs": []
    },
    {
      "cell_type": "markdown",
      "source": [
        "Due to limited computing power, taking 5% of the recipes data in the compressedRecipes dataset as recipes is huge and clutters the memory, hindering the functioning of cosine similarity function. \n",
        "\n",
        "\n"
      ],
      "metadata": {
        "id": "6ItGibClvLng"
      }
    },
    {
      "cell_type": "code",
      "source": [
        "descriptionBasedRecommender.Description[0]"
      ],
      "metadata": {
        "colab": {
          "base_uri": "https://localhost:8080/",
          "height": 36
        },
        "id": "6uSzKTjUUGuv",
        "outputId": "33fab725-fe15-4dbd-9540-f438e2bb8687"
      },
      "execution_count": 92,
      "outputs": [
        {
          "output_type": "execute_result",
          "data": {
            "text/plain": [
              "'Make and share this Low-Fat Berry Blue Frozen Dessert recipe from Food.com.'"
            ],
            "application/vnd.google.colaboratory.intrinsic+json": {
              "type": "string"
            }
          },
          "metadata": {},
          "execution_count": 92
        }
      ]
    },
    {
      "cell_type": "code",
      "source": [
        "# Making sure that the Null values in Description become empty \n",
        "descriptionBasedRecommender['Description'] = descriptionBasedRecommender['Description'].fillna('')"
      ],
      "metadata": {
        "id": "rt8CvBLQwTZb"
      },
      "execution_count": 93,
      "outputs": []
    },
    {
      "cell_type": "code",
      "source": [
        "descriptionBasedRecommender.Keywords[0]"
      ],
      "metadata": {
        "colab": {
          "base_uri": "https://localhost:8080/"
        },
        "id": "afgVAWIJw3Q6",
        "outputId": "dddfb9d6-05dd-4569-8920-10aadfcdf262"
      },
      "execution_count": 94,
      "outputs": [
        {
          "output_type": "execute_result",
          "data": {
            "text/plain": [
              "['Dessert',\n",
              " 'Low Protein',\n",
              " 'Low Cholesterol',\n",
              " 'Healthy',\n",
              " 'Free Of...',\n",
              " 'Summer',\n",
              " 'Weeknight',\n",
              " 'Freezer',\n",
              " 'Easy']"
            ]
          },
          "metadata": {},
          "execution_count": 94
        }
      ]
    },
    {
      "cell_type": "code",
      "source": [
        "# To convert list items of Keywords column to string, this is the function\n",
        "def listToString(column):   \n",
        "  strr = \" \"  \n",
        "  strr = strr.join(column)\n",
        "  strr = \" \" + strr\n",
        "  strr = strr + \" \"\n",
        "  return strr"
      ],
      "metadata": {
        "id": "uJcBLSdKxeaP"
      },
      "execution_count": 95,
      "outputs": []
    },
    {
      "cell_type": "code",
      "source": [
        "descriptionBasedRecommender.Keywords.apply(listToString)"
      ],
      "metadata": {
        "colab": {
          "base_uri": "https://localhost:8080/"
        },
        "id": "ZCuN210xEbev",
        "outputId": "afefd24a-fac6-404f-d214-841b6b6d37d4"
      },
      "execution_count": 96,
      "outputs": [
        {
          "output_type": "execute_result",
          "data": {
            "text/plain": [
              "0        Dessert Low Protein Low Cholesterol Healthy F...\n",
              "1        Chicken Thigh & Leg Chicken Poultry Meat Asia...\n",
              "2        Low Protein Low Cholesterol Healthy Summer < ...\n",
              "3        Beans Vegetable Low Cholesterol Weeknight Bro...\n",
              "4        Low Protein Vegan Low Cholesterol Healthy Win...\n",
              "                              ...                        \n",
              "6657     Chicken Breast Chicken Poultry Meat Weeknight...\n",
              "6658     White Rice Poultry Rice Black Beans Beans Veg...\n",
              "6659                    Thanksgiving < 60 Mins Oven Easy \n",
              "6660     Strawberry Berries Fruit Kid Friendly Weeknig...\n",
              "6661     Potato Vegetable Kid Friendly Spring Winter <...\n",
              "Name: Keywords, Length: 6659, dtype: object"
            ]
          },
          "metadata": {},
          "execution_count": 96
        }
      ]
    },
    {
      "cell_type": "code",
      "source": [
        "descriptionBasedRecommender.Keywords = descriptionBasedRecommender.Keywords.apply(listToString)"
      ],
      "metadata": {
        "id": "s5Shm2DTGBVM"
      },
      "execution_count": 97,
      "outputs": []
    },
    {
      "cell_type": "code",
      "source": [
        "# Merging the description column with all the words from name, description and keywords column to create a an overall description tag\n",
        "descriptionBasedRecommender['Description'] = descriptionBasedRecommender['Description'] + descriptionBasedRecommender['Keywords']\n",
        "descriptionBasedRecommender['Description'] = descriptionBasedRecommender['Description'] + descriptionBasedRecommender['Name']"
      ],
      "metadata": {
        "id": "YiKGc_3nw7Xr"
      },
      "execution_count": 99,
      "outputs": []
    },
    {
      "cell_type": "markdown",
      "source": [
        "Now that we have the data dump in the description column, we will use the **Cosine Similarity** method to find the similarity between different vectors created by using the **TfidfVectorizer** and **CountVectorizer** library.\n",
        "\n",
        "*   Term frequency-inverse document frequency is a text vectorizer that\n",
        "transforms the text into a usable vector\n",
        "\n",
        "*   Countvectorizer is a method to convert text to numerical data. It gives equal weightage to all words.\n",
        "\n",
        "\n",
        "TfidfVectorizer and CountVectorizer both are methods for converting text data into vectors as model can process only numerical data.\n",
        "\n",
        "In CountVectorizer we only count the number of times a word appears in the document which results in biasing in favour of most frequent words. this ends up in ignoring rare words which could have helped is in processing our data more efficiently.\n",
        "\n",
        "To overcome this , we use TfidfVectorizer .\n",
        "\n",
        "In TfidfVectorizer we consider overall document weightage of a word. It helps us in dealing with most frequent words. Using it we can penalize them. TfidfVectorizer weights the word counts by a measure of how often they appear in the documents.\n",
        "\n",
        "\n"
      ],
      "metadata": {
        "id": "6A0GMNfwHMln"
      }
    },
    {
      "cell_type": "code",
      "source": [
        "from sklearn.feature_extraction.text import TfidfVectorizer, CountVectorizer   "
      ],
      "metadata": {
        "id": "-pBjBWV2xsKJ"
      },
      "execution_count": 100,
      "outputs": []
    },
    {
      "cell_type": "markdown",
      "source": [
        "*   Tfidf vectorizer converts a collection of raw documents to a matrix of TF-IDF features.\n",
        "*   analyzer takes in input based on whether the feature should be made of word or character n-grams.\n",
        "*   ngram_range - The lower and upper boundary of the range of n-values for different n-grams to be extracted. \n",
        "*   All values of n such that min_n <= n <= max_n will be used. "
      ],
      "metadata": {
        "id": "DGTW8tndhxI4"
      }
    },
    {
      "cell_type": "code",
      "source": [
        "termFrequency = TfidfVectorizer(analyzer='word',ngram_range=(1, 2),min_df=0, stop_words='english')"
      ],
      "metadata": {
        "id": "eg-dFbzlyDlU"
      },
      "execution_count": 101,
      "outputs": []
    },
    {
      "cell_type": "code",
      "source": [
        "tfidfMatrix = termFrequency.fit_transform(descriptionBasedRecommender['Description'])"
      ],
      "metadata": {
        "id": "LSuK2Y8WyvnA"
      },
      "execution_count": 102,
      "outputs": []
    },
    {
      "cell_type": "markdown",
      "source": [
        "We have now vectorized the descriptions column. Now, we need to find the similarity between these vectorized words. One way of doing it is by using cosine similarity. "
      ],
      "metadata": {
        "id": "0Qtcn5dKiArN"
      }
    },
    {
      "cell_type": "markdown",
      "source": [
        "#### Cosine Similarity\n",
        "\n",
        "We will use the Cosine Similarity to calculate a numeric quantity that denotes the similarity between two recipes. Mathematically, it is defined as follows:\n",
        "\n",
        "$cosine(x,y) = \\frac{x. y^\\intercal}{||x||.||y||} $\n",
        "\n",
        "Since we have used the TF-IDF Vectorizer, calculating the Dot Product will directly give us the Cosine Similarity Score. Therefore, we will use sklearn's **linear_kernel** instead of cosine_similarities since it is much faster."
      ],
      "metadata": {
        "id": "lh7DjyMA0XPR"
      }
    },
    {
      "cell_type": "code",
      "source": [
        "from sklearn.metrics.pairwise import linear_kernel, cosine_similarity"
      ],
      "metadata": {
        "id": "73Eb4eJk0eOa"
      },
      "execution_count": 103,
      "outputs": []
    },
    {
      "cell_type": "code",
      "source": [
        "cosineSimilarity = linear_kernel(tfidfMatrix, tfidfMatrix)"
      ],
      "metadata": {
        "id": "xkRZwLoq2Fm1"
      },
      "execution_count": 104,
      "outputs": []
    },
    {
      "cell_type": "code",
      "source": [
        "cosineSimilarity[0]"
      ],
      "metadata": {
        "colab": {
          "base_uri": "https://localhost:8080/"
        },
        "id": "DYeki9iroMOc",
        "outputId": "97d8d97b-4067-4b95-af22-644ad7967e33"
      },
      "execution_count": 105,
      "outputs": [
        {
          "output_type": "execute_result",
          "data": {
            "text/plain": [
              "array([1.        , 0.01154659, 0.09171263, ..., 0.00484167, 0.05973146,\n",
              "       0.00356689])"
            ]
          },
          "metadata": {},
          "execution_count": 105
        }
      ]
    },
    {
      "cell_type": "markdown",
      "source": [
        "We now have a pairwise cosine similarity matrix for all the recipes in our dataset. The next step is to write a function that returns the 30 most similar recipes based on the cosine similarity score.\n"
      ],
      "metadata": {
        "id": "zCNXHXyd0yiT"
      }
    },
    {
      "cell_type": "code",
      "source": [
        "descriptionBasedRecommender = descriptionBasedRecommender.reset_index()\n",
        "names = descriptionBasedRecommender['Name'] \n",
        "indices = pd.Series(descriptionBasedRecommender.index, index=descriptionBasedRecommender['Name'])"
      ],
      "metadata": {
        "id": "EysP0SxM01Uq"
      },
      "execution_count": 106,
      "outputs": []
    },
    {
      "cell_type": "code",
      "source": [
        "# This is important to keep a note of as there can be many recipes with the same name in the dataset.\n",
        "descriptionBasedRecommender.Name.value_counts()"
      ],
      "metadata": {
        "colab": {
          "base_uri": "https://localhost:8080/"
        },
        "id": "_XlYxcF9HcPL",
        "outputId": "cc0e8a87-0eab-4f7e-88a5-503de133373d"
      },
      "execution_count": 107,
      "outputs": [
        {
          "output_type": "execute_result",
          "data": {
            "text/plain": [
              "Shepherd's Pie        5\n",
              "Banana Bread          4\n",
              "Bran Muffins          4\n",
              "Bread Pudding         4\n",
              "Spanakopita           3\n",
              "                     ..\n",
              "Pork Cutlets          1\n",
              "San Fernando Beans    1\n",
              "Steak Tartare         1\n",
              "Corn Ball Fritters    1\n",
              "Hearty Potato Soup    1\n",
              "Name: Name, Length: 6458, dtype: int64"
            ]
          },
          "metadata": {},
          "execution_count": 107
        }
      ]
    },
    {
      "cell_type": "code",
      "source": [
        "def getRecommendations(title):\n",
        "    idx = indices[title]\n",
        "\n",
        "    # enumerating the array object given by cosin_sim and then storing the enumerated object as a list\n",
        "    # index is index and then value is the cosine similarity score\n",
        "    similarityScores = list(enumerate(cosineSimilarity[idx]))\n",
        "\n",
        "    # sorting the list with key as cosine similarity in descending order\n",
        "    similarityScores = sorted(similarityScores, key=lambda x: x[1], reverse=True)\n",
        "    similarityScores = similarityScores[1:31]\n",
        "    recipeIndices = [i[0] for i in similarityScores]\n",
        "    return names.iloc[recipeIndices]"
      ],
      "metadata": {
        "id": "lJVaB6lbi-LS"
      },
      "execution_count": 109,
      "outputs": []
    },
    {
      "cell_type": "code",
      "source": [
        "getRecommendations('Biryani').head(10)"
      ],
      "metadata": {
        "colab": {
          "base_uri": "https://localhost:8080/"
        },
        "id": "cMoLGXUNjgsf",
        "outputId": "9ab01047-a780-4064-b0db-3d395e111f4d"
      },
      "execution_count": 110,
      "outputs": [
        {
          "output_type": "execute_result",
          "data": {
            "text/plain": [
              "3429              Chicken Scaloppine\n",
              "947        Teriyaki Chicken W/pecans\n",
              "1359        Slow Cooker Chicken Stew\n",
              "4537                  Butter Chicken\n",
              "4270    Easiest Black Pepper Chicken\n",
              "4315                  Butter Chicken\n",
              "452          Curried Chicken Muffins\n",
              "3875              Chicken Biryani II\n",
              "6327                      Rogan Josh\n",
              "939              Sweet Chicken Curry\n",
              "Name: Name, dtype: object"
            ]
          },
          "metadata": {},
          "execution_count": 110
        }
      ]
    },
    {
      "cell_type": "code",
      "source": [
        "getRecommendations('Best Lemonade').head(10)"
      ],
      "metadata": {
        "id": "-eomPZtR17gW",
        "colab": {
          "base_uri": "https://localhost:8080/"
        },
        "outputId": "7f39056a-9ed0-4a46-a9e4-a115f14a44c9"
      },
      "execution_count": 111,
      "outputs": [
        {
          "output_type": "execute_result",
          "data": {
            "text/plain": [
              "303     Summer Corn and Tomato Pasta\n",
              "3150           Stuffed Summer Squash\n",
              "4199                    Black Velvet\n",
              "889                 Stuffed Zucchini\n",
              "4198                        Cape Cod\n",
              "4973                      Lemon Zest\n",
              "1637              Summer Squash Soup\n",
              "938              Summer Citrus Punch\n",
              "4204                       Big Apple\n",
              "332                         Lemonade\n",
              "Name: Name, dtype: object"
            ]
          },
          "metadata": {},
          "execution_count": 111
        }
      ]
    },
    {
      "cell_type": "code",
      "source": [
        "getRecommendations('Low-Fat Berry Blue Frozen Dessert').head(10)"
      ],
      "metadata": {
        "colab": {
          "base_uri": "https://localhost:8080/"
        },
        "id": "ALfnkwo2A_nU",
        "outputId": "cf97ce4c-df2b-4980-b825-aa5f807bf335"
      },
      "execution_count": 112,
      "outputs": [
        {
          "output_type": "execute_result",
          "data": {
            "text/plain": [
              "2967              Frozen Lemon Souffle\n",
              "1967       Low-Fat Berry Good Smoothie\n",
              "276                  Frozen Cappuccino\n",
              "593      Squash & Golden Onion Risotto\n",
              "5792          Frozen Yogurt-On-A-Stick\n",
              "2479     Diabetic, Low-Fat Pumpkin Pie\n",
              "4519          Frozen Peanut Butter Pie\n",
              "3911    Hazel's Frozen Strawberry Cake\n",
              "289                       Tomato Salad\n",
              "1661       Whole-Berry Cranberry Sauce\n",
              "Name: Name, dtype: object"
            ]
          },
          "metadata": {},
          "execution_count": 112
        }
      ]
    },
    {
      "cell_type": "code",
      "source": [
        "# getRecommendations('Banana Bread').head(10)"
      ],
      "metadata": {
        "id": "pw1S_YcJUtJn"
      },
      "execution_count": 114,
      "outputs": []
    },
    {
      "cell_type": "markdown",
      "source": [
        "There is one problem with this function. It does properly recommend for the values where the dataset has only one instance of that recipe, but\n",
        "it won't work for recipes which have multiple instances in the dataset.\n",
        "For example, if we run this for \"**Banana Bread**\", it would result in an error as the index value which it finds for it from the indices dataframe is not unique, it's a list and hence, gets the error. \n",
        "\n",
        "ValueError: The truth value of an array with more than one element is ambiguous.\n",
        "\n",
        "💡 - **Solution** to this could be to fetch the indices of all the occurences of the given recipe name in a list and iterate over it to calculate the similarity score. And as when the recipe name is same, they would have the most similarity,(which is even visible in the generated recommendations of the recipe with 1st index), we can safely return that list after everything has been calculated."
      ],
      "metadata": {
        "id": "ZFCnel08rhCk"
      }
    },
    {
      "cell_type": "code",
      "source": [
        "from collections.abc import Iterable"
      ],
      "metadata": {
        "id": "wpPveqfp1emf"
      },
      "execution_count": 115,
      "outputs": []
    },
    {
      "cell_type": "code",
      "source": [
        "def getDescriptionBasedRecommendations(title):\n",
        "    idx = indices[title]\n",
        "    if isinstance(idx, Iterable):\n",
        "      # looping through the idx list in case of a recipe name with more than one instance\n",
        "      for i in idx:  \n",
        "        \n",
        "        # enumerating the array object given by cosin_sim and then storing the enumerated object as a list\n",
        "        # index is index and then value is the cosine similarity score\n",
        "        similarityScores = list(enumerate(cosineSimilarity[i]))\n",
        "\n",
        "        # sorting the list with key as cosine similarity in descending order\n",
        "        similarityScores = sorted(similarityScores, key=lambda x: x[1], reverse=True)\n",
        "\n",
        "        # selecting the top 30 scorers\n",
        "        similarityScores = similarityScores[1:31]\n",
        "\n",
        "        recipeIndices = [i[0] for i in similarityScores]\n",
        "\n",
        "        # returning just the list of the 1st in idx list as this would pretty much include all similar ones \n",
        "        return names.iloc[recipeIndices] \n",
        "    else:\n",
        "      # enumerating the array object given by cosin_sim and then storing the enumerated object as a list\n",
        "      # index is index and then value is the cosine similarity score\n",
        "      similarityScores = list(enumerate(cosineSimilarity[idx]))\n",
        "\n",
        "      # sorting the list with key as cosine similarity in descending order\n",
        "      similarityScores = sorted(similarityScores, key=lambda x: x[1], reverse=True)\n",
        "      similarityScores = similarityScores[1:31]\n",
        "      recipeIndices = [i[0] for i in similarityScores]\n",
        "      return names.iloc[recipeIndices]"
      ],
      "metadata": {
        "id": "d-IeC0aQyL6_"
      },
      "execution_count": 116,
      "outputs": []
    },
    {
      "cell_type": "code",
      "source": [
        "getDescriptionBasedRecommendations('Banana Bread').head(10)"
      ],
      "metadata": {
        "colab": {
          "base_uri": "https://localhost:8080/"
        },
        "id": "Gb-KmLug0SBS",
        "outputId": "5ccb16d8-6be3-46bf-f4af-334b29350a4e"
      },
      "execution_count": 117,
      "outputs": [
        {
          "output_type": "execute_result",
          "data": {
            "text/plain": [
              "846                            Pear Bread\n",
              "4596                         Banana Bread\n",
              "4594              Sour Cream Banana Bread\n",
              "5177                       Zucchini Bread\n",
              "2191                Blueberry Lemon Bread\n",
              "5351      Buttermilk Biscuit Monkey Bread\n",
              "5216    Linda's Famous Applesauce Muffins\n",
              "4950        Chocolate Chip Banana Muffins\n",
              "6270                     Amaretto Muffins\n",
              "1109                    Best Banana Bread\n",
              "Name: Name, dtype: object"
            ]
          },
          "metadata": {},
          "execution_count": 117
        }
      ]
    },
    {
      "cell_type": "markdown",
      "source": [
        "We're all set ✌. Let us now try and get the top recommendations for a few recipes and see how good the recommendations are."
      ],
      "metadata": {
        "id": "KC1FY4G611u_"
      }
    },
    {
      "cell_type": "code",
      "source": [
        "getDescriptionBasedRecommendations('Sweet Potato Casserole').head(10)"
      ],
      "metadata": {
        "colab": {
          "base_uri": "https://localhost:8080/"
        },
        "id": "4EUKTn9anD3d",
        "outputId": "11477485-56be-4781-aeff-3a1b34ba6f00"
      },
      "execution_count": 118,
      "outputs": [
        {
          "output_type": "execute_result",
          "data": {
            "text/plain": [
              "5977                      Potato Casserole\n",
              "2004             Sweet Potato Casserole II\n",
              "6229                Sweet Potato Casserole\n",
              "2513                 Easy Potato Casserole\n",
              "837           Twice Baked Potato Casserole\n",
              "3937      Grandma's Sweet Potato Casserole\n",
              "1997                   Sweet Potato Crunch\n",
              "6481                Sweet Potato Casserole\n",
              "1992    Sweet Potato and Apricot Casserole\n",
              "2233            Sweet Potato Casserole III\n",
              "Name: Name, dtype: object"
            ]
          },
          "metadata": {},
          "execution_count": 118
        }
      ]
    },
    {
      "cell_type": "markdown",
      "source": [
        "This is recommending recipes based on the description dump that we created, which contains Recipe Name, Description and Keywords. Let us build another engine to recommend based on the recipe ingredients, category and the time it takes to prepare. "
      ],
      "metadata": {
        "id": "NNGP93Jv2Fw6"
      }
    },
    {
      "cell_type": "markdown",
      "source": [
        "### ⏰ Metadata Based Recommender\n",
        "\n",
        "For this engine, we would again use Count Vectorizer to create the count matrix as we did in the Description Recommender. We use the vector space method to create a metadata dump, then calculate cosine similarities and return recipes that are most similar to a given recipe.\n",
        "\n",
        "To build our standard metadata based content recommender, we will need to prepare our dataset. Let us prepare this data as our first step. We need RecipeIngredients, RecipeCategory and TotalTime(Cook & Prep) columns from our original dataset. "
      ],
      "metadata": {
        "id": "SsXe6iWS2JMC"
      }
    },
    {
      "cell_type": "markdown",
      "source": [
        "As we had the similar sized dataset for the description based recommender too, we can take that size here too. "
      ],
      "metadata": {
        "id": "LoLOWzFfFMB0"
      }
    },
    {
      "cell_type": "code",
      "source": [
        "# Metadata based recommender model\n",
        "metadataBasedRecommender = descriptionBasedRecommender"
      ],
      "metadata": {
        "id": "iIA7kxyTFTcY"
      },
      "execution_count": 120,
      "outputs": []
    },
    {
      "cell_type": "code",
      "source": [
        "metadataBasedRecommender['Metadata'] = metadataBasedRecommender['RecipeCategory']"
      ],
      "metadata": {
        "id": "2KNKO5GIF2T6"
      },
      "execution_count": 121,
      "outputs": []
    },
    {
      "cell_type": "code",
      "source": [
        "# Making sure that the Null values in Metadata become empty \n",
        "metadataBasedRecommender['Metadata'] = metadataBasedRecommender['Metadata'].fillna('')"
      ],
      "metadata": {
        "id": "uHcorTeQGf-L"
      },
      "execution_count": 122,
      "outputs": []
    },
    {
      "cell_type": "markdown",
      "source": [
        "We need to convert RecipeIngredients to string as done in last engine. Reusing that function here "
      ],
      "metadata": {
        "id": "_PfAzMWGGG-2"
      }
    },
    {
      "cell_type": "code",
      "source": [
        "metadataBasedRecommender.RecipeIngredientParts = metadataBasedRecommender.RecipeIngredientParts.apply(listToString)"
      ],
      "metadata": {
        "id": "adb_t4BCGOIi"
      },
      "execution_count": 123,
      "outputs": []
    },
    {
      "cell_type": "code",
      "source": [
        "metadataBasedRecommender['Metadata'] = metadataBasedRecommender['Metadata'] + metadataBasedRecommender['RecipeIngredientParts']"
      ],
      "metadata": {
        "id": "GYE3Zv1AG6Cj"
      },
      "execution_count": 124,
      "outputs": []
    },
    {
      "cell_type": "code",
      "source": [
        "metadataBasedRecommender.TotalTime[0]"
      ],
      "metadata": {
        "colab": {
          "base_uri": "https://localhost:8080/",
          "height": 36
        },
        "id": "XxPvgh-zWebC",
        "outputId": "4f4c6681-a69e-421d-c4d3-b143ff8f8677"
      },
      "execution_count": 126,
      "outputs": [
        {
          "output_type": "execute_result",
          "data": {
            "text/plain": [
              "'24H45M'"
            ],
            "application/vnd.google.colaboratory.intrinsic+json": {
              "type": "string"
            }
          },
          "metadata": {},
          "execution_count": 126
        }
      ]
    },
    {
      "cell_type": "code",
      "source": [
        "metadataBasedRecommender['Metadata'] = metadataBasedRecommender['Metadata'] + metadataBasedRecommender['TotalTime']\n",
        "metadataBasedRecommender['Metadata'] = metadataBasedRecommender['Metadata'].fillna('')"
      ],
      "metadata": {
        "id": "HBknYCRdWk9t"
      },
      "execution_count": 129,
      "outputs": []
    },
    {
      "cell_type": "code",
      "source": [
        "metadataBasedRecommender.columns"
      ],
      "metadata": {
        "colab": {
          "base_uri": "https://localhost:8080/"
        },
        "id": "ZE9YM5qQRkq6",
        "outputId": "34e44efb-2fe5-42c8-8269-e5d9af5f046d"
      },
      "execution_count": 130,
      "outputs": [
        {
          "output_type": "execute_result",
          "data": {
            "text/plain": [
              "Index(['index', 'RecipeId', 'Name', 'AuthorId', 'AuthorName', 'CookTime',\n",
              "       'PrepTime', 'TotalTime', 'Description', 'Images', 'RecipeCategory',\n",
              "       'Keywords', 'RecipeIngredientQuantities', 'RecipeIngredientParts',\n",
              "       'AggregatedRating', 'ReviewCount', 'Calories', 'FatContent',\n",
              "       'SaturatedFatContent', 'CholesterolContent', 'SodiumContent',\n",
              "       'CarbohydrateContent', 'FiberContent', 'SugarContent', 'ProteinContent',\n",
              "       'RecipeServings', 'RecipeInstructions', 'Rating', 'Metadata'],\n",
              "      dtype='object')"
            ]
          },
          "metadata": {},
          "execution_count": 130
        }
      ]
    },
    {
      "cell_type": "code",
      "source": [
        "metadataBasedRecommender.loc[0]['Metadata']"
      ],
      "metadata": {
        "colab": {
          "base_uri": "https://localhost:8080/",
          "height": 36
        },
        "id": "btBTGmoIT4w7",
        "outputId": "ea01df7f-533b-446b-f151-f48a018b6234"
      },
      "execution_count": 132,
      "outputs": [
        {
          "output_type": "execute_result",
          "data": {
            "text/plain": [
              "'Frozen Desserts blueberries granulated sugar vanilla yogurt lemon juice 24H45M24H45M24H45M'"
            ],
            "application/vnd.google.colaboratory.intrinsic+json": {
              "type": "string"
            }
          },
          "metadata": {},
          "execution_count": 132
        }
      ]
    },
    {
      "cell_type": "code",
      "source": [
        "metadataBasedRecommender.loc[2].Name, metadataBasedRecommender.loc[2]['Metadata']"
      ],
      "metadata": {
        "colab": {
          "base_uri": "https://localhost:8080/"
        },
        "id": "azcnU2TNJgWZ",
        "outputId": "6c4ae1a5-608b-4ab7-ab84-1ff3c834a9af"
      },
      "execution_count": 133,
      "outputs": [
        {
          "output_type": "execute_result",
          "data": {
            "text/plain": [
              "('Best Lemonade',\n",
              " 'Beverages sugar lemons, rind of lemon, zest of fresh water fresh lemon juice 35M35M35M')"
            ]
          },
          "metadata": {},
          "execution_count": 133
        }
      ]
    },
    {
      "cell_type": "markdown",
      "source": [
        "The metadata for the engine is ready now! Time for count vectorization. "
      ],
      "metadata": {
        "id": "qB1smJ5fVG97"
      }
    },
    {
      "cell_type": "code",
      "source": [
        "termFrequency2 = TfidfVectorizer(analyzer='word',ngram_range=(1, 2),min_df=0, stop_words='english')"
      ],
      "metadata": {
        "id": "WSCO9CGowufU"
      },
      "execution_count": 135,
      "outputs": []
    },
    {
      "cell_type": "code",
      "source": [
        "tfidMatrix2 = termFrequency2.fit_transform(metadataBasedRecommender['Metadata'])"
      ],
      "metadata": {
        "id": "t8Qa7s2fw0ir"
      },
      "execution_count": 136,
      "outputs": []
    },
    {
      "cell_type": "markdown",
      "source": [
        "Applying Cosine Similarity. "
      ],
      "metadata": {
        "id": "dqgrGNEjWLTw"
      }
    },
    {
      "cell_type": "code",
      "source": [
        "cosineSimilarity2 = linear_kernel(tfidMatrix2, tfidMatrix2)"
      ],
      "metadata": {
        "id": "SmkrcTrxWN1L"
      },
      "execution_count": 137,
      "outputs": []
    },
    {
      "cell_type": "code",
      "source": [
        "cosineSimilarity2[0]"
      ],
      "metadata": {
        "colab": {
          "base_uri": "https://localhost:8080/"
        },
        "id": "4_ewcAehMbAB",
        "outputId": "655a9f8b-38d4-439e-9bf6-b8cfd84d06a8"
      },
      "execution_count": 138,
      "outputs": [
        {
          "output_type": "execute_result",
          "data": {
            "text/plain": [
              "array([1.        , 0.03300618, 0.05796558, ..., 0.        , 0.        ,\n",
              "       0.        ])"
            ]
          },
          "metadata": {},
          "execution_count": 138
        }
      ]
    },
    {
      "cell_type": "markdown",
      "source": [
        "We now have a pairwise cosine similarity matrix for all the recipes metadata in our dataset. The next step is to write a function that returns the 30 most similar recipes based on the cosine similarity score.\n"
      ],
      "metadata": {
        "id": "cVig3YwAY6M6"
      }
    },
    {
      "cell_type": "code",
      "source": [
        "metadataBasedRecommender = metadataBasedRecommender.reset_index()\n",
        "names2 = metadataBasedRecommender['Name'] \n",
        "indices2 = pd.Series(metadataBasedRecommender.index, index=metadataBasedRecommender['Name'])"
      ],
      "metadata": {
        "id": "yeXOAO2EXF-f"
      },
      "execution_count": 139,
      "outputs": []
    },
    {
      "cell_type": "code",
      "source": [
        "# This is important to keep a note of as there can be many recipes with the same name in the dataset.\n",
        "metadataBasedRecommender.Name.value_counts()"
      ],
      "metadata": {
        "id": "x63URHLvY_qX",
        "colab": {
          "base_uri": "https://localhost:8080/"
        },
        "outputId": "37b39f03-b36e-45ea-d35f-12c21f43b2bc"
      },
      "execution_count": 140,
      "outputs": [
        {
          "output_type": "execute_result",
          "data": {
            "text/plain": [
              "Shepherd's Pie        5\n",
              "Banana Bread          4\n",
              "Bran Muffins          4\n",
              "Bread Pudding         4\n",
              "Spanakopita           3\n",
              "                     ..\n",
              "Pork Cutlets          1\n",
              "San Fernando Beans    1\n",
              "Steak Tartare         1\n",
              "Corn Ball Fritters    1\n",
              "Hearty Potato Soup    1\n",
              "Name: Name, Length: 6458, dtype: int64"
            ]
          },
          "metadata": {},
          "execution_count": 140
        }
      ]
    },
    {
      "cell_type": "code",
      "source": [
        "def getMetadataBasedRecommendations(title):\n",
        "    idx = indices2[title]\n",
        "    if isinstance(idx, Iterable):\n",
        "      # looping through the idx list in case of a recipe name with more than one instance\n",
        "      for i in idx:  \n",
        "        \n",
        "        # enumerating the array object given by cosin_sim and then storing the enumerated object as a list\n",
        "        # index is index and then value is the cosine similarity score\n",
        "        similarityScores = list(enumerate(cosineSimilarity2[i]))\n",
        "\n",
        "        # sorting the list with key as cosine similarity in descending order\n",
        "        similarityScores = sorted(similarityScores, key=lambda x: x[1], reverse=True)\n",
        "\n",
        "        # selecting the top 30 scorers\n",
        "        similarityScores = similarityScores[1:31]\n",
        "        recipeIndices = [i[0] for i in similarityScores]\n",
        "\n",
        "        # returning just the list of the 1st in idx list as this would pretty much include all similar ones \n",
        "        return names2.iloc[recipeIndices] \n",
        "    else:\n",
        "      # enumerating the array object given by cosin_sim and then storing the enumerated object as a list\n",
        "      # index is index and then value is the cosine similarity score\n",
        "      similarityScores = list(enumerate(cosineSimilarity2[idx]))\n",
        "\n",
        "      # sorting the list with key as cosine similarity in descending order\n",
        "      similarityScores = sorted(similarityScores, key=lambda x: x[1], reverse=True)\n",
        "      similarityScores = similarityScores[1:31]\n",
        "      recipeIndices = [i[0] for i in similarityScores]\n",
        "      return names2.iloc[recipeIndices]"
      ],
      "metadata": {
        "id": "LGPTo2mXK9Tx"
      },
      "execution_count": 141,
      "outputs": []
    },
    {
      "cell_type": "code",
      "source": [
        "getMetadataBasedRecommendations('Shepherd\\'s Pie')"
      ],
      "metadata": {
        "colab": {
          "base_uri": "https://localhost:8080/"
        },
        "id": "B5d40wiLMkUS",
        "outputId": "d9014166-bd17-495d-cafa-10b21eae46be"
      },
      "execution_count": 142,
      "outputs": [
        {
          "output_type": "execute_result",
          "data": {
            "text/plain": [
              "1971                       Leftover Potato Cakes\n",
              "1779                            Green Bean Salad\n",
              "4446            Minced Beef and Noodle Casserole\n",
              "2582                   Focaccia with Mixed Herbs\n",
              "2969                           Hamburger Soup II\n",
              "3652                     Carla's Basic Meatballs\n",
              "4502                            Highland Hot Pot\n",
              "5139                    Beef patties with onions\n",
              "5155                        Baked Sweet Potatoes\n",
              "629                                  Parsnip Pie\n",
              "3274                              Mom's Meatloaf\n",
              "4832                Ann's Old Fashioned Meatloaf\n",
              "2007                            Potato Cakes IIi\n",
              "3543                        Potato Farls (irish)\n",
              "1605                            Meatball Soup II\n",
              "5258                                   Colcannon\n",
              "2644                      Solo Cheddar Puff Cake\n",
              "2635                            Quick Beef Gravy\n",
              "3710     Caldillo (New Mexican Green Chile Stew)\n",
              "502                                Tortilla Beef\n",
              "3547                             Ranch Beef Stew\n",
              "5426                    Sweet and Sour Meatballs\n",
              "2630          Kluskies (Polish Potato Dumplings)\n",
              "3238                Sam Arnold's Cross Rib Roast\n",
              "6336                         Hillbilly Bean Soup\n",
              "2376                           Smothered Chicken\n",
              "6278                              Scalloped Corn\n",
              "5092                         Hasselback Potatoes\n",
              "4775    Chinese Style Stuffed Green Bell Peppers\n",
              "3838              West African Meat Pies/Patties\n",
              "Name: Name, dtype: object"
            ]
          },
          "metadata": {},
          "execution_count": 142
        }
      ]
    },
    {
      "cell_type": "markdown",
      "source": [
        "## ⭐ Hybrid Recommendation based Model\n",
        "\n",
        "This would be a hybrid model that is an improved version of just the content based models that we have previously built.\n",
        "We can take into account the ratings and popularity of a recipe along with the content that is being recommended to our users. \n",
        "\n",
        "**Hybrid = Content + Collaborative**!\n",
        "\n",
        "It takes the collaborative approach in mind in a way that how a recipe is being percieved by other users. Based on their ratings and the content, we would then generate our final recommendations based on these factors. Hence, leading to a hybrid recommendation model.\n"
      ],
      "metadata": {
        "id": "_HnktXj3NU2g"
      }
    },
    {
      "cell_type": "markdown",
      "source": [
        "Now after building models based on description and metadata, we can see that the accuracy of metadata model is better than the description one, as there it provides recipes with similar names in most cases, and hence, users might not like that. \n",
        "\n",
        "The metadata based model works better. To make it further complex, we need to inculcate the ratings given by the users to recipes and then sort them in order to recommend to our users. "
      ],
      "metadata": {
        "id": "BqRDYRPCdaPd"
      }
    },
    {
      "cell_type": "code",
      "source": [
        "contentBasedRecommender = metadataBasedRecommender"
      ],
      "metadata": {
        "id": "F_rMf892bVIk"
      },
      "execution_count": 143,
      "outputs": []
    },
    {
      "cell_type": "code",
      "source": [
        "def improvedContentBasedRecommendations(title):\n",
        "    idx = indices2[title]\n",
        "    \n",
        "    if isinstance(idx, Iterable):\n",
        "      recipeDump = pd.DataFrame()\n",
        "      # looping through the idx list in case of a recipe name with more than one instance\n",
        "      for i in idx:\n",
        "        cnt = 0\n",
        "        # enumerating the array object given by cosineSimilarity2 and then storing the enumerated object as a list\n",
        "        # index is index and then value is the cosine similarity score\n",
        "        similarityScores = list(enumerate(cosineSimilarity2[i])) \n",
        "        # sorting the list with key as cosine similarity in descending order\n",
        "        similarityScores = sorted(similarityScores, key=lambda x: x[1], reverse=True)\n",
        "        # selecting the top 25 scorers\n",
        "        similarityScores = similarityScores[1:26]\n",
        "        recipeIndices = [i[0] for i in similarityScores]\n",
        "\n",
        "        contentBasedRecommendedRecipes = contentBasedRecommender.iloc[recipeIndices][['RecipeId', 'Name', 'Rating', 'AggregatedRating']]\n",
        "        ratingCounts = contentBasedRecommendedRecipes[contentBasedRecommendedRecipes['Rating'].notnull()]['Rating'].astype('int')\n",
        "        ratingAverages = contentBasedRecommendedRecipes[contentBasedRecommendedRecipes['AggregatedRating'].notnull()]['AggregatedRating'].astype('int')\n",
        "        C = ratingAverages.mean()\n",
        "        m = ratingCounts.quantile(0.60)\n",
        "        qualifiedRecipes2 = contentBasedRecommendedRecipes[(contentBasedRecommendedRecipes['Rating'] >= m) & (contentBasedRecommendedRecipes['Rating'].notnull()) & (contentBasedRecommendedRecipes['AggregatedRating'].notnull())]\n",
        "        qualifiedRecipes2['Rating'] = qualifiedRecipes2['Rating'].astype('int')\n",
        "        qualifiedRecipes2['AggregatedRating'] = qualifiedRecipes2['AggregatedRating'].astype('int')\n",
        "        qualifiedRecipes2['wr'] = qualifiedRecipes2.apply(weightedRating, axis=1)\n",
        "        qualifiedRecipes2 = qualifiedRecipes2.sort_values('wr', ascending=False).head(10)\n",
        "        if cnt == 0:\n",
        "          recipeDump = qualifiedRecipes2\n",
        "        else:\n",
        "          recipeDump.append(qualifiedRecipes2, ignore_index=True)\n",
        "        cnt+=1\n",
        "      recipeDump  = recipeDump.sort_values('wr', ascending=False).head(10)\n",
        "      return recipeDump\n",
        "\n",
        "    else:\n",
        "      similarityScores = list(enumerate(cosineSimilarity2[idx])) \n",
        "      similarityScores = sorted(similarityScores, key=lambda x: x[1], reverse=True)\n",
        "      similarityScores = similarityScores[1:26]\n",
        "      recipeIndices = [i[0] for i in similarityScores]\n",
        "      \n",
        "      contentBasedRecommendedRecipes = contentBasedRecommender.iloc[recipeIndices][['RecipeId', 'Name', 'Rating', 'AggregatedRating']]\n",
        "      ratingCounts = contentBasedRecommendedRecipes[contentBasedRecommendedRecipes['Rating'].notnull()]['Rating'].astype('int')\n",
        "      ratingAverages = contentBasedRecommendedRecipes[contentBasedRecommendedRecipes['AggregatedRating'].notnull()]['AggregatedRating'].astype('int')\n",
        "      C = ratingAverages.mean()\n",
        "      m = ratingCounts.quantile(0.60)\n",
        "      qualifiedRecipes2 = contentBasedRecommendedRecipes[(contentBasedRecommendedRecipes['Rating'] >= m) & (contentBasedRecommendedRecipes['Rating'].notnull()) & (contentBasedRecommendedRecipes['AggregatedRating'].notnull())]\n",
        "      qualifiedRecipes2['Rating'] = qualifiedRecipes2['Rating'].astype('int')\n",
        "      qualifiedRecipes2['AggregatedRating'] = qualifiedRecipes2['AggregatedRating'].astype('int')\n",
        "      qualifiedRecipes2['wr'] = qualifiedRecipes2.apply(weightedRating, axis=1)\n",
        "      qualifiedRecipes2 = qualifiedRecipes2.sort_values('wr', ascending=False).head(10)\n",
        "      return qualifiedRecipes2\n"
      ],
      "metadata": {
        "id": "ogIiz7xlNdI5"
      },
      "execution_count": 144,
      "outputs": []
    },
    {
      "cell_type": "code",
      "source": [
        "improvedContentBasedRecommendations('Banana Bread')"
      ],
      "metadata": {
        "id": "94RRVursadWr",
        "colab": {
          "base_uri": "https://localhost:8080/",
          "height": 623
        },
        "outputId": "29d6cf38-ec62-4b0d-bcb2-b33ea02372d2"
      },
      "execution_count": 145,
      "outputs": [
        {
          "output_type": "stream",
          "name": "stderr",
          "text": [
            "/usr/local/lib/python3.7/dist-packages/ipykernel_launcher.py:24: SettingWithCopyWarning: \n",
            "A value is trying to be set on a copy of a slice from a DataFrame.\n",
            "Try using .loc[row_indexer,col_indexer] = value instead\n",
            "\n",
            "See the caveats in the documentation: https://pandas.pydata.org/pandas-docs/stable/user_guide/indexing.html#returning-a-view-versus-a-copy\n",
            "/usr/local/lib/python3.7/dist-packages/ipykernel_launcher.py:25: SettingWithCopyWarning: \n",
            "A value is trying to be set on a copy of a slice from a DataFrame.\n",
            "Try using .loc[row_indexer,col_indexer] = value instead\n",
            "\n",
            "See the caveats in the documentation: https://pandas.pydata.org/pandas-docs/stable/user_guide/indexing.html#returning-a-view-versus-a-copy\n",
            "/usr/local/lib/python3.7/dist-packages/ipykernel_launcher.py:26: SettingWithCopyWarning: \n",
            "A value is trying to be set on a copy of a slice from a DataFrame.\n",
            "Try using .loc[row_indexer,col_indexer] = value instead\n",
            "\n",
            "See the caveats in the documentation: https://pandas.pydata.org/pandas-docs/stable/user_guide/indexing.html#returning-a-view-versus-a-copy\n"
          ]
        },
        {
          "output_type": "execute_result",
          "data": {
            "text/plain": [
              "      RecipeId                             Name  Rating  AggregatedRating  \\\n",
              "4579      9327  Double Chocolate Banana Muffins     162                 5   \n",
              "2808      6653     Blueberry Buttermilk Muffins     137                 5   \n",
              "4533      9244                     Banana Bread      24                 5   \n",
              "1518      3520               Pear Bread Delight      21                 5   \n",
              "4950      9979    Chocolate Chip Banana Muffins      16                 5   \n",
              "2771      6605                      Apple Bread      15                 5   \n",
              "329        487                 Irish Soda Bread      15                 5   \n",
              "1304      3201   Holiday Season Cranberry Bread      12                 5   \n",
              "3553      7888            Rhubarb-Pecan Muffins      12                 5   \n",
              "4364      9036          Sour Cream Banana Bread      12                 5   \n",
              "\n",
              "            wr  \n",
              "4579  4.894527  \n",
              "2808  4.880502  \n",
              "4533  4.700457  \n",
              "1518  4.687977  \n",
              "4950  4.664691  \n",
              "2771  4.659611  \n",
              "329   4.659611  \n",
              "1304  4.643402  \n",
              "3553  4.643402  \n",
              "4364  4.643402  "
            ],
            "text/html": [
              "\n",
              "  <div id=\"df-ca26daa1-46e3-4183-9d6a-7134f7f6303b\">\n",
              "    <div class=\"colab-df-container\">\n",
              "      <div>\n",
              "<style scoped>\n",
              "    .dataframe tbody tr th:only-of-type {\n",
              "        vertical-align: middle;\n",
              "    }\n",
              "\n",
              "    .dataframe tbody tr th {\n",
              "        vertical-align: top;\n",
              "    }\n",
              "\n",
              "    .dataframe thead th {\n",
              "        text-align: right;\n",
              "    }\n",
              "</style>\n",
              "<table border=\"1\" class=\"dataframe\">\n",
              "  <thead>\n",
              "    <tr style=\"text-align: right;\">\n",
              "      <th></th>\n",
              "      <th>RecipeId</th>\n",
              "      <th>Name</th>\n",
              "      <th>Rating</th>\n",
              "      <th>AggregatedRating</th>\n",
              "      <th>wr</th>\n",
              "    </tr>\n",
              "  </thead>\n",
              "  <tbody>\n",
              "    <tr>\n",
              "      <th>4579</th>\n",
              "      <td>9327</td>\n",
              "      <td>Double Chocolate Banana Muffins</td>\n",
              "      <td>162</td>\n",
              "      <td>5</td>\n",
              "      <td>4.894527</td>\n",
              "    </tr>\n",
              "    <tr>\n",
              "      <th>2808</th>\n",
              "      <td>6653</td>\n",
              "      <td>Blueberry Buttermilk Muffins</td>\n",
              "      <td>137</td>\n",
              "      <td>5</td>\n",
              "      <td>4.880502</td>\n",
              "    </tr>\n",
              "    <tr>\n",
              "      <th>4533</th>\n",
              "      <td>9244</td>\n",
              "      <td>Banana Bread</td>\n",
              "      <td>24</td>\n",
              "      <td>5</td>\n",
              "      <td>4.700457</td>\n",
              "    </tr>\n",
              "    <tr>\n",
              "      <th>1518</th>\n",
              "      <td>3520</td>\n",
              "      <td>Pear Bread Delight</td>\n",
              "      <td>21</td>\n",
              "      <td>5</td>\n",
              "      <td>4.687977</td>\n",
              "    </tr>\n",
              "    <tr>\n",
              "      <th>4950</th>\n",
              "      <td>9979</td>\n",
              "      <td>Chocolate Chip Banana Muffins</td>\n",
              "      <td>16</td>\n",
              "      <td>5</td>\n",
              "      <td>4.664691</td>\n",
              "    </tr>\n",
              "    <tr>\n",
              "      <th>2771</th>\n",
              "      <td>6605</td>\n",
              "      <td>Apple Bread</td>\n",
              "      <td>15</td>\n",
              "      <td>5</td>\n",
              "      <td>4.659611</td>\n",
              "    </tr>\n",
              "    <tr>\n",
              "      <th>329</th>\n",
              "      <td>487</td>\n",
              "      <td>Irish Soda Bread</td>\n",
              "      <td>15</td>\n",
              "      <td>5</td>\n",
              "      <td>4.659611</td>\n",
              "    </tr>\n",
              "    <tr>\n",
              "      <th>1304</th>\n",
              "      <td>3201</td>\n",
              "      <td>Holiday Season Cranberry Bread</td>\n",
              "      <td>12</td>\n",
              "      <td>5</td>\n",
              "      <td>4.643402</td>\n",
              "    </tr>\n",
              "    <tr>\n",
              "      <th>3553</th>\n",
              "      <td>7888</td>\n",
              "      <td>Rhubarb-Pecan Muffins</td>\n",
              "      <td>12</td>\n",
              "      <td>5</td>\n",
              "      <td>4.643402</td>\n",
              "    </tr>\n",
              "    <tr>\n",
              "      <th>4364</th>\n",
              "      <td>9036</td>\n",
              "      <td>Sour Cream Banana Bread</td>\n",
              "      <td>12</td>\n",
              "      <td>5</td>\n",
              "      <td>4.643402</td>\n",
              "    </tr>\n",
              "  </tbody>\n",
              "</table>\n",
              "</div>\n",
              "      <button class=\"colab-df-convert\" onclick=\"convertToInteractive('df-ca26daa1-46e3-4183-9d6a-7134f7f6303b')\"\n",
              "              title=\"Convert this dataframe to an interactive table.\"\n",
              "              style=\"display:none;\">\n",
              "        \n",
              "  <svg xmlns=\"http://www.w3.org/2000/svg\" height=\"24px\"viewBox=\"0 0 24 24\"\n",
              "       width=\"24px\">\n",
              "    <path d=\"M0 0h24v24H0V0z\" fill=\"none\"/>\n",
              "    <path d=\"M18.56 5.44l.94 2.06.94-2.06 2.06-.94-2.06-.94-.94-2.06-.94 2.06-2.06.94zm-11 1L8.5 8.5l.94-2.06 2.06-.94-2.06-.94L8.5 2.5l-.94 2.06-2.06.94zm10 10l.94 2.06.94-2.06 2.06-.94-2.06-.94-.94-2.06-.94 2.06-2.06.94z\"/><path d=\"M17.41 7.96l-1.37-1.37c-.4-.4-.92-.59-1.43-.59-.52 0-1.04.2-1.43.59L10.3 9.45l-7.72 7.72c-.78.78-.78 2.05 0 2.83L4 21.41c.39.39.9.59 1.41.59.51 0 1.02-.2 1.41-.59l7.78-7.78 2.81-2.81c.8-.78.8-2.07 0-2.86zM5.41 20L4 18.59l7.72-7.72 1.47 1.35L5.41 20z\"/>\n",
              "  </svg>\n",
              "      </button>\n",
              "      \n",
              "  <style>\n",
              "    .colab-df-container {\n",
              "      display:flex;\n",
              "      flex-wrap:wrap;\n",
              "      gap: 12px;\n",
              "    }\n",
              "\n",
              "    .colab-df-convert {\n",
              "      background-color: #E8F0FE;\n",
              "      border: none;\n",
              "      border-radius: 50%;\n",
              "      cursor: pointer;\n",
              "      display: none;\n",
              "      fill: #1967D2;\n",
              "      height: 32px;\n",
              "      padding: 0 0 0 0;\n",
              "      width: 32px;\n",
              "    }\n",
              "\n",
              "    .colab-df-convert:hover {\n",
              "      background-color: #E2EBFA;\n",
              "      box-shadow: 0px 1px 2px rgba(60, 64, 67, 0.3), 0px 1px 3px 1px rgba(60, 64, 67, 0.15);\n",
              "      fill: #174EA6;\n",
              "    }\n",
              "\n",
              "    [theme=dark] .colab-df-convert {\n",
              "      background-color: #3B4455;\n",
              "      fill: #D2E3FC;\n",
              "    }\n",
              "\n",
              "    [theme=dark] .colab-df-convert:hover {\n",
              "      background-color: #434B5C;\n",
              "      box-shadow: 0px 1px 3px 1px rgba(0, 0, 0, 0.15);\n",
              "      filter: drop-shadow(0px 1px 2px rgba(0, 0, 0, 0.3));\n",
              "      fill: #FFFFFF;\n",
              "    }\n",
              "  </style>\n",
              "\n",
              "      <script>\n",
              "        const buttonEl =\n",
              "          document.querySelector('#df-ca26daa1-46e3-4183-9d6a-7134f7f6303b button.colab-df-convert');\n",
              "        buttonEl.style.display =\n",
              "          google.colab.kernel.accessAllowed ? 'block' : 'none';\n",
              "\n",
              "        async function convertToInteractive(key) {\n",
              "          const element = document.querySelector('#df-ca26daa1-46e3-4183-9d6a-7134f7f6303b');\n",
              "          const dataTable =\n",
              "            await google.colab.kernel.invokeFunction('convertToInteractive',\n",
              "                                                     [key], {});\n",
              "          if (!dataTable) return;\n",
              "\n",
              "          const docLinkHtml = 'Like what you see? Visit the ' +\n",
              "            '<a target=\"_blank\" href=https://colab.research.google.com/notebooks/data_table.ipynb>data table notebook</a>'\n",
              "            + ' to learn more about interactive tables.';\n",
              "          element.innerHTML = '';\n",
              "          dataTable['output_type'] = 'display_data';\n",
              "          await google.colab.output.renderOutput(dataTable, element);\n",
              "          const docLink = document.createElement('div');\n",
              "          docLink.innerHTML = docLinkHtml;\n",
              "          element.appendChild(docLink);\n",
              "        }\n",
              "      </script>\n",
              "    </div>\n",
              "  </div>\n",
              "  "
            ]
          },
          "metadata": {},
          "execution_count": 145
        }
      ]
    },
    {
      "cell_type": "code",
      "source": [
        "improvedContentBasedRecommendations('Biryani')"
      ],
      "metadata": {
        "id": "8jcCPqa_Z9Rz",
        "colab": {
          "base_uri": "https://localhost:8080/",
          "height": 623
        },
        "outputId": "68aa1b2a-e5d6-46d9-ff00-bf76779d440d"
      },
      "execution_count": 147,
      "outputs": [
        {
          "output_type": "stream",
          "name": "stderr",
          "text": [
            "/usr/local/lib/python3.7/dist-packages/ipykernel_launcher.py:48: SettingWithCopyWarning: \n",
            "A value is trying to be set on a copy of a slice from a DataFrame.\n",
            "Try using .loc[row_indexer,col_indexer] = value instead\n",
            "\n",
            "See the caveats in the documentation: https://pandas.pydata.org/pandas-docs/stable/user_guide/indexing.html#returning-a-view-versus-a-copy\n",
            "/usr/local/lib/python3.7/dist-packages/ipykernel_launcher.py:49: SettingWithCopyWarning: \n",
            "A value is trying to be set on a copy of a slice from a DataFrame.\n",
            "Try using .loc[row_indexer,col_indexer] = value instead\n",
            "\n",
            "See the caveats in the documentation: https://pandas.pydata.org/pandas-docs/stable/user_guide/indexing.html#returning-a-view-versus-a-copy\n",
            "/usr/local/lib/python3.7/dist-packages/ipykernel_launcher.py:50: SettingWithCopyWarning: \n",
            "A value is trying to be set on a copy of a slice from a DataFrame.\n",
            "Try using .loc[row_indexer,col_indexer] = value instead\n",
            "\n",
            "See the caveats in the documentation: https://pandas.pydata.org/pandas-docs/stable/user_guide/indexing.html#returning-a-view-versus-a-copy\n"
          ]
        },
        {
          "output_type": "execute_result",
          "data": {
            "text/plain": [
              "      RecipeId                                               Name  Rating  \\\n",
              "641       1356  Ground Beef Stuffed Green Bell Peppers With Ch...     320   \n",
              "4465      9160                                       Rice Pudding     228   \n",
              "2312      4891        Bon Appetit's Mulligatawny Soup ( Chicken )      17   \n",
              "3574      7929                               Classic Steamed Rice      13   \n",
              "2755      6582            Basmati Rice Seasoned with Garam Masala      10   \n",
              "4284      8936                          Rice with a Chilean Flair       6   \n",
              "4286      8938  Iranian Rice with Beans and Dill Weed (Baqala ...       6   \n",
              "5511     10713                                      Rice and Peas       6   \n",
              "2257      4785                                       Coconut Rice      21   \n",
              "4281      8932              M'Juderah (Lebanese rice and lentils)       6   \n",
              "\n",
              "      AggregatedRating        wr  \n",
              "641                  5  4.939446  \n",
              "4465                 5  4.919478  \n",
              "2312                 5  4.669622  \n",
              "3574                 5  4.648974  \n",
              "2755                 5  4.631710  \n",
              "4284                 5  4.605865  \n",
              "4286                 5  4.605865  \n",
              "5511                 4  4.500602  \n",
              "2257                 4  4.396310  \n",
              "4281                 3  4.395339  "
            ],
            "text/html": [
              "\n",
              "  <div id=\"df-9749c595-e4f3-4a1d-bd57-edb3d92e4592\">\n",
              "    <div class=\"colab-df-container\">\n",
              "      <div>\n",
              "<style scoped>\n",
              "    .dataframe tbody tr th:only-of-type {\n",
              "        vertical-align: middle;\n",
              "    }\n",
              "\n",
              "    .dataframe tbody tr th {\n",
              "        vertical-align: top;\n",
              "    }\n",
              "\n",
              "    .dataframe thead th {\n",
              "        text-align: right;\n",
              "    }\n",
              "</style>\n",
              "<table border=\"1\" class=\"dataframe\">\n",
              "  <thead>\n",
              "    <tr style=\"text-align: right;\">\n",
              "      <th></th>\n",
              "      <th>RecipeId</th>\n",
              "      <th>Name</th>\n",
              "      <th>Rating</th>\n",
              "      <th>AggregatedRating</th>\n",
              "      <th>wr</th>\n",
              "    </tr>\n",
              "  </thead>\n",
              "  <tbody>\n",
              "    <tr>\n",
              "      <th>641</th>\n",
              "      <td>1356</td>\n",
              "      <td>Ground Beef Stuffed Green Bell Peppers With Ch...</td>\n",
              "      <td>320</td>\n",
              "      <td>5</td>\n",
              "      <td>4.939446</td>\n",
              "    </tr>\n",
              "    <tr>\n",
              "      <th>4465</th>\n",
              "      <td>9160</td>\n",
              "      <td>Rice Pudding</td>\n",
              "      <td>228</td>\n",
              "      <td>5</td>\n",
              "      <td>4.919478</td>\n",
              "    </tr>\n",
              "    <tr>\n",
              "      <th>2312</th>\n",
              "      <td>4891</td>\n",
              "      <td>Bon Appetit's Mulligatawny Soup ( Chicken )</td>\n",
              "      <td>17</td>\n",
              "      <td>5</td>\n",
              "      <td>4.669622</td>\n",
              "    </tr>\n",
              "    <tr>\n",
              "      <th>3574</th>\n",
              "      <td>7929</td>\n",
              "      <td>Classic Steamed Rice</td>\n",
              "      <td>13</td>\n",
              "      <td>5</td>\n",
              "      <td>4.648974</td>\n",
              "    </tr>\n",
              "    <tr>\n",
              "      <th>2755</th>\n",
              "      <td>6582</td>\n",
              "      <td>Basmati Rice Seasoned with Garam Masala</td>\n",
              "      <td>10</td>\n",
              "      <td>5</td>\n",
              "      <td>4.631710</td>\n",
              "    </tr>\n",
              "    <tr>\n",
              "      <th>4284</th>\n",
              "      <td>8936</td>\n",
              "      <td>Rice with a Chilean Flair</td>\n",
              "      <td>6</td>\n",
              "      <td>5</td>\n",
              "      <td>4.605865</td>\n",
              "    </tr>\n",
              "    <tr>\n",
              "      <th>4286</th>\n",
              "      <td>8938</td>\n",
              "      <td>Iranian Rice with Beans and Dill Weed (Baqala ...</td>\n",
              "      <td>6</td>\n",
              "      <td>5</td>\n",
              "      <td>4.605865</td>\n",
              "    </tr>\n",
              "    <tr>\n",
              "      <th>5511</th>\n",
              "      <td>10713</td>\n",
              "      <td>Rice and Peas</td>\n",
              "      <td>6</td>\n",
              "      <td>4</td>\n",
              "      <td>4.500602</td>\n",
              "    </tr>\n",
              "    <tr>\n",
              "      <th>2257</th>\n",
              "      <td>4785</td>\n",
              "      <td>Coconut Rice</td>\n",
              "      <td>21</td>\n",
              "      <td>4</td>\n",
              "      <td>4.396310</td>\n",
              "    </tr>\n",
              "    <tr>\n",
              "      <th>4281</th>\n",
              "      <td>8932</td>\n",
              "      <td>M'Juderah (Lebanese rice and lentils)</td>\n",
              "      <td>6</td>\n",
              "      <td>3</td>\n",
              "      <td>4.395339</td>\n",
              "    </tr>\n",
              "  </tbody>\n",
              "</table>\n",
              "</div>\n",
              "      <button class=\"colab-df-convert\" onclick=\"convertToInteractive('df-9749c595-e4f3-4a1d-bd57-edb3d92e4592')\"\n",
              "              title=\"Convert this dataframe to an interactive table.\"\n",
              "              style=\"display:none;\">\n",
              "        \n",
              "  <svg xmlns=\"http://www.w3.org/2000/svg\" height=\"24px\"viewBox=\"0 0 24 24\"\n",
              "       width=\"24px\">\n",
              "    <path d=\"M0 0h24v24H0V0z\" fill=\"none\"/>\n",
              "    <path d=\"M18.56 5.44l.94 2.06.94-2.06 2.06-.94-2.06-.94-.94-2.06-.94 2.06-2.06.94zm-11 1L8.5 8.5l.94-2.06 2.06-.94-2.06-.94L8.5 2.5l-.94 2.06-2.06.94zm10 10l.94 2.06.94-2.06 2.06-.94-2.06-.94-.94-2.06-.94 2.06-2.06.94z\"/><path d=\"M17.41 7.96l-1.37-1.37c-.4-.4-.92-.59-1.43-.59-.52 0-1.04.2-1.43.59L10.3 9.45l-7.72 7.72c-.78.78-.78 2.05 0 2.83L4 21.41c.39.39.9.59 1.41.59.51 0 1.02-.2 1.41-.59l7.78-7.78 2.81-2.81c.8-.78.8-2.07 0-2.86zM5.41 20L4 18.59l7.72-7.72 1.47 1.35L5.41 20z\"/>\n",
              "  </svg>\n",
              "      </button>\n",
              "      \n",
              "  <style>\n",
              "    .colab-df-container {\n",
              "      display:flex;\n",
              "      flex-wrap:wrap;\n",
              "      gap: 12px;\n",
              "    }\n",
              "\n",
              "    .colab-df-convert {\n",
              "      background-color: #E8F0FE;\n",
              "      border: none;\n",
              "      border-radius: 50%;\n",
              "      cursor: pointer;\n",
              "      display: none;\n",
              "      fill: #1967D2;\n",
              "      height: 32px;\n",
              "      padding: 0 0 0 0;\n",
              "      width: 32px;\n",
              "    }\n",
              "\n",
              "    .colab-df-convert:hover {\n",
              "      background-color: #E2EBFA;\n",
              "      box-shadow: 0px 1px 2px rgba(60, 64, 67, 0.3), 0px 1px 3px 1px rgba(60, 64, 67, 0.15);\n",
              "      fill: #174EA6;\n",
              "    }\n",
              "\n",
              "    [theme=dark] .colab-df-convert {\n",
              "      background-color: #3B4455;\n",
              "      fill: #D2E3FC;\n",
              "    }\n",
              "\n",
              "    [theme=dark] .colab-df-convert:hover {\n",
              "      background-color: #434B5C;\n",
              "      box-shadow: 0px 1px 3px 1px rgba(0, 0, 0, 0.15);\n",
              "      filter: drop-shadow(0px 1px 2px rgba(0, 0, 0, 0.3));\n",
              "      fill: #FFFFFF;\n",
              "    }\n",
              "  </style>\n",
              "\n",
              "      <script>\n",
              "        const buttonEl =\n",
              "          document.querySelector('#df-9749c595-e4f3-4a1d-bd57-edb3d92e4592 button.colab-df-convert');\n",
              "        buttonEl.style.display =\n",
              "          google.colab.kernel.accessAllowed ? 'block' : 'none';\n",
              "\n",
              "        async function convertToInteractive(key) {\n",
              "          const element = document.querySelector('#df-9749c595-e4f3-4a1d-bd57-edb3d92e4592');\n",
              "          const dataTable =\n",
              "            await google.colab.kernel.invokeFunction('convertToInteractive',\n",
              "                                                     [key], {});\n",
              "          if (!dataTable) return;\n",
              "\n",
              "          const docLinkHtml = 'Like what you see? Visit the ' +\n",
              "            '<a target=\"_blank\" href=https://colab.research.google.com/notebooks/data_table.ipynb>data table notebook</a>'\n",
              "            + ' to learn more about interactive tables.';\n",
              "          element.innerHTML = '';\n",
              "          dataTable['output_type'] = 'display_data';\n",
              "          await google.colab.output.renderOutput(dataTable, element);\n",
              "          const docLink = document.createElement('div');\n",
              "          docLink.innerHTML = docLinkHtml;\n",
              "          element.appendChild(docLink);\n",
              "        }\n",
              "      </script>\n",
              "    </div>\n",
              "  </div>\n",
              "  "
            ]
          },
          "metadata": {},
          "execution_count": 147
        }
      ]
    },
    {
      "cell_type": "markdown",
      "source": [
        "As we can see that recommendations are much better after having considered the content of the recipe along with the love it got from users. \n",
        "* Collaborative approach is only limited to an overall perspective of a recipe by the users. It does not mean that for every user, I have found similar other users and then based on their common interests, I have recommended recipes. This is the actual definition of a collaborative model but here, I have just made it limited to the ratings and reviews it got from other users in general. So, the final model is purely content based alongwith generalized collaborative approach making a hybrid model. ✌\n",
        "\n",
        "Hope you understood and enjoyed throughout! 😛"
      ],
      "metadata": {
        "id": "AHnAiQw3cWpf"
      }
    }
  ]
}